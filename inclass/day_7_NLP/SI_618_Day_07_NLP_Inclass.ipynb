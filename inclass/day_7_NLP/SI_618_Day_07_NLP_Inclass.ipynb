{
 "cells": [
  {
   "cell_type": "markdown",
   "metadata": {
    "slideshow": {
     "slide_type": "slide"
    },
    "tags": []
   },
   "source": [
    "# SI 618: Data Manipulation and Analysis\n",
    "## 07 Beyond regex: Natural Language Processing \n",
    "### Dr. Chris Teplovs, School of Information, University of Michigan\n",
    "<small><a rel=\"license\" href=\"http://creativecommons.org/licenses/by-nc-sa/4.0/\"><img alt=\"Creative Commons License\" style=\"border-width:0\" src=\"https://i.creativecommons.org/l/by-nc-sa/4.0/88x31.png\" /></a> This work is licensed under a <a rel=\"license\" href=\"http://creativecommons.org/licenses/by-nc-sa/4.0/\">Creative Commons Attribution-NonCommercial-ShareAlike 4.0 International License</a>.</small>\n",
    "    \n",
    "### Please ensure you have this version:\n",
    "Version 2023.10.10.1.CT\n"
   ]
  },
  {
   "attachments": {},
   "cell_type": "markdown",
   "metadata": {},
   "source": [
    "# Updates\n",
    "* project team formation"
   ]
  },
  {
   "cell_type": "code",
   "execution_count": 54,
   "metadata": {
    "slideshow": {
     "slide_type": "slide"
    }
   },
   "outputs": [],
   "source": [
    "import pandas as pd\n",
    "import numpy as np\n",
    "import re\n",
    "import seaborn as sns\n",
    "import matplotlib.pyplot as plt"
   ]
  },
  {
   "cell_type": "markdown",
   "metadata": {
    "slideshow": {
     "slide_type": "slide"
    }
   },
   "source": [
    "# spaCy"
   ]
  },
  {
   "cell_type": "markdown",
   "metadata": {
    "slideshow": {
     "slide_type": "subslide"
    }
   },
   "source": [
    "- Fast, and extensible NLP package for Python\n",
    "- <https://spacy.io/>\n",
    "- NOTE: You will need to install this, and then (one time only as well) download the English corpus."
   ]
  },
  {
   "cell_type": "code",
   "execution_count": 55,
   "metadata": {},
   "outputs": [],
   "source": [
    "import spacy"
   ]
  },
  {
   "cell_type": "code",
   "execution_count": 56,
   "metadata": {
    "slideshow": {
     "slide_type": "subslide"
    }
   },
   "outputs": [],
   "source": [
    "# NOTE: You should have already installed the following language model\n",
    "#       when you created your .venv virtual environment.  It is included\n",
    "#       in case you need to install it again, in which case you can uncomment\n",
    "#       the following line and run it.\n",
    "# !python -m spacy download en_core_web_sm"
   ]
  },
  {
   "cell_type": "code",
   "execution_count": 57,
   "metadata": {
    "slideshow": {
     "slide_type": "subslide"
    }
   },
   "outputs": [],
   "source": [
    "# loading up the language model: English\n",
    "# note that Windows users might need to figure out where\n",
    "# the previous cell installed the library and change the following line accordingly\n",
    "nlp = spacy.load(\"en_core_web_sm\")"
   ]
  },
  {
   "cell_type": "code",
   "execution_count": 58,
   "metadata": {
    "slideshow": {
     "slide_type": "subslide"
    }
   },
   "outputs": [],
   "source": [
    "# from Make It Stick: The Science of Successful Learning\n",
    "sentences = \"\"\"Michael Young is a high-achieving fourth-year medical\n",
    "student at Georgia Regents University who pulled himself up from rock\n",
    "bottom by changing the way he studies. Young entered medical school\n",
    "without the usual foundation of premed coursework. His classmates all had\n",
    "backgrounds in biochemistry, pharmacology, and the like. Medical\n",
    "school is plenty tough under any circumstances, but in Young's\n",
    "case even more so for lack of a footing.\"\"\""
   ]
  },
  {
   "cell_type": "code",
   "execution_count": 59,
   "metadata": {},
   "outputs": [
    {
     "name": "stdout",
     "output_type": "stream",
     "text": [
      "Michael Young is a high-achieving fourth-year medical\n",
      "student at Georgia Regents University who pulled himself up from rock\n",
      "bottom by changing the way he studies. Young entered medical school\n",
      "without the usual foundation of premed coursework. His classmates all had\n",
      "backgrounds in biochemistry, pharmacology, and the like. Medical\n",
      "school is plenty tough under any circumstances, but in Young's\n",
      "case even more so for lack of a footing.\n"
     ]
    }
   ],
   "source": [
    "print(sentences)"
   ]
  },
  {
   "cell_type": "code",
   "execution_count": 60,
   "metadata": {},
   "outputs": [
    {
     "data": {
      "text/plain": [
       "\"Michael Young is a high-achieving fourth-year medical\\nstudent at Georgia Regents University who pulled himself up from rock\\nbottom by changing the way he studies. Young entered medical school\\nwithout the usual foundation of premed coursework. His classmates all had\\nbackgrounds in biochemistry, pharmacology, and the like. Medical\\nschool is plenty tough under any circumstances, but in Young's\\ncase even more so for lack of a footing.\""
      ]
     },
     "execution_count": 60,
     "metadata": {},
     "output_type": "execute_result"
    }
   ],
   "source": [
    "sentences"
   ]
  },
  {
   "cell_type": "markdown",
   "metadata": {
    "slideshow": {
     "slide_type": "subslide"
    }
   },
   "source": [
    "### Goal: calculate the frequency of each word\n",
    "- See which words are more frequent\n",
    "- Generate a meaningful summary for the above paragraph?"
   ]
  },
  {
   "cell_type": "markdown",
   "metadata": {
    "slideshow": {
     "slide_type": "subslide"
    }
   },
   "source": [
    "#### Normalizing the text by lowering the case"
   ]
  },
  {
   "cell_type": "code",
   "execution_count": 61,
   "metadata": {
    "slideshow": {
     "slide_type": "subslide"
    }
   },
   "outputs": [
    {
     "data": {
      "text/plain": [
       "str"
      ]
     },
     "execution_count": 61,
     "metadata": {},
     "output_type": "execute_result"
    }
   ],
   "source": [
    "type(sentences)"
   ]
  },
  {
   "cell_type": "code",
   "execution_count": 62,
   "metadata": {
    "slideshow": {
     "slide_type": "subslide"
    }
   },
   "outputs": [
    {
     "data": {
      "text/plain": [
       "\"michael young is a high-achieving fourth-year medical\\nstudent at georgia regents university who pulled himself up from rock\\nbottom by changing the way he studies. young entered medical school\\nwithout the usual foundation of premed coursework. his classmates all had\\nbackgrounds in biochemistry, pharmacology, and the like. medical\\nschool is plenty tough under any circumstances, but in young's\\ncase even more so for lack of a footing.\""
      ]
     },
     "execution_count": 62,
     "metadata": {},
     "output_type": "execute_result"
    }
   ],
   "source": [
    "sentences_lower = sentences.lower()\n",
    "sentences_lower"
   ]
  },
  {
   "cell_type": "markdown",
   "metadata": {
    "slideshow": {
     "slide_type": "subslide"
    },
    "toc-hr-collapsed": false
   },
   "source": [
    "## 0-2. remove punctuation and special characters"
   ]
  },
  {
   "cell_type": "markdown",
   "metadata": {
    "slideshow": {
     "slide_type": "subslide"
    }
   },
   "source": [
    "#### Exclude special characters one by one"
   ]
  },
  {
   "cell_type": "markdown",
   "metadata": {
    "slideshow": {
     "slide_type": "subslide"
    }
   },
   "source": [
    "#### Alternatively, we can use regular expression to remove punctuations\n",
    "- So we don't have to list up all possible special characters that we want to remove\n",
    "- https://docs.python.org/3.4/library/re.html\n",
    "- https://en.wikipedia.org/wiki/Regular_expression"
   ]
  },
  {
   "cell_type": "code",
   "execution_count": 63,
   "metadata": {
    "slideshow": {
     "slide_type": "subslide"
    }
   },
   "outputs": [
    {
     "data": {
      "text/plain": [
       "'michael young is a high achieving fourth year medical\\nstudent at georgia regents university who pulled himself up from rock\\nbottom by changing the way he studies  young entered medical school\\nwithout the usual foundation of premed coursework  his classmates all had\\nbackgrounds in biochemistry  pharmacology  and the like  medical\\nschool is plenty tough under any circumstances  but in young s\\ncase even more so for lack of a footing '"
      ]
     },
     "execution_count": 63,
     "metadata": {},
     "output_type": "execute_result"
    }
   ],
   "source": [
    "sentences_lower_no_punctuation = re.sub(r'[^\\w\\s]+', ' ', sentences_lower)\n",
    "sentences_lower_no_punctuation"
   ]
  },
  {
   "cell_type": "markdown",
   "metadata": {},
   "source": [
    "### And one more way..."
   ]
  },
  {
   "cell_type": "markdown",
   "metadata": {},
   "source": [
    "Regular expressions:\n",
    "\n",
    "^ means \"beginning of string\" \n",
    "UNLESS it's in [ ], in which case it means \"not\"\n",
    "\n",
    "r'^The' # means The at the beginning of a string\n",
    "r'^[The]' # means any one of T or h or e at the beginning of a string\n",
    "t'^[^The]' # means any character other than T,h,or e at the beginning"
   ]
  },
  {
   "cell_type": "code",
   "execution_count": 64,
   "metadata": {},
   "outputs": [
    {
     "data": {
      "text/plain": [
       "'michael young is a high achieving fourth year medical\\nstudent at georgia regents university who pulled himself up from rock\\nbottom by changing the way he studies  young entered medical school\\nwithout the usual foundation of premed coursework  his classmates all had\\nbackgrounds in biochemistry  pharmacology  and the like  medical\\nschool is plenty tough under any circumstances  but in young s\\ncase even more so for lack of a footing '"
      ]
     },
     "execution_count": 64,
     "metadata": {},
     "output_type": "execute_result"
    }
   ],
   "source": [
    "# remove punctuation and special characters from the sentences_lower string\n",
    "sentences_lower_no_punctuation = re.sub(r'[^\\w\\s]+', ' ', sentences_lower)\n",
    "sentences_lower_no_punctuation\n"
   ]
  },
  {
   "cell_type": "markdown",
   "metadata": {},
   "source": [
    "And still one more way:"
   ]
  },
  {
   "cell_type": "code",
   "execution_count": 65,
   "metadata": {},
   "outputs": [
    {
     "data": {
      "text/plain": [
       "'!\"#$%&\\'()*+,-./:;<=>?@[\\\\]^_`{|}~'"
      ]
     },
     "execution_count": 65,
     "metadata": {},
     "output_type": "execute_result"
    }
   ],
   "source": [
    "import string\n",
    "string.punctuation"
   ]
  },
  {
   "cell_type": "code",
   "execution_count": 66,
   "metadata": {},
   "outputs": [
    {
     "data": {
      "text/plain": [
       "'michael young is a highachieving fourthyear medical\\nstudent at georgia regents university who pulled himself up from rock\\nbottom by changing the way he studies young entered medical school\\nwithout the usual foundation of premed coursework his classmates all had\\nbackgrounds in biochemistry pharmacology and the like medical\\nschool is plenty tough under any circumstances but in youngs\\ncase even more so for lack of a footing'"
      ]
     },
     "execution_count": 66,
     "metadata": {},
     "output_type": "execute_result"
    }
   ],
   "source": [
    "# remove punctuation and special characters from the sentences_lower string using maketrans:\n",
    "sentences_lower_no_punctuation = sentences_lower.translate(\n",
    "    str.maketrans('', '', string.punctuation))\n",
    "sentences_lower_no_punctuation"
   ]
  },
  {
   "cell_type": "markdown",
   "metadata": {},
   "source": [
    "Remember our task at hand: determining the frequency of each word in a document."
   ]
  },
  {
   "cell_type": "markdown",
   "metadata": {
    "slideshow": {
     "slide_type": "subslide"
    }
   },
   "source": [
    "- Split the paragraph into a list of words"
   ]
  },
  {
   "cell_type": "code",
   "execution_count": 67,
   "metadata": {},
   "outputs": [],
   "source": [
    "words = sentences_lower_no_punctuation.split()"
   ]
  },
  {
   "cell_type": "code",
   "execution_count": 68,
   "metadata": {},
   "outputs": [
    {
     "data": {
      "text/plain": [
       "['michael',\n",
       " 'young',\n",
       " 'is',\n",
       " 'a',\n",
       " 'highachieving',\n",
       " 'fourthyear',\n",
       " 'medical',\n",
       " 'student',\n",
       " 'at',\n",
       " 'georgia']"
      ]
     },
     "execution_count": 68,
     "metadata": {},
     "output_type": "execute_result"
    }
   ],
   "source": [
    "words[:10]"
   ]
  },
  {
   "cell_type": "markdown",
   "metadata": {
    "slideshow": {
     "slide_type": "subslide"
    }
   },
   "source": [
    "- Count the words from the list\n",
    "- Words that can occur in any kind of paragraphs...?"
   ]
  },
  {
   "cell_type": "code",
   "execution_count": 69,
   "metadata": {},
   "outputs": [
    {
     "data": {
      "text/plain": [
       "{'michael': 1,\n",
       " 'young': 2,\n",
       " 'is': 2,\n",
       " 'a': 2,\n",
       " 'highachieving': 1,\n",
       " 'fourthyear': 1,\n",
       " 'medical': 3,\n",
       " 'student': 1,\n",
       " 'at': 1,\n",
       " 'georgia': 1,\n",
       " 'regents': 1,\n",
       " 'university': 1,\n",
       " 'who': 1,\n",
       " 'pulled': 1,\n",
       " 'himself': 1,\n",
       " 'up': 1,\n",
       " 'from': 1,\n",
       " 'rock': 1,\n",
       " 'bottom': 1,\n",
       " 'by': 1,\n",
       " 'changing': 1,\n",
       " 'the': 3,\n",
       " 'way': 1,\n",
       " 'he': 1,\n",
       " 'studies': 1,\n",
       " 'entered': 1,\n",
       " 'school': 2,\n",
       " 'without': 1,\n",
       " 'usual': 1,\n",
       " 'foundation': 1,\n",
       " 'of': 2,\n",
       " 'premed': 1,\n",
       " 'coursework': 1,\n",
       " 'his': 1,\n",
       " 'classmates': 1,\n",
       " 'all': 1,\n",
       " 'had': 1,\n",
       " 'backgrounds': 1,\n",
       " 'in': 2,\n",
       " 'biochemistry': 1,\n",
       " 'pharmacology': 1,\n",
       " 'and': 1,\n",
       " 'like': 1,\n",
       " 'plenty': 1,\n",
       " 'tough': 1,\n",
       " 'under': 1,\n",
       " 'any': 1,\n",
       " 'circumstances': 1,\n",
       " 'but': 1,\n",
       " 'youngs': 1,\n",
       " 'case': 1,\n",
       " 'even': 1,\n",
       " 'more': 1,\n",
       " 'so': 1,\n",
       " 'for': 1,\n",
       " 'lack': 1,\n",
       " 'footing': 1}"
      ]
     },
     "execution_count": 69,
     "metadata": {},
     "output_type": "execute_result"
    }
   ],
   "source": [
    "d = {}\n",
    "for word in words:\n",
    "    if word in d:\n",
    "        d[word] = d[word] + 1\n",
    "    else:\n",
    "        d[word] = 1\n",
    "d"
   ]
  },
  {
   "cell_type": "code",
   "execution_count": 70,
   "metadata": {},
   "outputs": [],
   "source": [
    "from collections import defaultdict\n",
    "d = defaultdict(int)\n",
    "for word in words:\n",
    "    d[word] += 1"
   ]
  },
  {
   "cell_type": "code",
   "execution_count": 71,
   "metadata": {
    "slideshow": {
     "slide_type": "subslide"
    }
   },
   "outputs": [],
   "source": [
    "from collections import Counter"
   ]
  },
  {
   "cell_type": "code",
   "execution_count": 72,
   "metadata": {},
   "outputs": [
    {
     "data": {
      "text/plain": [
       "[('medical', 3),\n",
       " ('the', 3),\n",
       " ('young', 2),\n",
       " ('is', 2),\n",
       " ('a', 2),\n",
       " ('school', 2),\n",
       " ('of', 2),\n",
       " ('in', 2),\n",
       " ('michael', 1),\n",
       " ('highachieving', 1),\n",
       " ('fourthyear', 1),\n",
       " ('student', 1),\n",
       " ('at', 1),\n",
       " ('georgia', 1),\n",
       " ('regents', 1),\n",
       " ('university', 1),\n",
       " ('who', 1),\n",
       " ('pulled', 1),\n",
       " ('himself', 1),\n",
       " ('up', 1)]"
      ]
     },
     "execution_count": 72,
     "metadata": {},
     "output_type": "execute_result"
    }
   ],
   "source": [
    "Counter(words).most_common(20)"
   ]
  },
  {
   "cell_type": "code",
   "execution_count": 73,
   "metadata": {
    "slideshow": {
     "slide_type": "subslide"
    }
   },
   "outputs": [
    {
     "data": {
      "image/png": "[encoded data removed]",
      "text/plain": [
       "<Figure size 4500x1000 with 1 Axes>"
      ]
     },
     "metadata": {},
     "output_type": "display_data"
    }
   ],
   "source": [
    "plt.figure(figsize=(45,10))\n",
    "sns.countplot(x=words, order=pd.Series(words).value_counts().index)\n",
    "# sns.countplot(words_nostop, order=[counted[0] for counted in Counter(words_nostop).most_common()])\n",
    "plt.xticks(rotation=90)\n",
    "plt.show()"
   ]
  },
  {
   "cell_type": "markdown",
   "metadata": {
    "slideshow": {
     "slide_type": "slide"
    }
   },
   "source": [
    "## 0-3. Remove stop words"
   ]
  },
  {
   "cell_type": "markdown",
   "metadata": {
    "slideshow": {
     "slide_type": "subslide"
    }
   },
   "source": [
    "- Stop words usually refers to the most common words in a language\n",
    "    - No single universal stopwords\n",
    "    - Often stopwords are removed to improve the performance of NLP models\n",
    "    - https://en.wikipedia.org/wiki/Stop_words\n",
    "    - https://en.wikipedia.org/wiki/Most_common_words_in_English"
   ]
  },
  {
   "cell_type": "markdown",
   "metadata": {
    "slideshow": {
     "slide_type": "slide"
    }
   },
   "source": [
    "#### Import the list of stop words from ```spaCy```"
   ]
  },
  {
   "cell_type": "code",
   "execution_count": 74,
   "metadata": {
    "slideshow": {
     "slide_type": "subslide"
    }
   },
   "outputs": [],
   "source": [
    "from spacy.lang.en.stop_words import STOP_WORDS"
   ]
  },
  {
   "cell_type": "code",
   "execution_count": 75,
   "metadata": {
    "slideshow": {
     "slide_type": "subslide"
    }
   },
   "outputs": [
    {
     "data": {
      "text/plain": [
       "{\"'d\",\n",
       " \"'ll\",\n",
       " \"'m\",\n",
       " \"'re\",\n",
       " \"'s\",\n",
       " \"'ve\",\n",
       " 'a',\n",
       " 'about',\n",
       " 'above',\n",
       " 'across',\n",
       " 'after',\n",
       " 'afterwards',\n",
       " 'again',\n",
       " 'against',\n",
       " 'all',\n",
       " 'almost',\n",
       " 'alone',\n",
       " 'along',\n",
       " 'already',\n",
       " 'also',\n",
       " 'although',\n",
       " 'always',\n",
       " 'am',\n",
       " 'among',\n",
       " 'amongst',\n",
       " 'amount',\n",
       " 'an',\n",
       " 'and',\n",
       " 'another',\n",
       " 'any',\n",
       " 'anyhow',\n",
       " 'anyone',\n",
       " 'anything',\n",
       " 'anyway',\n",
       " 'anywhere',\n",
       " 'are',\n",
       " 'around',\n",
       " 'as',\n",
       " 'at',\n",
       " 'back',\n",
       " 'be',\n",
       " 'became',\n",
       " 'because',\n",
       " 'become',\n",
       " 'becomes',\n",
       " 'becoming',\n",
       " 'been',\n",
       " 'before',\n",
       " 'beforehand',\n",
       " 'behind',\n",
       " 'being',\n",
       " 'below',\n",
       " 'beside',\n",
       " 'besides',\n",
       " 'between',\n",
       " 'beyond',\n",
       " 'both',\n",
       " 'bottom',\n",
       " 'but',\n",
       " 'by',\n",
       " 'ca',\n",
       " 'call',\n",
       " 'can',\n",
       " 'cannot',\n",
       " 'could',\n",
       " 'did',\n",
       " 'do',\n",
       " 'does',\n",
       " 'doing',\n",
       " 'done',\n",
       " 'down',\n",
       " 'due',\n",
       " 'during',\n",
       " 'each',\n",
       " 'eight',\n",
       " 'either',\n",
       " 'eleven',\n",
       " 'else',\n",
       " 'elsewhere',\n",
       " 'empty',\n",
       " 'enough',\n",
       " 'even',\n",
       " 'ever',\n",
       " 'every',\n",
       " 'everyone',\n",
       " 'everything',\n",
       " 'everywhere',\n",
       " 'except',\n",
       " 'few',\n",
       " 'fifteen',\n",
       " 'fifty',\n",
       " 'first',\n",
       " 'five',\n",
       " 'for',\n",
       " 'former',\n",
       " 'formerly',\n",
       " 'forty',\n",
       " 'four',\n",
       " 'from',\n",
       " 'front',\n",
       " 'full',\n",
       " 'further',\n",
       " 'get',\n",
       " 'give',\n",
       " 'go',\n",
       " 'had',\n",
       " 'has',\n",
       " 'have',\n",
       " 'he',\n",
       " 'hence',\n",
       " 'her',\n",
       " 'here',\n",
       " 'hereafter',\n",
       " 'hereby',\n",
       " 'herein',\n",
       " 'hereupon',\n",
       " 'hers',\n",
       " 'herself',\n",
       " 'him',\n",
       " 'himself',\n",
       " 'his',\n",
       " 'how',\n",
       " 'however',\n",
       " 'hundred',\n",
       " 'i',\n",
       " 'if',\n",
       " 'in',\n",
       " 'indeed',\n",
       " 'into',\n",
       " 'is',\n",
       " 'it',\n",
       " 'its',\n",
       " 'itself',\n",
       " 'just',\n",
       " 'keep',\n",
       " 'last',\n",
       " 'latter',\n",
       " 'latterly',\n",
       " 'least',\n",
       " 'less',\n",
       " 'made',\n",
       " 'make',\n",
       " 'many',\n",
       " 'may',\n",
       " 'me',\n",
       " 'meanwhile',\n",
       " 'might',\n",
       " 'mine',\n",
       " 'more',\n",
       " 'moreover',\n",
       " 'most',\n",
       " 'mostly',\n",
       " 'move',\n",
       " 'much',\n",
       " 'must',\n",
       " 'my',\n",
       " 'myself',\n",
       " \"n't\",\n",
       " 'name',\n",
       " 'namely',\n",
       " 'neither',\n",
       " 'never',\n",
       " 'nevertheless',\n",
       " 'next',\n",
       " 'nine',\n",
       " 'no',\n",
       " 'nobody',\n",
       " 'none',\n",
       " 'noone',\n",
       " 'nor',\n",
       " 'not',\n",
       " 'nothing',\n",
       " 'now',\n",
       " 'nowhere',\n",
       " 'n‘t',\n",
       " 'n’t',\n",
       " 'of',\n",
       " 'off',\n",
       " 'often',\n",
       " 'on',\n",
       " 'once',\n",
       " 'one',\n",
       " 'only',\n",
       " 'onto',\n",
       " 'or',\n",
       " 'other',\n",
       " 'others',\n",
       " 'otherwise',\n",
       " 'our',\n",
       " 'ours',\n",
       " 'ourselves',\n",
       " 'out',\n",
       " 'over',\n",
       " 'own',\n",
       " 'part',\n",
       " 'per',\n",
       " 'perhaps',\n",
       " 'please',\n",
       " 'put',\n",
       " 'quite',\n",
       " 'rather',\n",
       " 're',\n",
       " 'really',\n",
       " 'regarding',\n",
       " 'same',\n",
       " 'say',\n",
       " 'see',\n",
       " 'seem',\n",
       " 'seemed',\n",
       " 'seeming',\n",
       " 'seems',\n",
       " 'serious',\n",
       " 'several',\n",
       " 'she',\n",
       " 'should',\n",
       " 'show',\n",
       " 'side',\n",
       " 'since',\n",
       " 'six',\n",
       " 'sixty',\n",
       " 'so',\n",
       " 'some',\n",
       " 'somehow',\n",
       " 'someone',\n",
       " 'something',\n",
       " 'sometime',\n",
       " 'sometimes',\n",
       " 'somewhere',\n",
       " 'still',\n",
       " 'such',\n",
       " 'take',\n",
       " 'ten',\n",
       " 'than',\n",
       " 'that',\n",
       " 'the',\n",
       " 'their',\n",
       " 'them',\n",
       " 'themselves',\n",
       " 'then',\n",
       " 'thence',\n",
       " 'there',\n",
       " 'thereafter',\n",
       " 'thereby',\n",
       " 'therefore',\n",
       " 'therein',\n",
       " 'thereupon',\n",
       " 'these',\n",
       " 'they',\n",
       " 'third',\n",
       " 'this',\n",
       " 'those',\n",
       " 'though',\n",
       " 'three',\n",
       " 'through',\n",
       " 'throughout',\n",
       " 'thru',\n",
       " 'thus',\n",
       " 'to',\n",
       " 'together',\n",
       " 'too',\n",
       " 'top',\n",
       " 'toward',\n",
       " 'towards',\n",
       " 'twelve',\n",
       " 'twenty',\n",
       " 'two',\n",
       " 'under',\n",
       " 'unless',\n",
       " 'until',\n",
       " 'up',\n",
       " 'upon',\n",
       " 'us',\n",
       " 'used',\n",
       " 'using',\n",
       " 'various',\n",
       " 'very',\n",
       " 'via',\n",
       " 'was',\n",
       " 'we',\n",
       " 'well',\n",
       " 'were',\n",
       " 'what',\n",
       " 'whatever',\n",
       " 'when',\n",
       " 'whence',\n",
       " 'whenever',\n",
       " 'where',\n",
       " 'whereafter',\n",
       " 'whereas',\n",
       " 'whereby',\n",
       " 'wherein',\n",
       " 'whereupon',\n",
       " 'wherever',\n",
       " 'whether',\n",
       " 'which',\n",
       " 'while',\n",
       " 'whither',\n",
       " 'who',\n",
       " 'whoever',\n",
       " 'whole',\n",
       " 'whom',\n",
       " 'whose',\n",
       " 'why',\n",
       " 'will',\n",
       " 'with',\n",
       " 'within',\n",
       " 'without',\n",
       " 'would',\n",
       " 'yet',\n",
       " 'you',\n",
       " 'your',\n",
       " 'yours',\n",
       " 'yourself',\n",
       " 'yourselves',\n",
       " '‘d',\n",
       " '‘ll',\n",
       " '‘m',\n",
       " '‘re',\n",
       " '‘s',\n",
       " '‘ve',\n",
       " '’d',\n",
       " '’ll',\n",
       " '’m',\n",
       " '’re',\n",
       " '’s',\n",
       " '’ve'}"
      ]
     },
     "execution_count": 75,
     "metadata": {},
     "output_type": "execute_result"
    }
   ],
   "source": [
    "STOP_WORDS"
   ]
  },
  {
   "cell_type": "markdown",
   "metadata": {
    "slideshow": {
     "slide_type": "slide"
    }
   },
   "source": [
    "#### Goal: We are going to count the frequency of each word from the paragraph, to see which words can be used to represent the paragraph's content. "
   ]
  },
  {
   "cell_type": "markdown",
   "metadata": {},
   "source": [
    "- Note that our paragraph is stored as a single string object..."
   ]
  },
  {
   "cell_type": "markdown",
   "metadata": {
    "slideshow": {
     "slide_type": "subslide"
    }
   },
   "source": [
    "#### When we removed stopwords:"
   ]
  },
  {
   "cell_type": "code",
   "execution_count": 76,
   "metadata": {
    "slideshow": {
     "slide_type": "subslide"
    }
   },
   "outputs": [],
   "source": [
    "words_no_stopwords = list()\n",
    "for word in words:\n",
    "    if word not in STOP_WORDS:\n",
    "        words_no_stopwords.append(word)"
   ]
  },
  {
   "attachments": {},
   "cell_type": "markdown",
   "metadata": {},
   "source": [
    "### <font color=\"magenta\"> Q1: Re-implement the code in the previous cell using a list comprehension</font>"
   ]
  },
  {
   "cell_type": "code",
   "execution_count": 77,
   "metadata": {},
   "outputs": [],
   "source": [
    "words_no_stopwords = [ word for word in words if word not in STOP_WORDS ]"
   ]
  },
  {
   "attachments": {},
   "cell_type": "markdown",
   "metadata": {},
   "source": [
    "### <font color=\"magenta\">Q2: Use a `Counter` to find the frequencies of each word in the `words_nostop` list.</font>"
   ]
  },
  {
   "cell_type": "code",
   "execution_count": 78,
   "metadata": {},
   "outputs": [
    {
     "data": {
      "text/plain": [
       "[('medical', 3),\n",
       " ('young', 2),\n",
       " ('school', 2),\n",
       " ('michael', 1),\n",
       " ('highachieving', 1),\n",
       " ('fourthyear', 1),\n",
       " ('student', 1),\n",
       " ('georgia', 1),\n",
       " ('regents', 1),\n",
       " ('university', 1),\n",
       " ('pulled', 1),\n",
       " ('rock', 1),\n",
       " ('changing', 1),\n",
       " ('way', 1),\n",
       " ('studies', 1),\n",
       " ('entered', 1),\n",
       " ('usual', 1),\n",
       " ('foundation', 1),\n",
       " ('premed', 1),\n",
       " ('coursework', 1)]"
      ]
     },
     "execution_count": 78,
     "metadata": {},
     "output_type": "execute_result"
    }
   ],
   "source": [
    "# insert your code here\n",
    "Counter(words_no_stopwords).most_common(20)"
   ]
  },
  {
   "attachments": {},
   "cell_type": "markdown",
   "metadata": {},
   "source": [
    "### <font color=\"magenta\">Q3: Create a bar chart showing the frequencies of the 10 most common words, alphabetically sorted.</font>"
   ]
  },
  {
   "cell_type": "code",
   "execution_count": 79,
   "metadata": {
    "slideshow": {
     "slide_type": "subslide"
    }
   },
   "outputs": [
    {
     "data": {
      "image/png": "[encoded data removed]",
      "text/plain": [
       "<Figure size 4500x1000 with 1 Axes>"
      ]
     },
     "metadata": {},
     "output_type": "display_data"
    }
   ],
   "source": [
    "# insert your code here\n",
    "plt.figure(figsize=(45,10))\n",
    "sns.countplot(x=words_no_stopwords, \\\n",
    "    order=pd.Series(words_no_stopwords).value_counts().index)\n",
    "# sns.countplot(words_nostop, order=[counted[0] for counted in Counter(words_nostop).most_common()])\n",
    "plt.xticks(rotation=90)\n",
    "plt.show()"
   ]
  },
  {
   "cell_type": "markdown",
   "metadata": {
    "slideshow": {
     "slide_type": "slide"
    }
   },
   "source": [
    "# 1. Extracting linguistic features from spaCy"
   ]
  },
  {
   "attachments": {},
   "cell_type": "markdown",
   "metadata": {
    "slideshow": {
     "slide_type": "subslide"
    }
   },
   "source": [
    "## 1-1. Tokenize\n",
    "- Token: a semantic unit for analysis\n",
    "    - (Loosely) equal term for word\n",
    "        - ```sent_low_pnct.split()```\n",
    "    - Tricky cases\n",
    "        - aren't $\\rightarrow$ ![](https://nlp.stanford.edu/IR-book/html/htmledition/img88.png) ![](https://nlp.stanford.edu/IR-book/html/htmledition/img89.png) ? ![](https://nlp.stanford.edu/IR-book/html/htmledition/img86.png) ?\n",
    "        - O'Neil $\\rightarrow$ ![](https://nlp.stanford.edu/IR-book/html/htmledition/img83.png) ? ![](https://nlp.stanford.edu/IR-book/html/htmledition/img84.png) ![](https://nlp.stanford.edu/IR-book/html/htmledition/img81.png) ?\n",
    "        - https://nlp.stanford.edu/IR-book/html/htmledition/tokenization-1.html\n",
    "- In ```spaCy```:\n",
    "    - Many token types, like word, punctuation symbol, whitespace, etc."
   ]
  },
  {
   "cell_type": "markdown",
   "metadata": {
    "slideshow": {
     "slide_type": "subslide"
    }
   },
   "source": [
    "### Let's dissect the sentence!\n",
    "\n",
    "- initializing the ```spaCy``` object "
   ]
  },
  {
   "cell_type": "code",
   "execution_count": 80,
   "metadata": {
    "slideshow": {
     "slide_type": "subslide"
    }
   },
   "outputs": [],
   "source": [
    "# examples partially taken from (now defunct) https://nlpforhackers.io/complete-guide-to-spacy/\n",
    "import spacy\n",
    "nlp = spacy.load('en_core_web_sm')"
   ]
  },
  {
   "cell_type": "code",
   "execution_count": 81,
   "metadata": {},
   "outputs": [
    {
     "data": {
      "text/plain": [
       "spacy.lang.en.English"
      ]
     },
     "execution_count": 81,
     "metadata": {},
     "output_type": "execute_result"
    }
   ],
   "source": [
    "type(nlp)"
   ]
  },
  {
   "cell_type": "markdown",
   "metadata": {
    "slideshow": {
     "slide_type": "subslide"
    }
   },
   "source": [
    "- Our sentence: \"Hello World!\"\n",
    "    - Pass the sentence string to the ```spaCy``` object ```nlp```"
   ]
  },
  {
   "cell_type": "code",
   "execution_count": 82,
   "metadata": {},
   "outputs": [],
   "source": [
    "doc = nlp(\"Hello World!\")"
   ]
  },
  {
   "cell_type": "markdown",
   "metadata": {
    "slideshow": {
     "slide_type": "subslide"
    }
   },
   "source": [
    "- The sentence is considered as a short document."
   ]
  },
  {
   "cell_type": "code",
   "execution_count": 83,
   "metadata": {},
   "outputs": [
    {
     "name": "stdout",
     "output_type": "stream",
     "text": [
      "<class 'spacy.tokens.doc.Doc'> Hello World!\n"
     ]
    }
   ],
   "source": [
    "print(type(doc), doc)"
   ]
  },
  {
   "cell_type": "code",
   "execution_count": 84,
   "metadata": {},
   "outputs": [
    {
     "data": {
      "text/plain": [
       "Hello"
      ]
     },
     "execution_count": 84,
     "metadata": {},
     "output_type": "execute_result"
    }
   ],
   "source": [
    "doc[0]"
   ]
  },
  {
   "cell_type": "code",
   "execution_count": 85,
   "metadata": {},
   "outputs": [
    {
     "data": {
      "text/plain": [
       "'H'"
      ]
     },
     "execution_count": 85,
     "metadata": {},
     "output_type": "execute_result"
    }
   ],
   "source": [
    "doc.text[0]"
   ]
  },
  {
   "cell_type": "markdown",
   "metadata": {
    "slideshow": {
     "slide_type": "subslide"
    }
   },
   "source": [
    "- As importing the sentence string above, ```spaCy``` split the sentence into tokens (tokenization!)"
   ]
  },
  {
   "cell_type": "code",
   "execution_count": 86,
   "metadata": {},
   "outputs": [
    {
     "name": "stdout",
     "output_type": "stream",
     "text": [
      "0 Hello\n",
      "1 World\n",
      "2 !\n"
     ]
    }
   ],
   "source": [
    "for i,token in enumerate(doc):\n",
    "    print(i, token)"
   ]
  },
  {
   "cell_type": "markdown",
   "metadata": {
    "slideshow": {
     "slide_type": "subslide"
    }
   },
   "source": [
    "- With index information (location from the sentence) of each token"
   ]
  },
  {
   "cell_type": "markdown",
   "metadata": {},
   "source": [
    "| 0 | 1 | 2 | 3 | 4 | 5 | 6 | 7 | 8 | 9 | 10| 11|\n",
    "|---|---|---|---|---|---|---|---|---|---|---|---|\n",
    "| H | e | l | l | o | _ | W | o | r | l | d | ! |"
   ]
  },
  {
   "cell_type": "code",
   "execution_count": 87,
   "metadata": {
    "slideshow": {
     "slide_type": "subslide"
    }
   },
   "outputs": [
    {
     "name": "stdout",
     "output_type": "stream",
     "text": [
      "0 Hello 0\n",
      "1 World 6\n",
      "2 ! 11\n"
     ]
    }
   ],
   "source": [
    "for i, token in enumerate(doc):\n",
    "    print(i, token.text, token.idx)\n"
   ]
  },
  {
   "cell_type": "markdown",
   "metadata": {
    "slideshow": {
     "slide_type": "subslide"
    }
   },
   "source": [
    "- And many more!\n",
    "    - https://spacy.io/api/token#attributes"
   ]
  },
  {
   "cell_type": "code",
   "execution_count": 88,
   "metadata": {
    "scrolled": true
   },
   "outputs": [
    {
     "data": {
      "text/plain": [
       "\"Michael Young is a high-achieving fourth-year medical\\nstudent at Georgia Regents University who pulled himself up from rock\\nbottom by changing the way he studies. Young entered medical school\\nwithout the usual foundation of premed coursework. His classmates all had\\nbackgrounds in biochemistry, pharmacology, and the like. Medical\\nschool is plenty tough under any circumstances, but in Young's\\ncase even more so for lack of a footing.\""
      ]
     },
     "execution_count": 88,
     "metadata": {},
     "output_type": "execute_result"
    }
   ],
   "source": [
    "sentences"
   ]
  },
  {
   "cell_type": "code",
   "execution_count": 89,
   "metadata": {},
   "outputs": [
    {
     "name": "stdout",
     "output_type": "stream",
     "text": [
      "text\tidx\tlemma\tlower\tpunct\tspace\tshape\tPOS\n",
      "Michael\t0\tMichael\tmichael\tFalse\tFalse\tXxxxx\tPROPN\n",
      "Young\t8\tYoung\tyoung\tFalse\tFalse\tXxxxx\tPROPN\n",
      "is\t14\tbe\tis\tFalse\tFalse\txx\tAUX\n",
      "a\t17\ta\ta\tFalse\tFalse\tx\tDET\n",
      "high\t19\thigh\thigh\tFalse\tFalse\txxxx\tADV\n",
      "-\t23\t-\t-\tTrue\tFalse\t-\tPUNCT\n",
      "achieving\t24\tachieve\tachieving\tFalse\tFalse\txxxx\tVERB\n",
      "fourth\t34\tfourth\tfourth\tFalse\tFalse\txxxx\tADJ\n",
      "-\t40\t-\t-\tTrue\tFalse\t-\tPUNCT\n",
      "year\t41\tyear\tyear\tFalse\tFalse\txxxx\tNOUN\n",
      "medical\t46\tmedical\tmedical\tFalse\tFalse\txxxx\tADJ\n",
      "SPACE\n",
      "student\t54\tstudent\tstudent\tFalse\tFalse\txxxx\tNOUN\n",
      "at\t62\tat\tat\tFalse\tFalse\txx\tADP\n",
      "Georgia\t65\tGeorgia\tgeorgia\tFalse\tFalse\tXxxxx\tPROPN\n",
      "Regents\t73\tRegents\tregents\tFalse\tFalse\tXxxxx\tPROPN\n",
      "University\t81\tUniversity\tuniversity\tFalse\tFalse\tXxxxx\tPROPN\n",
      "who\t92\twho\twho\tFalse\tFalse\txxx\tPRON\n",
      "pulled\t96\tpull\tpulled\tFalse\tFalse\txxxx\tVERB\n",
      "himself\t103\thimself\thimself\tFalse\tFalse\txxxx\tPRON\n",
      "up\t111\tup\tup\tFalse\tFalse\txx\tADP\n",
      "from\t114\tfrom\tfrom\tFalse\tFalse\txxxx\tADP\n",
      "rock\t119\trock\trock\tFalse\tFalse\txxxx\tNOUN\n",
      "SPACE\n",
      "bottom\t124\tbottom\tbottom\tFalse\tFalse\txxxx\tNOUN\n",
      "by\t131\tby\tby\tFalse\tFalse\txx\tADP\n",
      "changing\t134\tchange\tchanging\tFalse\tFalse\txxxx\tVERB\n",
      "the\t143\tthe\tthe\tFalse\tFalse\txxx\tDET\n",
      "way\t147\tway\tway\tFalse\tFalse\txxx\tNOUN\n",
      "he\t151\the\the\tFalse\tFalse\txx\tPRON\n",
      "studies\t154\tstudy\tstudies\tFalse\tFalse\txxxx\tVERB\n",
      ".\t161\t.\t.\tTrue\tFalse\t.\tPUNCT\n",
      "Young\t163\tYoung\tyoung\tFalse\tFalse\tXxxxx\tPROPN\n",
      "entered\t169\tenter\tentered\tFalse\tFalse\txxxx\tVERB\n",
      "medical\t177\tmedical\tmedical\tFalse\tFalse\txxxx\tADJ\n",
      "school\t185\tschool\tschool\tFalse\tFalse\txxxx\tNOUN\n",
      "SPACE\n",
      "without\t192\twithout\twithout\tFalse\tFalse\txxxx\tADP\n",
      "the\t200\tthe\tthe\tFalse\tFalse\txxx\tDET\n",
      "usual\t204\tusual\tusual\tFalse\tFalse\txxxx\tADJ\n",
      "foundation\t210\tfoundation\tfoundation\tFalse\tFalse\txxxx\tNOUN\n",
      "of\t221\tof\tof\tFalse\tFalse\txx\tADP\n",
      "premed\t224\tpremed\tpremed\tFalse\tFalse\txxxx\tADJ\n",
      "coursework\t231\tcoursework\tcoursework\tFalse\tFalse\txxxx\tNOUN\n",
      ".\t241\t.\t.\tTrue\tFalse\t.\tPUNCT\n",
      "His\t243\this\this\tFalse\tFalse\tXxx\tPRON\n",
      "classmates\t247\tclassmate\tclassmates\tFalse\tFalse\txxxx\tNOUN\n",
      "all\t258\tall\tall\tFalse\tFalse\txxx\tPRON\n",
      "had\t262\thave\thad\tFalse\tFalse\txxx\tVERB\n",
      "SPACE\n",
      "backgrounds\t266\tbackground\tbackgrounds\tFalse\tFalse\txxxx\tNOUN\n",
      "in\t278\tin\tin\tFalse\tFalse\txx\tADP\n",
      "biochemistry\t281\tbiochemistry\tbiochemistry\tFalse\tFalse\txxxx\tNOUN\n",
      ",\t293\t,\t,\tTrue\tFalse\t,\tPUNCT\n",
      "pharmacology\t295\tpharmacology\tpharmacology\tFalse\tFalse\txxxx\tNOUN\n",
      ",\t307\t,\t,\tTrue\tFalse\t,\tPUNCT\n",
      "and\t309\tand\tand\tFalse\tFalse\txxx\tCCONJ\n",
      "the\t313\tthe\tthe\tFalse\tFalse\txxx\tDET\n",
      "like\t317\tlike\tlike\tFalse\tFalse\txxxx\tADJ\n",
      ".\t321\t.\t.\tTrue\tFalse\t.\tPUNCT\n",
      "Medical\t323\tmedical\tmedical\tFalse\tFalse\tXxxxx\tADJ\n",
      "SPACE\n",
      "school\t331\tschool\tschool\tFalse\tFalse\txxxx\tNOUN\n",
      "is\t338\tbe\tis\tFalse\tFalse\txx\tAUX\n",
      "plenty\t341\tplenty\tplenty\tFalse\tFalse\txxxx\tADV\n",
      "tough\t348\ttough\ttough\tFalse\tFalse\txxxx\tADJ\n",
      "under\t354\tunder\tunder\tFalse\tFalse\txxxx\tADP\n",
      "any\t360\tany\tany\tFalse\tFalse\txxx\tDET\n",
      "circumstances\t364\tcircumstance\tcircumstances\tFalse\tFalse\txxxx\tNOUN\n",
      ",\t377\t,\t,\tTrue\tFalse\t,\tPUNCT\n",
      "but\t379\tbut\tbut\tFalse\tFalse\txxx\tCCONJ\n",
      "in\t383\tin\tin\tFalse\tFalse\txx\tADP\n",
      "Young\t386\tYoung\tyoung\tFalse\tFalse\tXxxxx\tPROPN\n",
      "'s\t391\t's\t's\tFalse\tFalse\t'x\tPART\n",
      "SPACE\n",
      "case\t394\tcase\tcase\tFalse\tFalse\txxxx\tNOUN\n",
      "even\t399\teven\teven\tFalse\tFalse\txxxx\tADV\n",
      "more\t404\tmore\tmore\tFalse\tFalse\txxxx\tADV\n",
      "so\t409\tso\tso\tFalse\tFalse\txx\tADV\n",
      "for\t412\tfor\tfor\tFalse\tFalse\txxx\tADP\n",
      "lack\t416\tlack\tlack\tFalse\tFalse\txxxx\tNOUN\n",
      "of\t421\tof\tof\tFalse\tFalse\txx\tADP\n",
      "a\t424\ta\ta\tFalse\tFalse\tx\tDET\n",
      "footing\t426\tfooting\tfooting\tFalse\tFalse\txxxx\tNOUN\n",
      ".\t433\t.\t.\tTrue\tFalse\t.\tPUNCT\n"
     ]
    }
   ],
   "source": [
    "doc = nlp(sentences)\n",
    "\n",
    "print(\"text\\tidx\\tlemma\\tlower\\tpunct\\tspace\\tshape\\tPOS\")\n",
    "for token in doc:\n",
    "    if token.is_space:\n",
    "        print(\"SPACE\")\n",
    "    else:\n",
    "        print(\"{0}\\t{1}\\t{2}\\t{3}\\t{4}\\t{5}\\t{6}\\t{7}\".format(\n",
    "            token.text,\n",
    "            token.idx,\n",
    "            token.lemma_,\n",
    "            token.lower_,\n",
    "            token.is_punct,\n",
    "            token.is_space,\n",
    "            token.shape_,\n",
    "            token.pos_\n",
    "    ))"
   ]
  },
  {
   "cell_type": "code",
   "execution_count": 90,
   "metadata": {
    "scrolled": true,
    "slideshow": {
     "slide_type": "subslide"
    }
   },
   "outputs": [
    {
     "name": "stdout",
     "output_type": "stream",
     "text": [
      "text\tidx\tlemma\tlower\tpunct\tspace\tstop\tshape\tPOS\n",
      "Michael\t0\tMichael\tmichael\tFalse\tFalse\tFalse\tXxxxx\tPROPN\n",
      "Young\t8\tYoung\tyoung\tFalse\tFalse\tFalse\tXxxxx\tPROPN\n",
      "is\t14\tbe\tis\tFalse\tFalse\tTrue\txx\tAUX\n",
      "a\t17\ta\ta\tFalse\tFalse\tTrue\tx\tDET\n",
      "high\t19\thigh\thigh\tFalse\tFalse\tFalse\txxxx\tADV\n",
      "-\t23\t-\t-\tTrue\tFalse\tFalse\t-\tPUNCT\n",
      "achieving\t24\tachieve\tachieving\tFalse\tFalse\tFalse\txxxx\tVERB\n",
      "fourth\t34\tfourth\tfourth\tFalse\tFalse\tFalse\txxxx\tADJ\n",
      "-\t40\t-\t-\tTrue\tFalse\tFalse\t-\tPUNCT\n",
      "year\t41\tyear\tyear\tFalse\tFalse\tFalse\txxxx\tNOUN\n",
      "medical\t46\tmedical\tmedical\tFalse\tFalse\tFalse\txxxx\tADJ\n",
      "SPACE\n",
      "student\t54\tstudent\tstudent\tFalse\tFalse\tFalse\txxxx\tNOUN\n",
      "at\t62\tat\tat\tFalse\tFalse\tTrue\txx\tADP\n",
      "Georgia\t65\tGeorgia\tgeorgia\tFalse\tFalse\tFalse\tXxxxx\tPROPN\n",
      "Regents\t73\tRegents\tregents\tFalse\tFalse\tFalse\tXxxxx\tPROPN\n",
      "University\t81\tUniversity\tuniversity\tFalse\tFalse\tFalse\tXxxxx\tPROPN\n",
      "who\t92\twho\twho\tFalse\tFalse\tTrue\txxx\tPRON\n",
      "pulled\t96\tpull\tpulled\tFalse\tFalse\tFalse\txxxx\tVERB\n",
      "himself\t103\thimself\thimself\tFalse\tFalse\tTrue\txxxx\tPRON\n",
      "up\t111\tup\tup\tFalse\tFalse\tTrue\txx\tADP\n",
      "from\t114\tfrom\tfrom\tFalse\tFalse\tTrue\txxxx\tADP\n",
      "rock\t119\trock\trock\tFalse\tFalse\tFalse\txxxx\tNOUN\n",
      "SPACE\n",
      "bottom\t124\tbottom\tbottom\tFalse\tFalse\tTrue\txxxx\tNOUN\n",
      "by\t131\tby\tby\tFalse\tFalse\tTrue\txx\tADP\n",
      "changing\t134\tchange\tchanging\tFalse\tFalse\tFalse\txxxx\tVERB\n",
      "the\t143\tthe\tthe\tFalse\tFalse\tTrue\txxx\tDET\n",
      "way\t147\tway\tway\tFalse\tFalse\tFalse\txxx\tNOUN\n",
      "he\t151\the\the\tFalse\tFalse\tTrue\txx\tPRON\n",
      "studies\t154\tstudy\tstudies\tFalse\tFalse\tFalse\txxxx\tVERB\n",
      ".\t161\t.\t.\tTrue\tFalse\tFalse\t.\tPUNCT\n",
      "Young\t163\tYoung\tyoung\tFalse\tFalse\tFalse\tXxxxx\tPROPN\n",
      "entered\t169\tenter\tentered\tFalse\tFalse\tFalse\txxxx\tVERB\n",
      "medical\t177\tmedical\tmedical\tFalse\tFalse\tFalse\txxxx\tADJ\n",
      "school\t185\tschool\tschool\tFalse\tFalse\tFalse\txxxx\tNOUN\n",
      "SPACE\n",
      "without\t192\twithout\twithout\tFalse\tFalse\tTrue\txxxx\tADP\n",
      "the\t200\tthe\tthe\tFalse\tFalse\tTrue\txxx\tDET\n",
      "usual\t204\tusual\tusual\tFalse\tFalse\tFalse\txxxx\tADJ\n",
      "foundation\t210\tfoundation\tfoundation\tFalse\tFalse\tFalse\txxxx\tNOUN\n",
      "of\t221\tof\tof\tFalse\tFalse\tTrue\txx\tADP\n",
      "premed\t224\tpremed\tpremed\tFalse\tFalse\tFalse\txxxx\tADJ\n",
      "coursework\t231\tcoursework\tcoursework\tFalse\tFalse\tFalse\txxxx\tNOUN\n",
      ".\t241\t.\t.\tTrue\tFalse\tFalse\t.\tPUNCT\n",
      "His\t243\this\this\tFalse\tFalse\tTrue\tXxx\tPRON\n",
      "classmates\t247\tclassmate\tclassmates\tFalse\tFalse\tFalse\txxxx\tNOUN\n",
      "all\t258\tall\tall\tFalse\tFalse\tTrue\txxx\tPRON\n",
      "had\t262\thave\thad\tFalse\tFalse\tTrue\txxx\tVERB\n",
      "SPACE\n",
      "backgrounds\t266\tbackground\tbackgrounds\tFalse\tFalse\tFalse\txxxx\tNOUN\n",
      "in\t278\tin\tin\tFalse\tFalse\tTrue\txx\tADP\n",
      "biochemistry\t281\tbiochemistry\tbiochemistry\tFalse\tFalse\tFalse\txxxx\tNOUN\n",
      ",\t293\t,\t,\tTrue\tFalse\tFalse\t,\tPUNCT\n",
      "pharmacology\t295\tpharmacology\tpharmacology\tFalse\tFalse\tFalse\txxxx\tNOUN\n",
      ",\t307\t,\t,\tTrue\tFalse\tFalse\t,\tPUNCT\n",
      "and\t309\tand\tand\tFalse\tFalse\tTrue\txxx\tCCONJ\n",
      "the\t313\tthe\tthe\tFalse\tFalse\tTrue\txxx\tDET\n",
      "like\t317\tlike\tlike\tFalse\tFalse\tFalse\txxxx\tADJ\n",
      ".\t321\t.\t.\tTrue\tFalse\tFalse\t.\tPUNCT\n",
      "Medical\t323\tmedical\tmedical\tFalse\tFalse\tFalse\tXxxxx\tADJ\n",
      "SPACE\n",
      "school\t331\tschool\tschool\tFalse\tFalse\tFalse\txxxx\tNOUN\n",
      "is\t338\tbe\tis\tFalse\tFalse\tTrue\txx\tAUX\n",
      "plenty\t341\tplenty\tplenty\tFalse\tFalse\tFalse\txxxx\tADV\n",
      "tough\t348\ttough\ttough\tFalse\tFalse\tFalse\txxxx\tADJ\n",
      "under\t354\tunder\tunder\tFalse\tFalse\tTrue\txxxx\tADP\n",
      "any\t360\tany\tany\tFalse\tFalse\tTrue\txxx\tDET\n",
      "circumstances\t364\tcircumstance\tcircumstances\tFalse\tFalse\tFalse\txxxx\tNOUN\n",
      ",\t377\t,\t,\tTrue\tFalse\tFalse\t,\tPUNCT\n",
      "but\t379\tbut\tbut\tFalse\tFalse\tTrue\txxx\tCCONJ\n",
      "in\t383\tin\tin\tFalse\tFalse\tTrue\txx\tADP\n",
      "Young\t386\tYoung\tyoung\tFalse\tFalse\tFalse\tXxxxx\tPROPN\n",
      "'s\t391\t's\t's\tFalse\tFalse\tTrue\t'x\tPART\n",
      "SPACE\n",
      "case\t394\tcase\tcase\tFalse\tFalse\tFalse\txxxx\tNOUN\n",
      "even\t399\teven\teven\tFalse\tFalse\tTrue\txxxx\tADV\n",
      "more\t404\tmore\tmore\tFalse\tFalse\tTrue\txxxx\tADV\n",
      "so\t409\tso\tso\tFalse\tFalse\tTrue\txx\tADV\n",
      "for\t412\tfor\tfor\tFalse\tFalse\tTrue\txxx\tADP\n",
      "lack\t416\tlack\tlack\tFalse\tFalse\tFalse\txxxx\tNOUN\n",
      "of\t421\tof\tof\tFalse\tFalse\tTrue\txx\tADP\n",
      "a\t424\ta\ta\tFalse\tFalse\tTrue\tx\tDET\n",
      "footing\t426\tfooting\tfooting\tFalse\tFalse\tFalse\txxxx\tNOUN\n",
      ".\t433\t.\t.\tTrue\tFalse\tFalse\t.\tPUNCT\n"
     ]
    }
   ],
   "source": [
    "doc = nlp(sentences)\n",
    "\n",
    "print(\"text\\tidx\\tlemma\\tlower\\tpunct\\tspace\\tstop\\tshape\\tPOS\")\n",
    "for token in doc:\n",
    "    if token.is_space:\n",
    "        print(\"SPACE\")\n",
    "    else:\n",
    "        print(\"{0}\\t{1}\\t{2}\\t{3}\\t{4}\\t{5}\\t{6}\\t{7}\\t{8}\".format(\n",
    "            token.text,\n",
    "            token.idx,\n",
    "            token.lemma_,\n",
    "            token.lower_,\n",
    "            token.is_punct,\n",
    "            token.is_space,\n",
    "            token.is_stop,\n",
    "            token.shape_,\n",
    "            token.pos_\n",
    "    ))\n"
   ]
  },
  {
   "cell_type": "markdown",
   "metadata": {},
   "source": [
    "#### <font color=\"Magenta\">Qx:</font>\n",
    "Create a bar chart, similar to the previous one, that uses the output from the spacy tokenizer.  You should exclude punctuation, spaces and stopwords."
   ]
  },
  {
   "cell_type": "code",
   "execution_count": 91,
   "metadata": {},
   "outputs": [
    {
     "data": {
      "image/png": "[encoded data removed]",
      "text/plain": [
       "<Figure size 4500x1000 with 1 Axes>"
      ]
     },
     "metadata": {},
     "output_type": "display_data"
    }
   ],
   "source": [
    "# SOLUTION: delete\n",
    "\n",
    "# Create a bar chart, similar to the previous one, that uses the output from the spacy tokenizer.  You should exclude punctuation, spaces and stopwords.\n",
    "doc = nlp(sentences)\n",
    "words = [token.text for token in doc if not token.is_punct and not token.is_space and not token.is_stop]\n",
    "plt.figure(figsize=(45,10))\n",
    "sns.countplot(x=words, order=pd.Series(words).value_counts().index)\n",
    "plt.xticks(rotation=90)\n",
    "plt.show()"
   ]
  },
  {
   "cell_type": "markdown",
   "metadata": {
    "slideshow": {
     "slide_type": "slide"
    }
   },
   "source": [
    "## 1-2. Sentence detection"
   ]
  },
  {
   "cell_type": "markdown",
   "metadata": {
    "slideshow": {
     "slide_type": "-"
    }
   },
   "source": [
    "- For the document with multiple sentences, we would need to separate  each sentence.\n",
    "- In ```spaCy```, the job is more convenient (and would cause less mistakes) than using regular expression"
   ]
  },
  {
   "cell_type": "code",
   "execution_count": 92,
   "metadata": {},
   "outputs": [
    {
     "data": {
      "text/plain": [
       "\"Michael Young is a high-achieving fourth-year medical\\nstudent at Georgia Regents University who pulled himself up from rock\\nbottom by changing the way he studies. Young entered medical school\\nwithout the usual foundation of premed coursework. His classmates all had\\nbackgrounds in biochemistry, pharmacology, and the like. Medical\\nschool is plenty tough under any circumstances, but in Young's\\ncase even more so for lack of a footing.\""
      ]
     },
     "execution_count": 92,
     "metadata": {},
     "output_type": "execute_result"
    }
   ],
   "source": [
    "sentences"
   ]
  },
  {
   "cell_type": "code",
   "execution_count": 93,
   "metadata": {
    "slideshow": {
     "slide_type": "subslide"
    }
   },
   "outputs": [
    {
     "data": {
      "text/plain": [
       "Michael Young is a high-achieving fourth-year medical\n",
       "student at Georgia Regents University who pulled himself up from rock\n",
       "bottom by changing the way he studies. Young entered medical school\n",
       "without the usual foundation of premed coursework. His classmates all had\n",
       "backgrounds in biochemistry, pharmacology, and the like. Medical\n",
       "school is plenty tough under any circumstances, but in Young's\n",
       "case even more so for lack of a footing."
      ]
     },
     "execution_count": 93,
     "metadata": {},
     "output_type": "execute_result"
    }
   ],
   "source": [
    "# same document, but initiate as the spaCy object...\n",
    "doc = nlp(sentences)\n",
    "doc"
   ]
  },
  {
   "cell_type": "markdown",
   "metadata": {
    "slideshow": {
     "slide_type": "subslide"
    }
   },
   "source": [
    "- Sentences are stored as a generator object\n",
    "    - Instead of storing sentences as a list, each sentence is stored as a item in the generator object \n",
    "    - Iteratable (i.e., can be used in a for loop)\n",
    "    - More efficient memory use\n",
    "    - https://wiki.python.org/moin/Generators"
   ]
  },
  {
   "cell_type": "code",
   "execution_count": 94,
   "metadata": {
    "slideshow": {
     "slide_type": "subslide"
    }
   },
   "outputs": [
    {
     "data": {
      "text/plain": [
       "<generator at 0x14e206de0>"
      ]
     },
     "execution_count": 94,
     "metadata": {},
     "output_type": "execute_result"
    }
   ],
   "source": [
    "doc.sents"
   ]
  },
  {
   "cell_type": "markdown",
   "metadata": {
    "slideshow": {
     "slide_type": "subslide"
    }
   },
   "source": [
    "- Printing sentences with the index number"
   ]
  },
  {
   "cell_type": "code",
   "execution_count": 95,
   "metadata": {
    "scrolled": true
   },
   "outputs": [
    {
     "name": "stdout",
     "output_type": "stream",
     "text": [
      "0 Michael Young is a high-achieving fourth-year medical\n",
      "student at Georgia Regents University who pulled himself up from rock\n",
      "bottom by changing the way he studies.\n",
      "1 Young entered medical school\n",
      "without the usual foundation of premed coursework.\n",
      "2 His classmates all had\n",
      "backgrounds in biochemistry, pharmacology, and the like.\n",
      "3 Medical\n",
      "school is plenty tough under any circumstances, but in Young's\n",
      "case even more so for lack of a footing.\n"
     ]
    }
   ],
   "source": [
    "for i, sent in enumerate(doc.sents):\n",
    "    print(i, sent)"
   ]
  },
  {
   "cell_type": "markdown",
   "metadata": {
    "slideshow": {
     "slide_type": "slide"
    }
   },
   "source": [
    "## 1-3. Part-of-speech (POS) tagging"
   ]
  },
  {
   "attachments": {},
   "cell_type": "markdown",
   "metadata": {},
   "source": [
    "- I want to find words with particular part-of-speech!\n",
    "- Different part-of-speech words carry different information\n",
    "    - e.g., noun (subject), verb (action term), adjective (quality of the object) \n",
    "- https://spacy.io/usage/linguistic-features#pos-tagging"
   ]
  },
  {
   "cell_type": "markdown",
   "metadata": {
    "slideshow": {
     "slide_type": "subslide"
    }
   },
   "source": [
    "- Yelp review!"
   ]
  },
  {
   "cell_type": "code",
   "execution_count": 96,
   "metadata": {},
   "outputs": [],
   "source": [
    "# from https://www.yelp.com/biz/ajishin-novi?hrid=juA4Zn2TX7845vNFn4syBQ&utm_campaign=www_review_share_popup&utm_medium=copy_link&utm_source=(direct)\n",
    "doc = nlp(\"\"\"One of the best Japanese restaurants in Novi. Simple food, great taste, amazingly price. I visit this place a least twice month.\"\"\")"
   ]
  },
  {
   "cell_type": "markdown",
   "metadata": {
    "slideshow": {
     "slide_type": "subslide"
    }
   },
   "source": [
    "- multiple sentences exist in a document"
   ]
  },
  {
   "cell_type": "code",
   "execution_count": 97,
   "metadata": {},
   "outputs": [
    {
     "name": "stdout",
     "output_type": "stream",
     "text": [
      "0 One of the best Japanese restaurants in Novi.\n",
      "1 Simple food, great taste, amazingly price.\n",
      "2 I visit this place a least twice month.\n"
     ]
    }
   ],
   "source": [
    "for i, sent in enumerate(doc.sents):\n",
    "    print(i, sent)"
   ]
  },
  {
   "cell_type": "markdown",
   "metadata": {
    "slideshow": {
     "slide_type": "subslide"
    }
   },
   "source": [
    "- Question: which words are adjectives (ADJ)?"
   ]
  },
  {
   "cell_type": "code",
   "execution_count": 98,
   "metadata": {
    "slideshow": {
     "slide_type": "subslide"
    }
   },
   "outputs": [
    {
     "name": "stdout",
     "output_type": "stream",
     "text": [
      "best \t ADJ\n",
      "Japanese \t ADJ\n",
      "Simple \t ADJ\n",
      "great \t ADJ\n",
      "least \t ADJ\n",
      "twice \t ADJ\n"
     ]
    }
   ],
   "source": [
    "for i, sent in enumerate(doc.sents):\n",
    "    for token in sent:\n",
    "        if token.pos_ == 'ADJ':\n",
    "            print(token.text, \"\\t\", token.pos_)"
   ]
  },
  {
   "cell_type": "code",
   "execution_count": 99,
   "metadata": {},
   "outputs": [
    {
     "name": "stdout",
     "output_type": "stream",
     "text": [
      "restaurants \t NOUN\n",
      "food \t NOUN\n",
      "taste \t NOUN\n",
      "price \t NOUN\n",
      "place \t NOUN\n",
      "month \t NOUN\n"
     ]
    }
   ],
   "source": [
    "for i, sent in enumerate(doc.sents):\n",
    "    for token in sent:\n",
    "        if token.pos_ == 'NOUN':\n",
    "            print(token.text, \"\\t\", token.pos_)"
   ]
  },
  {
   "cell_type": "code",
   "execution_count": 100,
   "metadata": {},
   "outputs": [
    {
     "name": "stdout",
     "output_type": "stream",
     "text": [
      "visit \t VERB\n"
     ]
    }
   ],
   "source": [
    "for i, sent in enumerate(doc.sents):\n",
    "    for token in sent:\n",
    "        if token.pos_ == 'VERB':\n",
    "            print(token.text, \"\\t\", token.pos_)"
   ]
  },
  {
   "cell_type": "markdown",
   "metadata": {
    "slideshow": {
     "slide_type": "slide"
    }
   },
   "source": [
    "## Named Entity Recognition"
   ]
  },
  {
   "cell_type": "code",
   "execution_count": 101,
   "metadata": {
    "scrolled": true,
    "slideshow": {
     "slide_type": "subslide"
    }
   },
   "outputs": [
    {
     "name": "stdout",
     "output_type": "stream",
     "text": [
      "[('Michael Young', 'PERSON'), ('fourth-year', 'DATE'), ('Georgia Regents University', 'ORG'), ('Young', 'PERSON')]\n"
     ]
    }
   ],
   "source": [
    "doc = nlp(sentences)\n",
    "print([(X.text, X.label_) for X in doc.ents])"
   ]
  },
  {
   "cell_type": "code",
   "execution_count": 102,
   "metadata": {},
   "outputs": [],
   "source": [
    "url = 'https://fivethirtyeight.com/features/remembering-alex-trebek-the-man-with-all-the-answers/'"
   ]
  },
  {
   "cell_type": "code",
   "execution_count": 103,
   "metadata": {
    "slideshow": {
     "slide_type": "subslide"
    }
   },
   "outputs": [
    {
     "data": {
      "text/plain": [
       "106"
      ]
     },
     "execution_count": 103,
     "metadata": {},
     "output_type": "execute_result"
    }
   ],
   "source": [
    "from bs4 import BeautifulSoup\n",
    "import requests\n",
    "import re\n",
    "def url_to_string(url):\n",
    "    res = requests.get(url)\n",
    "    html = res.text\n",
    "    soup = BeautifulSoup(html)\n",
    "    for script in soup([\"script\", \"style\", 'aside']):\n",
    "        script.extract()\n",
    "    return \" \".join(re.split(r'[\\n\\t]+', soup.get_text()))\n",
    "ny_bb = url_to_string(url)\n",
    "article = nlp(ny_bb)\n",
    "len(article.ents)"
   ]
  },
  {
   "cell_type": "code",
   "execution_count": 104,
   "metadata": {},
   "outputs": [
    {
     "data": {
      "text/plain": [
       " Remembering Alex Trebek, The Man With All The Answers | FiveThirtyEight Skip to main content FiveThirtyEight Search Search ABC News Menu Remembering Alex Trebek, The Man With All The Answers Share on Facebook Share on Twitter Politics Sports Science Podcasts Video Interactives ABC News   This is an archived site and is no longer being updated. New 538 articles can be found at www.abcnews.com/538.   Nov. 9, 2020, at 4:09 PM Remembering Alex Trebek, The Man With All The Answers By Oliver Roeder Filed under Jeopardy!   PHOTO ILLUSTRATION BY FIVETHIRTYEIGHT / GETTY IMAGES For decades, I’ve tuned into the trivia game show “Jeopardy!” for the facts. On Sunday, the show lost its judicious leader, Alex Trebek, who died at age 80 after a battle with cancer. Trebek had hosted “Jeopardy!” for my entire life. He began in 1984 and hosted every episode since — save for April Fool’s Day in 1997 when he and Pat Sajak of “Wheel of Fortune” swapped places — more than 8,000 half-hour shows in all. For many, watching Trebek was ritualistic — the way a day ends and a night begins. It was also a way to get real facts, a brief respite from the “alternative facts” so prevalent over the past few years. Trebek and the show — the two difficult now to divorce — were a beacon of democratic ideals, flattening the world for all to consume. High and low, popular and obscure, new and old, holy and profane, Trebek put all of them on equal terms. Look no further than the episode of “Jeopardy!” that aired this past Friday, for example. It featured clues about Rihanna, Madonna and Katy Perry, and clues about the city of Vaduz, the Russian navy and the German chancellor. All were on the same game board — though Gene Wilder and the Cook Strait were worth more money than any of them. “Jeopardy!” and Trebek have been a haven for facts as monuments of truth have crumbled in the public sphere. The holder of the country’s highest office now baselessly disputes legitimate election results, espousers of baseless and dangerous conspiracy theories are elected to Congress, and fact-checking is a booming industry. Trebek’s performance hasn’t changed to combat the untruths of the last few years, in part because it already was a kind of totem to the value of fact. Since 1984, he has stood each weekday in a suit behind a podium with a sheet of notes and delivered more than 400,000 clues, each a minor daily inoculation against the creep of lies — or whatever you want to call them. “Alex was so much more than a host,” tweeted James Holzhauer, who set a series of unreal records on “Jeopardy!” last spring. “He was an impartial arbiter of truth and facts in a world that needs exactly that.” The show’s eclectic and unpredictable subject matter is the result of an unassuming, wide-angle lens cast upon a large and complicated world. We call the material Trebek delivered “trivia,” but few things are less trivial than turning a generous eye toward the world — in all its strange and diverse splendor — and calling things by their right name. The headline on a great 2014 profile of Trebek in the New Republic declared him the “Last King of the American Middlebrow.” This is true not in a pejorative sense but in a statistical one, as in the average between high and low. Trebek’s essential demeanor — and therefore “Jeopardy!” itself — is stripped of pretension and pretext. The show’s archive showcases its diverse interests, each of which was presented on the show’s giant board simply and equally in the iconic all-caps white text on a blue square. Knowledge of the former British Prime Minister Benjamin Disraeli is worth the same as that of “The Office” actor Steve Carrell, as that of the toy Mr. Potato Head. The playwright Shakespeare is equal to the running back Walter Payton. The element helium is as valuable as the airport Heathrow. Trebek’s performance as host emphasized this egalitarianism. His affect was steady and his pronunciation — of French, most famously — was impeccable, and he took pre-show notes with diacritical marks to ensure that he’d get it right. And at the same time he was, among other things, an underrated rapper, as Holzhauer joked, enthusiastically engaging with the repertoires of Lil Wayne, Drake and Kendrick Lamar. “I’m not too good at it, but I was getting into it,” Trebek said after delivering the verses, and I believed him. Moreover, Trebek’s performance didn’t just lack pretension, it was anti-pretentious. He once famously lightly chastised three contestants, who had correctly answered clues about Molière and Thor Heyerdahl, for not knowing enough about football. “I have to talk to them,” Trebek said disapprovingly before going to commercial. The democratic nature of trivia had been thrown off-kilter, and Trebek had to correct it. By all accounts, Trebek embodied these trivia ideals while also being a genuine and gracious human. “Alex wasn’t just the best ever at what he did,” tweeted Ken Jennings, the show’s most famous contestant, who won a record 74 consecutive times. “He was also a lovely and deeply decent man, and I’m grateful for every minute I got to spend with him.” It was with this same ethos of decency and calm that Trebek announced, in March 2019, that he had been diagnosed with stage 4 pancreatic cancer. He said he “wanted to prevent you from reading or hearing some overblown or inaccurate reports regarding my health.” The rest of the short statement was filled with facts, and he vowed to fight the cancer and continue working. “Truth told, I have to,” he said, with a characteristic pinch of humor. “Because under the terms of my contract, I have to host ‘Jeopardy!’ for three more years.” I wish he were able to do so. The show may go on, but it’s hard to imagine anyone personifying its ideals as well as Alex Trebek did. Of course, the contestants on “Jeopardy!” just ask the questions. It was Trebek who had all the answers. Oliver Roeder was a senior writer for FiveThirtyEight. He holds a Ph.D. in economics from the University of Texas at Austin, where he studied game theory and political competition.  @ollie Comments Filed under Games (48 posts) Jeopardy! (7) Doo-Doo-Doo-Doo-Doo-Doo-Doo (4) Get more FiveThirtyEight Store Newsletter Twitter Facebook Data RSS Follow @FiveThirtyEight About Us Jobs Masthead Pitch FiveThirtyEight Advertise With Us About Nielsen Measurement Powered by WordPress VIP  Terms of Use Privacy Policy Do Not Sell My Personal Information Your US State Privacy Rights Children's Online Privacy Policy Interest-Based Ads © 2023 ABC News Internet Ventures. All rights reserved. Close Additional Information Terms of Use and Privacy Policy and Safety Information/Your California Privacy Rights/Children's Online Privacy Policy are applicable to you. © 2023 ABC News Internet Ventures. All rights reserved. Interest-Based Ads. Cookie Policy. "
      ]
     },
     "execution_count": 104,
     "metadata": {},
     "output_type": "execute_result"
    }
   ],
   "source": [
    "article"
   ]
  },
  {
   "cell_type": "code",
   "execution_count": 105,
   "metadata": {
    "slideshow": {
     "slide_type": "subslide"
    }
   },
   "outputs": [
    {
     "data": {
      "text/plain": [
       "Counter({('PERSON', 'Trebek'): 14,\n",
       "         ('WORK_OF_ART', 'Jeopardy'): 7,\n",
       "         ('PERSON', 'Alex Trebek'): 5,\n",
       "         ('WORK_OF_ART', 'The Man With All The Answers'): 2,\n",
       "         ('DATE', '1984'): 2,\n",
       "         ('PERSON', 'Alex'): 2,\n",
       "         ('DATE', '2023'): 2,\n",
       "         ('ORG', 'ABC News Internet Ventures'): 2,\n",
       "         ('ORG', 'ABC News'): 1,\n",
       "         ('WORK_OF_ART',\n",
       "          'The Man With All The Answers Share on Facebook Share on Twitter Politics Sports Science Podcasts Video Interactives ABC News'): 1,\n",
       "         ('CARDINAL', '538'): 1,\n",
       "         ('DATE', 'Nov. 9, 2020'): 1,\n",
       "         ('TIME', '4:09 PM'): 1,\n",
       "         ('PERSON', 'Oliver Roeder Filed'): 1,\n",
       "         ('ORG', 'Jeopardy'): 1,\n",
       "         ('PERSON', 'FIVETHIRTYEIGHT'): 1,\n",
       "         ('DATE', 'decades'): 1,\n",
       "         ('DATE', 'Sunday'): 1,\n",
       "         ('DATE', 'age 80'): 1,\n",
       "         ('DATE', 'April Fool’s Day'): 1,\n",
       "         ('DATE', '1997'): 1,\n",
       "         ('PERSON', 'Pat Sajak'): 1,\n",
       "         ('WORK_OF_ART', 'Wheel of Fortune'): 1,\n",
       "         ('CARDINAL', 'more than 8,000'): 1,\n",
       "         ('TIME', 'half-hour'): 1,\n",
       "         ('DATE', 'the past few years'): 1,\n",
       "         ('CARDINAL', 'two'): 1,\n",
       "         ('DATE', 'this past Friday'): 1,\n",
       "         ('PERSON', 'Rihanna'): 1,\n",
       "         ('PERSON', 'Madonna'): 1,\n",
       "         ('PERSON', 'Katy Perry'): 1,\n",
       "         ('GPE', 'Vaduz'): 1,\n",
       "         ('NORP', 'Russian'): 1,\n",
       "         ('NORP', 'German'): 1,\n",
       "         ('PERSON', 'Gene Wilder'): 1,\n",
       "         ('LOC', 'the Cook Strait'): 1,\n",
       "         ('ORG', 'Congress'): 1,\n",
       "         ('NORP', 'Trebek'): 1,\n",
       "         ('DATE', 'the last few years'): 1,\n",
       "         ('CARDINAL', 'more than 400,000'): 1,\n",
       "         ('DATE', 'daily'): 1,\n",
       "         ('PERSON', 'James Holzhauer'): 1,\n",
       "         ('DATE', 'last spring'): 1,\n",
       "         ('DATE', '2014'): 1,\n",
       "         ('GPE', 'Trebek'): 1,\n",
       "         ('GPE', 'New Republic'): 1,\n",
       "         ('WORK_OF_ART', 'Last King of the American Middlebrow'): 1,\n",
       "         ('NORP', 'British'): 1,\n",
       "         ('PERSON', 'Benjamin Disraeli'): 1,\n",
       "         ('WORK_OF_ART', 'The Office'): 1,\n",
       "         ('PERSON', 'Steve Carrell'): 1,\n",
       "         ('PERSON', 'Potato Head'): 1,\n",
       "         ('PERSON', 'Shakespeare'): 1,\n",
       "         ('PERSON', 'Walter Payton'): 1,\n",
       "         ('FAC', 'Heathrow'): 1,\n",
       "         ('LANGUAGE', 'French'): 1,\n",
       "         ('EVENT', 'Holzhauer'): 1,\n",
       "         ('PERSON', 'Lil Wayne'): 1,\n",
       "         ('PERSON', 'Drake'): 1,\n",
       "         ('PERSON', 'Kendrick Lamar'): 1,\n",
       "         ('CARDINAL', 'three'): 1,\n",
       "         ('ORG', 'Molière'): 1,\n",
       "         ('PERSON', 'Thor Heyerdahl'): 1,\n",
       "         ('PERSON', 'Ken Jennings'): 1,\n",
       "         ('CARDINAL', '74'): 1,\n",
       "         ('DATE', 'March 2019'): 1,\n",
       "         ('CARDINAL', '4'): 1,\n",
       "         ('DATE', 'three more years'): 1,\n",
       "         ('PERSON', 'Oliver Roeder'): 1,\n",
       "         ('WORK_OF_ART', 'Ph.D.'): 1,\n",
       "         ('ORG', 'the University of Texas'): 1,\n",
       "         ('GPE', 'Austin'): 1,\n",
       "         ('PRODUCT', 'Comments Filed'): 1,\n",
       "         ('PERSON', 'Games'): 1,\n",
       "         ('CARDINAL', '48'): 1,\n",
       "         ('WORK_OF_ART', 'FiveThirtyEight Store Newsletter'): 1,\n",
       "         ('ORG', 'WordPress'): 1,\n",
       "         ('PERSON', 'Cookie Policy'): 1})"
      ]
     },
     "execution_count": 105,
     "metadata": {},
     "output_type": "execute_result"
    }
   ],
   "source": [
    "labels = [(x.label_,x.text) for x in article.ents]\n",
    "Counter(labels)"
   ]
  },
  {
   "cell_type": "code",
   "execution_count": 106,
   "metadata": {},
   "outputs": [
    {
     "data": {
      "text/plain": [
       "Counter({'PERSON': 42,\n",
       "         'DATE': 18,\n",
       "         'WORK_OF_ART': 15,\n",
       "         'ORG': 8,\n",
       "         'CARDINAL': 8,\n",
       "         'GPE': 4,\n",
       "         'NORP': 4,\n",
       "         'TIME': 2,\n",
       "         'LOC': 1,\n",
       "         'FAC': 1,\n",
       "         'LANGUAGE': 1,\n",
       "         'EVENT': 1,\n",
       "         'PRODUCT': 1})"
      ]
     },
     "execution_count": 106,
     "metadata": {},
     "output_type": "execute_result"
    }
   ],
   "source": [
    "labels = [x.label_ for x in article.ents]\n",
    "Counter(labels)"
   ]
  },
  {
   "cell_type": "code",
   "execution_count": 107,
   "metadata": {},
   "outputs": [
    {
     "data": {
      "text/plain": [
       "['PERSON',\n",
       " 'WORK_OF_ART',\n",
       " 'ORG',\n",
       " 'PERSON',\n",
       " 'WORK_OF_ART',\n",
       " 'CARDINAL',\n",
       " 'DATE',\n",
       " 'TIME',\n",
       " 'PERSON',\n",
       " 'WORK_OF_ART',\n",
       " 'PERSON',\n",
       " 'ORG',\n",
       " 'PERSON',\n",
       " 'DATE',\n",
       " 'WORK_OF_ART',\n",
       " 'DATE',\n",
       " 'PERSON',\n",
       " 'DATE',\n",
       " 'PERSON',\n",
       " 'WORK_OF_ART',\n",
       " 'DATE',\n",
       " 'DATE',\n",
       " 'DATE',\n",
       " 'PERSON',\n",
       " 'WORK_OF_ART',\n",
       " 'CARDINAL',\n",
       " 'TIME',\n",
       " 'PERSON',\n",
       " 'DATE',\n",
       " 'CARDINAL',\n",
       " 'PERSON',\n",
       " 'WORK_OF_ART',\n",
       " 'DATE',\n",
       " 'PERSON',\n",
       " 'PERSON',\n",
       " 'PERSON',\n",
       " 'GPE',\n",
       " 'NORP',\n",
       " 'NORP',\n",
       " 'PERSON',\n",
       " 'LOC',\n",
       " 'WORK_OF_ART',\n",
       " 'PERSON',\n",
       " 'ORG',\n",
       " 'NORP',\n",
       " 'DATE',\n",
       " 'DATE',\n",
       " 'CARDINAL',\n",
       " 'DATE',\n",
       " 'PERSON',\n",
       " 'PERSON',\n",
       " 'WORK_OF_ART',\n",
       " 'DATE',\n",
       " 'PERSON',\n",
       " 'DATE',\n",
       " 'GPE',\n",
       " 'GPE',\n",
       " 'WORK_OF_ART',\n",
       " 'PERSON',\n",
       " 'WORK_OF_ART',\n",
       " 'NORP',\n",
       " 'PERSON',\n",
       " 'WORK_OF_ART',\n",
       " 'PERSON',\n",
       " 'PERSON',\n",
       " 'PERSON',\n",
       " 'PERSON',\n",
       " 'FAC',\n",
       " 'PERSON',\n",
       " 'LANGUAGE',\n",
       " 'EVENT',\n",
       " 'PERSON',\n",
       " 'PERSON',\n",
       " 'PERSON',\n",
       " 'PERSON',\n",
       " 'PERSON',\n",
       " 'CARDINAL',\n",
       " 'ORG',\n",
       " 'PERSON',\n",
       " 'PERSON',\n",
       " 'PERSON',\n",
       " 'PERSON',\n",
       " 'PERSON',\n",
       " 'PERSON',\n",
       " 'CARDINAL',\n",
       " 'PERSON',\n",
       " 'DATE',\n",
       " 'CARDINAL',\n",
       " 'DATE',\n",
       " 'PERSON',\n",
       " 'WORK_OF_ART',\n",
       " 'PERSON',\n",
       " 'PERSON',\n",
       " 'WORK_OF_ART',\n",
       " 'ORG',\n",
       " 'GPE',\n",
       " 'PRODUCT',\n",
       " 'PERSON',\n",
       " 'CARDINAL',\n",
       " 'WORK_OF_ART',\n",
       " 'ORG',\n",
       " 'DATE',\n",
       " 'ORG',\n",
       " 'DATE',\n",
       " 'ORG',\n",
       " 'PERSON']"
      ]
     },
     "execution_count": 107,
     "metadata": {},
     "output_type": "execute_result"
    }
   ],
   "source": [
    "labels"
   ]
  },
  {
   "cell_type": "code",
   "execution_count": 108,
   "metadata": {
    "slideshow": {
     "slide_type": "subslide"
    }
   },
   "outputs": [
    {
     "data": {
      "image/png": "[encoded data removed]",
      "text/plain": [
       "<Figure size 4500x1000 with 1 Axes>"
      ]
     },
     "metadata": {},
     "output_type": "display_data"
    }
   ],
   "source": [
    "plt.figure(figsize=(45,10))\n",
    "sns.countplot(x=labels, order=pd.Series(labels).value_counts().index)\n",
    "# sns.countplot(words_nostop, order=[counted[0] for counted in Counter(words_nostop).most_common()])\n",
    "plt.xticks(rotation=90)\n",
    "plt.show()"
   ]
  },
  {
   "attachments": {},
   "cell_type": "markdown",
   "metadata": {},
   "source": [
    "# BREAK"
   ]
  },
  {
   "cell_type": "markdown",
   "metadata": {},
   "source": [
    "# NLP Part II"
   ]
  },
  {
   "cell_type": "markdown",
   "metadata": {
    "slideshow": {
     "slide_type": "slide"
    }
   },
   "source": [
    "# 1. Word embedding"
   ]
  },
  {
   "cell_type": "markdown",
   "metadata": {
    "slideshow": {
     "slide_type": "subslide"
    }
   },
   "source": [
    "#### Word2Vec\n",
    "- Developed by [Mikolov et al., 2013](https://papers.nips.cc/paper/5021-distributed-representations-of-words-and-phrases-and-their-compositionality.pdf)\n",
    "- Represent the meaning of the words as a vector\n",
    "    - Vector: numeric array\n",
    "    - Output of a neural network model that predicts the next word\n",
    "- Surprisingly, many different semantic informations can be represented from word vectors of ```Word2Vec```\n",
    "- (More explanation in here: https://www.tensorflow.org/tutorials/representation/word2vec)"
   ]
  },
  {
   "cell_type": "markdown",
   "metadata": {},
   "source": [
    "You will also need to download a pretrained language model: https://github.com/eyaler/word2vec-slim/raw/master/GoogleNews-vectors-negative300-SLIM.bin.gz"
   ]
  },
  {
   "cell_type": "code",
   "execution_count": 109,
   "metadata": {},
   "outputs": [],
   "source": [
    "import gensim"
   ]
  },
  {
   "cell_type": "markdown",
   "metadata": {},
   "source": [
    "Change the filepath in the next cell to correspond to the location of the pretrained model file you downloaded above."
   ]
  },
  {
   "cell_type": "code",
   "execution_count": 110,
   "metadata": {},
   "outputs": [],
   "source": [
    "# w2v_mod = gensim.models.KeyedVectors.load_word2vec_format(\"~/Downloads/GoogleNews-vectors-negative300-SLIM.bin.gz\", binary=True)"
   ]
  },
  {
   "cell_type": "markdown",
   "metadata": {},
   "source": [
    "There are several pretrained models that you can access.  See\n",
    "https://github.com/RaRe-Technologies/gensim-data/blob/master/list.json for a list of available models."
   ]
  },
  {
   "cell_type": "code",
   "execution_count": 111,
   "metadata": {},
   "outputs": [],
   "source": [
    "import gensim.downloader as api\n",
    "# Google News is about 1.6GB, which you can download on your own\n",
    "w2v_mod = api.load('word2vec-google-news-300')\n"
   ]
  },
  {
   "cell_type": "markdown",
   "metadata": {
    "slideshow": {
     "slide_type": "slide"
    }
   },
   "source": [
    "## 1-1. Calculating similarity between words"
   ]
  },
  {
   "cell_type": "markdown",
   "metadata": {
    "slideshow": {
     "slide_type": "subslide"
    }
   },
   "source": [
    "- Q: What's similarity between *school* and *student*?"
   ]
  },
  {
   "cell_type": "markdown",
   "metadata": {},
   "source": [
    "- the word vector for *school* looks like this:"
   ]
  },
  {
   "cell_type": "code",
   "execution_count": 173,
   "metadata": {
    "slideshow": {
     "slide_type": "subslide"
    }
   },
   "outputs": [
    {
     "data": {
      "text/plain": [
       "array([ 9.13085938e-02,  2.81982422e-02,  3.68652344e-02,  2.18750000e-01,\n",
       "        9.76562500e-02, -6.59179688e-02,  1.56250000e-01, -4.68750000e-02,\n",
       "       -4.66918945e-03, -9.08203125e-02,  2.49023438e-01,  4.56542969e-02,\n",
       "        6.64062500e-02, -9.86328125e-02, -1.05957031e-01,  1.06445312e-01,\n",
       "       -2.00195312e-01,  1.40991211e-02,  1.36718750e-01, -8.78906250e-02,\n",
       "        2.05078125e-01,  1.70898438e-01,  1.16577148e-02,  1.71875000e-01,\n",
       "        4.85229492e-03, -3.49609375e-01,  2.27355957e-03,  1.84570312e-01,\n",
       "        1.19628906e-01, -2.51464844e-02,  1.02050781e-01, -1.06933594e-01,\n",
       "        4.00390625e-02,  7.50732422e-03, -1.63085938e-01, -1.49414062e-01,\n",
       "        2.28515625e-01, -5.02929688e-02,  4.63867188e-02,  1.25000000e-01,\n",
       "        1.30615234e-02,  1.27929688e-01,  1.10351562e-01, -5.05371094e-02,\n",
       "        3.44238281e-02,  1.44531250e-01,  1.71875000e-01, -2.78320312e-02,\n",
       "       -1.10839844e-01,  2.29492188e-01, -1.17187500e-01, -1.22070312e-01,\n",
       "       -3.55529785e-03, -1.13769531e-01,  2.11914062e-01, -2.08984375e-01,\n",
       "       -1.04492188e-01,  4.39453125e-02, -1.23291016e-02, -1.59179688e-01,\n",
       "       -8.83789062e-02, -4.00390625e-02,  1.06445312e-01, -5.07812500e-02,\n",
       "        7.76367188e-02,  1.46484375e-01, -1.72851562e-01,  2.07031250e-01,\n",
       "        2.20947266e-02,  4.05273438e-02, -1.83593750e-01,  1.21093750e-01,\n",
       "        8.69140625e-02,  3.68652344e-02, -1.11328125e-01,  3.55468750e-01,\n",
       "        2.87109375e-01,  3.18908691e-03,  1.72851562e-01,  1.58203125e-01,\n",
       "        4.98046875e-02, -1.66992188e-01, -1.50390625e-01,  2.08007812e-01,\n",
       "        5.51757812e-02,  3.95507812e-02,  3.71093750e-02,  2.37304688e-01,\n",
       "        1.66015625e-01, -2.83203125e-02, -1.81884766e-02, -1.89453125e-01,\n",
       "       -1.36718750e-02, -1.53320312e-01, -1.78222656e-02,  9.42382812e-02,\n",
       "        1.59179688e-01,  6.34765625e-02, -6.25000000e-02,  7.17773438e-02,\n",
       "       -4.78515625e-02, -1.33666992e-02, -1.38671875e-01,  6.12792969e-02,\n",
       "       -2.17773438e-01, -8.34960938e-02,  1.29394531e-02,  5.56640625e-02,\n",
       "       -2.17285156e-02, -2.08007812e-01, -2.30468750e-01,  1.69921875e-01,\n",
       "       -3.36914062e-02, -4.51660156e-02,  1.65039062e-01, -2.51770020e-04,\n",
       "        6.68945312e-02, -4.98046875e-02, -1.41601562e-01, -1.62109375e-01,\n",
       "       -1.12304688e-01, -1.51977539e-02,  2.47802734e-02, -2.17285156e-02,\n",
       "       -5.95703125e-02, -4.51660156e-02, -8.25195312e-02, -1.35742188e-01,\n",
       "        3.06701660e-03,  8.20312500e-02,  9.08203125e-02, -3.55468750e-01,\n",
       "       -1.94335938e-01, -1.02050781e-01, -1.32812500e-01, -2.99072266e-02,\n",
       "        2.72216797e-02, -1.04308128e-05, -2.78320312e-02,  7.03125000e-02,\n",
       "       -3.55468750e-01, -3.55468750e-01,  1.29882812e-01,  4.57763672e-03,\n",
       "       -2.61230469e-02,  2.14843750e-01, -9.66796875e-02, -9.52148438e-02,\n",
       "       -2.22167969e-02,  4.74929810e-04,  4.04296875e-01, -1.77734375e-01,\n",
       "       -9.03320312e-02,  1.49414062e-01, -2.06054688e-01, -1.28906250e-01,\n",
       "        2.55859375e-01, -2.39257812e-01,  1.07421875e-01, -7.27539062e-02,\n",
       "       -2.27539062e-01,  1.13769531e-01,  2.04101562e-01,  1.95312500e-01,\n",
       "       -7.76367188e-02,  1.15356445e-02, -3.07617188e-02, -2.09960938e-01,\n",
       "        6.12792969e-02,  5.27343750e-02, -2.17773438e-01,  3.93066406e-02,\n",
       "        1.58691406e-02, -2.63671875e-01,  1.68457031e-02,  6.54296875e-02,\n",
       "        1.72119141e-02,  1.22558594e-01,  1.04370117e-02,  2.47070312e-01,\n",
       "       -3.17382812e-03,  5.81054688e-02,  1.70898438e-02,  4.88281250e-02,\n",
       "        8.49609375e-02,  1.28173828e-02, -8.59375000e-02, -6.29882812e-02,\n",
       "        2.25585938e-01,  9.22851562e-02,  7.27539062e-02, -9.03320312e-02,\n",
       "       -2.17285156e-02,  1.78710938e-01, -2.67578125e-01, -8.20312500e-02,\n",
       "        1.15234375e-01, -1.87500000e-01, -7.35473633e-03, -1.95312500e-02,\n",
       "       -1.05957031e-01, -2.19726562e-02,  2.13867188e-01, -2.83203125e-01,\n",
       "       -6.73828125e-02, -2.92968750e-01,  1.74560547e-02, -2.53906250e-01,\n",
       "       -5.00488281e-02, -1.42669678e-03,  8.93554688e-02, -1.51367188e-01,\n",
       "        1.77734375e-01, -3.57421875e-01, -3.26171875e-01,  3.24218750e-01,\n",
       "       -1.01562500e-01,  5.95703125e-02, -1.35742188e-01, -1.43554688e-01,\n",
       "       -1.24511719e-01, -9.22851562e-02,  2.50244141e-02,  1.46484375e-01,\n",
       "        1.23046875e-01,  2.73437500e-02, -2.57812500e-01,  1.13281250e-01,\n",
       "        7.66601562e-02, -3.68652344e-02,  2.08007812e-01,  7.91015625e-02,\n",
       "        4.98046875e-02,  1.61132812e-01,  2.12402344e-02,  8.39843750e-02,\n",
       "        9.09423828e-03, -1.93359375e-01,  1.62353516e-02, -2.95410156e-02,\n",
       "        7.03125000e-02, -5.29785156e-02,  2.30468750e-01, -8.74023438e-02,\n",
       "       -2.73437500e-01, -1.16210938e-01, -1.64062500e-01, -6.59179688e-02,\n",
       "        1.63574219e-02, -6.13403320e-03,  3.19824219e-02,  9.76562500e-02,\n",
       "        1.38671875e-01,  1.42578125e-01, -8.74023438e-02, -2.67578125e-01,\n",
       "        1.15722656e-01, -2.60009766e-02,  1.92871094e-02,  2.51953125e-01,\n",
       "        4.58984375e-02,  1.39648438e-01, -2.47070312e-01, -9.22851562e-02,\n",
       "        9.57031250e-02, -5.61523438e-02,  3.63769531e-02,  6.64062500e-02,\n",
       "       -4.66308594e-02,  5.98144531e-02,  1.01562500e-01, -4.68750000e-02,\n",
       "        9.08203125e-02,  2.08984375e-01, -7.81250000e-02, -2.51953125e-01,\n",
       "        3.06640625e-01, -3.14453125e-01, -6.07910156e-02, -3.10546875e-01,\n",
       "       -1.17187500e-01, -5.05371094e-02, -1.36718750e-01,  2.51953125e-01,\n",
       "       -1.91406250e-01, -4.88281250e-04, -9.32617188e-02,  1.96289062e-01,\n",
       "        1.51367188e-01,  2.98828125e-01, -1.07910156e-01, -2.39257812e-02,\n",
       "       -1.47460938e-01, -6.68945312e-02,  1.04980469e-01, -5.73730469e-02,\n",
       "       -1.05957031e-01, -1.25122070e-02,  9.08203125e-02,  1.20117188e-01],\n",
       "      dtype=float32)"
      ]
     },
     "execution_count": 173,
     "metadata": {},
     "output_type": "execute_result"
    }
   ],
   "source": [
    "w2v_mod['school']"
   ]
  },
  {
   "cell_type": "code",
   "execution_count": 174,
   "metadata": {
    "slideshow": {
     "slide_type": "subslide"
    }
   },
   "outputs": [
    {
     "data": {
      "text/plain": [
       "300"
      ]
     },
     "execution_count": 174,
     "metadata": {},
     "output_type": "execute_result"
    }
   ],
   "source": [
    "len(w2v_mod['school'])"
   ]
  },
  {
   "cell_type": "markdown",
   "metadata": {
    "slideshow": {
     "slide_type": "subslide"
    }
   },
   "source": [
    "- and the word vector for *student* looks like this:"
   ]
  },
  {
   "cell_type": "code",
   "execution_count": 175,
   "metadata": {
    "slideshow": {
     "slide_type": "subslide"
    }
   },
   "outputs": [
    {
     "data": {
      "text/plain": [
       "array([ 0.03686523,  0.0201416 ,  0.22167969,  0.15527344,  0.17871094,\n",
       "        0.03149414,  0.31445312, -0.03369141,  0.15429688, -0.375     ,\n",
       "        0.05102539, -0.13183594, -0.11962891, -0.13867188, -0.02026367,\n",
       "        0.01318359, -0.06738281, -0.06591797, -0.02502441, -0.140625  ,\n",
       "        0.02160645,  0.17382812, -0.00177765, -0.09179688, -0.09765625,\n",
       "       -0.4921875 , -0.13671875, -0.00570679,  0.16992188,  0.10107422,\n",
       "        0.09423828, -0.10986328, -0.08496094,  0.05419922, -0.06542969,\n",
       "       -0.0168457 ,  0.11230469,  0.13964844, -0.08300781,  0.22265625,\n",
       "       -0.23828125,  0.11767578, -0.04614258,  0.0859375 ,  0.17089844,\n",
       "       -0.06884766,  0.04003906, -0.10351562,  0.15917969,  0.04956055,\n",
       "       -0.10888672, -0.15039062,  0.01507568, -0.05419922,  0.25      ,\n",
       "       -0.09521484, -0.11816406,  0.11132812,  0.20507812, -0.10009766,\n",
       "        0.0168457 , -0.09521484, -0.00308228, -0.01348877,  0.09277344,\n",
       "       -0.08447266,  0.08496094, -0.05541992,  0.15820312,  0.10546875,\n",
       "       -0.23144531,  0.08251953,  0.01470947, -0.21289062, -0.17871094,\n",
       "        0.4375    ,  0.14550781, -0.01721191,  0.0859375 , -0.00189972,\n",
       "        0.02709961, -0.13574219, -0.01806641,  0.20605469, -0.16992188,\n",
       "        0.02722168, -0.12597656,  0.30664062, -0.03051758,  0.24902344,\n",
       "       -0.11279297, -0.37109375, -0.15429688, -0.16601562, -0.11865234,\n",
       "        0.07373047,  0.1796875 ,  0.26367188, -0.02478027, -0.20214844,\n",
       "        0.03588867, -0.10546875, -0.09033203, -0.38476562, -0.09570312,\n",
       "       -0.05639648, -0.14453125, -0.16601562,  0.23925781, -0.234375  ,\n",
       "       -0.38085938, -0.16308594,  0.09960938,  0.01062012,  0.08251953,\n",
       "       -0.11230469, -0.08007812, -0.02978516,  0.14941406,  0.17480469,\n",
       "        0.06835938,  0.07470703, -0.04931641, -0.140625  ,  0.0019989 ,\n",
       "        0.08007812,  0.10400391,  0.0255127 ,  0.07714844,  0.25390625,\n",
       "       -0.05200195, -0.29882812, -0.13085938, -0.10058594, -0.20800781,\n",
       "       -0.11474609,  0.13183594,  0.04858398, -0.34570312,  0.03759766,\n",
       "       -0.35742188, -0.2109375 , -0.09130859,  0.06640625, -0.0246582 ,\n",
       "        0.23632812, -0.04956055,  0.30078125,  0.14941406,  0.04541016,\n",
       "        0.41015625,  0.03063965, -0.05712891,  0.04516602, -0.03637695,\n",
       "       -0.20898438,  0.10693359, -0.19628906,  0.15332031,  0.04174805,\n",
       "       -0.29101562,  0.01403809,  0.12060547,  0.234375  , -0.04711914,\n",
       "        0.18554688,  0.17773438, -0.16113281,  0.12988281, -0.03149414,\n",
       "       -0.04711914, -0.0300293 ,  0.07128906, -0.15917969,  0.10107422,\n",
       "        0.046875  ,  0.17578125, -0.00115967, -0.03320312,  0.15234375,\n",
       "        0.12109375, -0.14453125,  0.15234375, -0.16503906,  0.17089844,\n",
       "        0.05761719,  0.06054688,  0.01556396,  0.02636719, -0.12792969,\n",
       "        0.14550781, -0.03540039, -0.06835938,  0.44335938, -0.43945312,\n",
       "       -0.09082031,  0.16796875, -0.20703125,  0.03112793, -0.03759766,\n",
       "       -0.17089844,  0.21289062,  0.09863281, -0.22265625, -0.23339844,\n",
       "       -0.35742188, -0.03112793, -0.16894531, -0.09082031, -0.15136719,\n",
       "        0.21484375, -0.12109375,  0.24511719, -0.37304688, -0.26171875,\n",
       "        0.12060547, -0.09667969,  0.02636719, -0.078125  , -0.05371094,\n",
       "       -0.01330566, -0.28515625,  0.04760742, -0.04418945,  0.07958984,\n",
       "        0.23828125,  0.02319336, -0.05957031,  0.18554688, -0.04150391,\n",
       "        0.2109375 ,  0.1328125 , -0.00668335,  0.16601562, -0.08007812,\n",
       "       -0.12109375,  0.02978516, -0.06787109, -0.00665283,  0.3046875 ,\n",
       "        0.390625  , -0.15234375, -0.08056641,  0.04052734, -0.1328125 ,\n",
       "       -0.07275391, -0.32226562,  0.01623535, -0.18847656,  0.17675781,\n",
       "       -0.04296875,  0.01202393,  0.05126953,  0.16601562, -0.10986328,\n",
       "       -0.21484375,  0.04394531,  0.12158203, -0.05273438,  0.16308594,\n",
       "        0.0625    ,  0.02294922, -0.18652344, -0.31445312, -0.01196289,\n",
       "        0.02319336, -0.01831055,  0.19140625, -0.20507812, -0.00750732,\n",
       "        0.09912109, -0.09423828,  0.06225586,  0.22070312, -0.15722656,\n",
       "       -0.17089844,  0.01696777, -0.29296875, -0.07324219, -0.18847656,\n",
       "        0.00811768, -0.04931641, -0.11279297,  0.19238281, -0.13183594,\n",
       "        0.10449219, -0.18066406,  0.11865234,  0.34375   ,  0.24414062,\n",
       "       -0.15136719, -0.12695312, -0.20214844, -0.09179688,  0.05786133,\n",
       "        0.171875  ,  0.03833008,  0.11474609,  0.09814453,  0.08642578],\n",
       "      dtype=float32)"
      ]
     },
     "execution_count": 175,
     "metadata": {},
     "output_type": "execute_result"
    }
   ],
   "source": [
    "w2v_mod['student']"
   ]
  },
  {
   "cell_type": "markdown",
   "metadata": {
    "slideshow": {
     "slide_type": "subslide"
    }
   },
   "source": [
    "- the similarity between two word vectors is:"
   ]
  },
  {
   "cell_type": "code",
   "execution_count": 112,
   "metadata": {},
   "outputs": [
    {
     "data": {
      "text/plain": [
       "0.60556275"
      ]
     },
     "execution_count": 112,
     "metadata": {},
     "output_type": "execute_result"
    }
   ],
   "source": [
    "w2v_mod.similarity('school', 'student')"
   ]
  },
  {
   "cell_type": "code",
   "execution_count": 113,
   "metadata": {},
   "outputs": [
    {
     "data": {
      "text/plain": [
       "0.17797625"
      ]
     },
     "execution_count": 113,
     "metadata": {},
     "output_type": "execute_result"
    }
   ],
   "source": [
    "w2v_mod.similarity('school', 'computer')"
   ]
  },
  {
   "attachments": {},
   "cell_type": "markdown",
   "metadata": {
    "slideshow": {
     "slide_type": "skip"
    }
   },
   "source": [
    "### <font color='magenta'> Q4: Find a word that is more similar to school using this model </font>"
   ]
  },
  {
   "cell_type": "code",
   "execution_count": 177,
   "metadata": {
    "slideshow": {
     "slide_type": "skip"
    }
   },
   "outputs": [
    {
     "data": {
      "text/plain": [
       "0.7411908"
      ]
     },
     "execution_count": 177,
     "metadata": {},
     "output_type": "execute_result"
    }
   ],
   "source": [
    "# insert your code here\n",
    "w2v_mod.similarity('school', 'schools')"
   ]
  },
  {
   "attachments": {},
   "cell_type": "markdown",
   "metadata": {
    "slideshow": {
     "slide_type": "skip"
    }
   },
   "source": [
    "### <font color='magenta'>Q5 Find two words that have a cosine similarity less than .1 </font>\n",
    "- How would you interprete the results?"
   ]
  },
  {
   "cell_type": "code",
   "execution_count": 178,
   "metadata": {
    "slideshow": {
     "slide_type": "skip"
    }
   },
   "outputs": [
    {
     "data": {
      "text/plain": [
       "0.08486701"
      ]
     },
     "execution_count": 178,
     "metadata": {},
     "output_type": "execute_result"
    }
   ],
   "source": [
    "# insert your code here\n",
    "w2v_mod.similarity('school', 'fridge')"
   ]
  },
  {
   "attachments": {},
   "cell_type": "markdown",
   "metadata": {
    "slideshow": {
     "slide_type": "skip"
    }
   },
   "source": [
    "### <font color='magenta'> Q6 Try some other words. Any other interesting findings? </font>\n",
    "- Give 2 more examples.\n",
    "- How would you interprete the results?"
   ]
  },
  {
   "cell_type": "code",
   "execution_count": 179,
   "metadata": {
    "slideshow": {
     "slide_type": "skip"
    }
   },
   "outputs": [
    {
     "name": "stdout",
     "output_type": "stream",
     "text": [
      "0.2297925\n",
      "0.6382406\n"
     ]
    }
   ],
   "source": [
    "# insert your code here\n",
    "print(w2v_mod.similarity('school', 'parent'))\n",
    "print(w2v_mod.similarity('school', 'teacher'))"
   ]
  },
  {
   "cell_type": "markdown",
   "metadata": {
    "slideshow": {
     "slide_type": "skip"
    }
   },
   "source": [
    "(type in your response here)"
   ]
  },
  {
   "cell_type": "markdown",
   "metadata": {
    "slideshow": {
     "slide_type": "slide"
    }
   },
   "source": [
    "## 1-2. Analogy from word vectors"
   ]
  },
  {
   "cell_type": "markdown",
   "metadata": {
    "slideshow": {
     "slide_type": "subslide"
    }
   },
   "source": [
    "<img src=\"https://www.tensorflow.org/images/linear-relationships.png\" width=\"800\">"
   ]
  },
  {
   "cell_type": "markdown",
   "metadata": {
    "slideshow": {
     "slide_type": "subslide"
    }
   },
   "source": [
    "#### Can we approximate the relationship between words by doing - and + operations?"
   ]
  },
  {
   "cell_type": "markdown",
   "metadata": {
    "slideshow": {
     "slide_type": "subslide"
    }
   },
   "source": [
    "- $ Spain - Germany \\approx x -  Berlin $\n",
    "- $\\rightarrow Spain - Germany + Berlin \\approx ?$\n"
   ]
  },
  {
   "cell_type": "markdown",
   "metadata": {},
   "source": [
    "Berlin - Germany = x - Spain\n",
    "\n",
    "Spain - Germany = x - Berlin\n",
    "\n",
    "Berlin + Spain - Germany = x"
   ]
  },
  {
   "cell_type": "code",
   "execution_count": 180,
   "metadata": {
    "slideshow": {
     "slide_type": "subslide"
    }
   },
   "outputs": [
    {
     "data": {
      "text/plain": [
       "[('Madrid', 0.7173479795455933),\n",
       " ('Barcelona', 0.5742595791816711),\n",
       " ('Malaga', 0.5547428727149963),\n",
       " ('San_Sebastián', 0.5468496084213257),\n",
       " ('Bilbao', 0.5404422283172607),\n",
       " ('Paseo_del_Prado', 0.5403422117233276),\n",
       " ('Gijón', 0.5378726720809937),\n",
       " ('Lisbon', 0.5366038680076599),\n",
       " ('Seville', 0.5312415361404419),\n",
       " ('Buenos_Aires', 0.5305452346801758)]"
      ]
     },
     "execution_count": 180,
     "metadata": {},
     "output_type": "execute_result"
    }
   ],
   "source": [
    "w2v_mod.most_similar(positive=['Spain', 'Berlin'], negative=['Germany'])"
   ]
  },
  {
   "cell_type": "code",
   "execution_count": 181,
   "metadata": {},
   "outputs": [
    {
     "data": {
      "text/plain": [
       "[('Rome', 0.7297912836074829),\n",
       " ('Milan', 0.6385141611099243),\n",
       " ('Italian', 0.6272469758987427),\n",
       " ('Bologna', 0.5835853219032288),\n",
       " ('Sicily', 0.5803888440132141),\n",
       " ('Palermo_Sicily', 0.5634143352508545),\n",
       " ('Giorgio', 0.5627466440200806),\n",
       " ('Palermo', 0.5560237169265747),\n",
       " ('Villa_Giulia', 0.5463685989379883),\n",
       " ('Milano', 0.5429991483688354)]"
      ]
     },
     "execution_count": 181,
     "metadata": {},
     "output_type": "execute_result"
    }
   ],
   "source": [
    "w2v_mod.most_similar(positive=['Italy', 'Berlin'], negative=['Germany'])"
   ]
  },
  {
   "attachments": {},
   "cell_type": "markdown",
   "metadata": {
    "slideshow": {
     "slide_type": "skip"
    },
    "tags": []
   },
   "source": [
    "### <font color='magenta'> Q8 Any other interesting examples? </font>\n",
    "- Give 3 more examples *not* using capital cities.\n",
    "- How would you interprete the results?"
   ]
  },
  {
   "cell_type": "code",
   "execution_count": 182,
   "metadata": {
    "slideshow": {
     "slide_type": "skip"
    }
   },
   "outputs": [
    {
     "name": "stdout",
     "output_type": "stream",
     "text": [
      "[('bananas', 0.526437520980835), ('mango', 0.48698610067367554), ('cocoa_bean', 0.46279236674308777), ('pear', 0.460997998714447), ('almond', 0.45850658416748047), ('hazelnut', 0.45521897077560425), ('potato', 0.45514658093452454), ('banana_growers', 0.45276787877082825), ('fruit', 0.4527122974395752), ('pineapples', 0.45211008191108704)]\n",
      "[('buses', 0.5985808968544006), ('minibus', 0.583356499671936), ('van', 0.5545400977134705), ('minivan', 0.5530251860618591), ('truck', 0.5510067939758301), ('Bus', 0.5428237318992615), ('schoolbus', 0.5422315001487732), ('vehicle', 0.539603054523468), ('SUV', 0.5328668355941772), ('cab', 0.523908793926239)]\n",
      "[('laptop', 0.7115751504898071), ('computers', 0.6918664574623108), ('laptop_computer', 0.6158462762832642), ('PC', 0.5847039222717285), ('com_puter', 0.5832228660583496), ('laptops', 0.5795888900756836), ('Computer', 0.5586373209953308), ('Macbook_laptop', 0.5550304651260376), ('Sony_Vaio_laptop', 0.5506312251091003), ('Surface_tabletop', 0.5500742793083191)]\n"
     ]
    }
   ],
   "source": [
    "# insert your code here\n",
    "print(w2v_mod.most_similar(positive=['apple', 'banana'], negative=['watermelon']))\n",
    "print(w2v_mod.most_similar(positive=['car', 'bus'], negative=['bicycle']))\n",
    "print(w2v_mod.most_similar(positive=['phone', 'computer'], negative=['telephone']))"
   ]
  },
  {
   "cell_type": "markdown",
   "metadata": {
    "slideshow": {
     "slide_type": "slide"
    }
   },
   "source": [
    "## 1-3. Constructing interpretable semantic scales "
   ]
  },
  {
   "cell_type": "markdown",
   "metadata": {
    "slideshow": {
     "slide_type": "subslide"
    }
   },
   "source": [
    "- So far, we saw that word vectors effectively carries (although not perfect) the semantic information.\n",
    "- Can we design something more interpretable results from using the semantic space?"
   ]
  },
  {
   "cell_type": "markdown",
   "metadata": {},
   "source": [
    "- Let's re-try with real datapoints in [here](https://projector.tensorflow.org): *politics* words in a *bad-good* PCA space"
   ]
  },
  {
   "cell_type": "code",
   "execution_count": 183,
   "metadata": {
    "slideshow": {
     "slide_type": "subslide"
    }
   },
   "outputs": [],
   "source": [
    "from scipy import spatial\n",
    " \n",
    "def cosine_similarity(x, y):\n",
    "    return(1 - spatial.distance.cosine(x, y))"
   ]
  },
  {
   "cell_type": "markdown",
   "metadata": {
    "slideshow": {
     "slide_type": "fragment"
    }
   },
   "source": [
    "- Can we regenerate this results with our embedding model?"
   ]
  },
  {
   "cell_type": "markdown",
   "metadata": {
    "slideshow": {
     "slide_type": "subslide"
    }
   },
   "source": [
    "### Let's plot words in the 2D space\n",
    "- Using Bad & Good axes\n",
    "- Calculate cosine similarity between an evaluating word (violence, discussion, and issues) with each scale's end (bad, and good)"
   ]
  },
  {
   "cell_type": "code",
   "execution_count": 184,
   "metadata": {
    "slideshow": {
     "slide_type": "subslide"
    }
   },
   "outputs": [],
   "source": [
    "pol_words_sim_2d = pd.DataFrame([[cosine_similarity(w2v_mod['violence'], w2v_mod['good']), cosine_similarity(w2v_mod['violence'], w2v_mod['bad'])],\n",
    "                                 [cosine_similarity(w2v_mod['discussion'], w2v_mod['good']), cosine_similarity(w2v_mod['discussion'], w2v_mod['bad'])],\n",
    "                                 [cosine_similarity(w2v_mod['issues'], w2v_mod['good']), cosine_similarity(w2v_mod['issues'], w2v_mod['bad'])]],\n",
    "                                index=['violence', 'discussion', 'issues'], columns=['good', 'bad'])"
   ]
  },
  {
   "cell_type": "code",
   "execution_count": 185,
   "metadata": {
    "slideshow": {
     "slide_type": "subslide"
    }
   },
   "outputs": [
    {
     "data": {
      "text/html": [
       "<div>\n",
       "<style scoped>\n",
       "    .dataframe tbody tr th:only-of-type {\n",
       "        vertical-align: middle;\n",
       "    }\n",
       "\n",
       "    .dataframe tbody tr th {\n",
       "        vertical-align: top;\n",
       "    }\n",
       "\n",
       "    .dataframe thead th {\n",
       "        text-align: right;\n",
       "    }\n",
       "</style>\n",
       "<table border=\"1\" class=\"dataframe\">\n",
       "  <thead>\n",
       "    <tr style=\"text-align: right;\">\n",
       "      <th></th>\n",
       "      <th>good</th>\n",
       "      <th>bad</th>\n",
       "    </tr>\n",
       "  </thead>\n",
       "  <tbody>\n",
       "    <tr>\n",
       "      <th>violence</th>\n",
       "      <td>-0.016942</td>\n",
       "      <td>0.091223</td>\n",
       "    </tr>\n",
       "    <tr>\n",
       "      <th>discussion</th>\n",
       "      <td>0.045935</td>\n",
       "      <td>-0.007224</td>\n",
       "    </tr>\n",
       "    <tr>\n",
       "      <th>issues</th>\n",
       "      <td>0.139897</td>\n",
       "      <td>0.118816</td>\n",
       "    </tr>\n",
       "  </tbody>\n",
       "</table>\n",
       "</div>"
      ],
      "text/plain": [
       "                good       bad\n",
       "violence   -0.016942  0.091223\n",
       "discussion  0.045935 -0.007224\n",
       "issues      0.139897  0.118816"
      ]
     },
     "execution_count": 185,
     "metadata": {},
     "output_type": "execute_result"
    }
   ],
   "source": [
    "pol_words_sim_2d"
   ]
  },
  {
   "cell_type": "markdown",
   "metadata": {
    "slideshow": {
     "slide_type": "subslide"
    }
   },
   "source": [
    "- If we plot this:"
   ]
  },
  {
   "cell_type": "code",
   "execution_count": 186,
   "metadata": {},
   "outputs": [
    {
     "data": {
      "text/plain": [
       "<Axes: xlabel='good', ylabel='bad'>"
      ]
     },
     "execution_count": 186,
     "metadata": {},
     "output_type": "execute_result"
    },
    {
     "data": {
      "image/png": "[encoded data removed]",
      "text/plain": [
       "<Figure size 640x480 with 1 Axes>"
      ]
     },
     "metadata": {},
     "output_type": "display_data"
    }
   ],
   "source": [
    "sns.scatterplot(x='good', y='bad', data=pol_words_sim_2d, hue=pol_words_sim_2d.index)"
   ]
  },
  {
   "cell_type": "markdown",
   "metadata": {},
   "source": [
    "- violence: less good, more bad\n",
    "- discussion: less bad, more good\n",
    "- issues: both bad and good"
   ]
  },
  {
   "cell_type": "markdown",
   "metadata": {
    "slideshow": {
     "slide_type": "subslide"
    }
   },
   "source": [
    "### Can we do this in an 1D scale?\n",
    "(bad) --------------------?---- (good)"
   ]
  },
  {
   "cell_type": "markdown",
   "metadata": {},
   "source": [
    "- First, let's create the vector for *bad-good* scale"
   ]
  },
  {
   "cell_type": "code",
   "execution_count": 187,
   "metadata": {},
   "outputs": [],
   "source": [
    "scale_bad_good = w2v_mod['good'] - w2v_mod['bad']"
   ]
  },
  {
   "cell_type": "code",
   "execution_count": 188,
   "metadata": {},
   "outputs": [
    {
     "data": {
      "text/plain": [
       "0.7190051674842834"
      ]
     },
     "execution_count": 188,
     "metadata": {},
     "output_type": "execute_result"
    }
   ],
   "source": [
    "cosine_similarity(w2v_mod['good'], w2v_mod['bad'])"
   ]
  },
  {
   "cell_type": "code",
   "execution_count": 189,
   "metadata": {},
   "outputs": [
    {
     "data": {
      "text/plain": [
       "300"
      ]
     },
     "execution_count": 189,
     "metadata": {},
     "output_type": "execute_result"
    }
   ],
   "source": [
    "len(scale_bad_good)"
   ]
  },
  {
   "cell_type": "markdown",
   "metadata": {
    "slideshow": {
     "slide_type": "subslide"
    }
   },
   "source": [
    "- Calculate the cosine similarity score of the word *violence* in the *bad-good* scale \n",
    "    - $sim(V(violence), V(bad) - V(good))$"
   ]
  },
  {
   "cell_type": "code",
   "execution_count": 190,
   "metadata": {},
   "outputs": [
    {
     "data": {
      "text/plain": [
       "-0.14850080013275146"
      ]
     },
     "execution_count": 190,
     "metadata": {},
     "output_type": "execute_result"
    }
   ],
   "source": [
    "violence_score = cosine_similarity(w2v_mod['violence'], scale_bad_good)\n",
    "violence_score"
   ]
  },
  {
   "cell_type": "code",
   "execution_count": 191,
   "metadata": {},
   "outputs": [
    {
     "data": {
      "text/plain": [
       "0.06724762171506882"
      ]
     },
     "execution_count": 191,
     "metadata": {},
     "output_type": "execute_result"
    }
   ],
   "source": [
    "discussion_score = cosine_similarity(w2v_mod['discussion'], scale_bad_good)\n",
    "discussion_score"
   ]
  },
  {
   "cell_type": "markdown",
   "metadata": {
    "slideshow": {
     "slide_type": "slide"
    }
   },
   "source": [
    "# 2. Sentiment Analysis with NLTK"
   ]
  },
  {
   "cell_type": "markdown",
   "metadata": {
    "slideshow": {
     "slide_type": "subslide"
    }
   },
   "source": [
    "\"The Natural Language Toolkit (NLTK) is a suite of libraries and programs for symbolic and statistical natural language processing for English written in the Python programming language.\"\n",
    "for more information see: https://www.nltk.org/"
   ]
  },
  {
   "cell_type": "markdown",
   "metadata": {},
   "source": [
    "We are going to use NLTK and Spacy to determine if text expresses positive sentiment, negative sentiment, or if it's neutral."
   ]
  },
  {
   "cell_type": "code",
   "execution_count": 192,
   "metadata": {
    "slideshow": {
     "slide_type": "skip"
    }
   },
   "outputs": [],
   "source": [
    "# adapted from https://github.com/Jcharis/Natural-Language-Processing-Tutorials/blob/master/NLP%20with%20SpaCy-%20Adding%20Extensions%20Attributes%20in%20SpaCy(How%20to%20use%20sentiment%20analysis%20in%20SpaCy).ipynb\n",
    "import nltk"
   ]
  },
  {
   "cell_type": "markdown",
   "metadata": {
    "slideshow": {
     "slide_type": "subslide"
    }
   },
   "source": [
    "\"VADER (Valence Aware Dictionary and sEntiment Reasoner) is a lexicon and rule-based sentiment analysis tool that is specifically attuned to sentiments expressed in social media.\"\n",
    "\n",
    "for more see: https://github.com/cjhutto/vaderSentiment"
   ]
  },
  {
   "cell_type": "code",
   "execution_count": 193,
   "metadata": {
    "slideshow": {
     "slide_type": "subslide"
    }
   },
   "outputs": [
    {
     "name": "stderr",
     "output_type": "stream",
     "text": [
      "[nltk_data] Downloading package vader_lexicon to\n",
      "[nltk_data]     /Users/luyan/nltk_data...\n",
      "[nltk_data]   Package vader_lexicon is already up-to-date!\n"
     ]
    },
    {
     "data": {
      "text/plain": [
       "True"
      ]
     },
     "execution_count": 193,
     "metadata": {},
     "output_type": "execute_result"
    }
   ],
   "source": [
    "nltk.download('vader_lexicon')"
   ]
  },
  {
   "cell_type": "markdown",
   "metadata": {
    "slideshow": {
     "slide_type": "subslide"
    }
   },
   "source": [
    "We are going to extend the spacy functionality with the SentimentIntensityAnalyzer function from NLTK."
   ]
  },
  {
   "cell_type": "code",
   "execution_count": 194,
   "metadata": {
    "slideshow": {
     "slide_type": "subslide"
    }
   },
   "outputs": [],
   "source": [
    "from nltk.sentiment.vader import SentimentIntensityAnalyzer\n",
    "sent_analyzer = SentimentIntensityAnalyzer()\n",
    "def sentiment_scores(docx):\n",
    "    return sent_analyzer.polarity_scores(docx.text)"
   ]
  },
  {
   "cell_type": "code",
   "execution_count": 195,
   "metadata": {},
   "outputs": [
    {
     "data": {
      "text/plain": [
       "{'neg': 0.0, 'neu': 0.0, 'pos': 1.0, 'compound': 0.6588}"
      ]
     },
     "execution_count": 195,
     "metadata": {},
     "output_type": "execute_result"
    }
   ],
   "source": [
    "sent_analyzer.polarity_scores(\"Great!\")"
   ]
  },
  {
   "cell_type": "code",
   "execution_count": 202,
   "metadata": {
    "slideshow": {
     "slide_type": "subslide"
    }
   },
   "outputs": [],
   "source": [
    "from spacy.tokens import Doc\n",
    "Doc.set_extension(\"sentimenter\",getter=sentiment_scores)"
   ]
  },
  {
   "cell_type": "code",
   "execution_count": 203,
   "metadata": {
    "slideshow": {
     "slide_type": "subslide"
    }
   },
   "outputs": [
    {
     "data": {
      "text/plain": [
       "{'neg': 0.303, 'neu': 0.511, 'pos': 0.186, 'compound': -0.3818}"
      ]
     },
     "execution_count": 203,
     "metadata": {},
     "output_type": "execute_result"
    }
   ],
   "source": [
    "nlp(\"This introduction was great but the conclusions were terrible\")._.sentimenter"
   ]
  },
  {
   "cell_type": "markdown",
   "metadata": {
    "slideshow": {
     "slide_type": "subslide"
    }
   },
   "source": [
    "Let's apply this sentiment analysis to product reviews on Amazon"
   ]
  },
  {
   "cell_type": "code",
   "execution_count": 204,
   "metadata": {},
   "outputs": [],
   "source": [
    "r = pd.read_csv('https://raw.githubusercontent.com/umsi-data-science/data/main/small_reviews.csv',index_col=0)\n",
    "# random sample of original dataset at https://www.kaggle.com/snap/amazon-fine-food-reviews"
   ]
  },
  {
   "cell_type": "code",
   "execution_count": 205,
   "metadata": {
    "slideshow": {
     "slide_type": "subslide"
    }
   },
   "outputs": [
    {
     "data": {
      "text/html": [
       "<div>\n",
       "<style scoped>\n",
       "    .dataframe tbody tr th:only-of-type {\n",
       "        vertical-align: middle;\n",
       "    }\n",
       "\n",
       "    .dataframe tbody tr th {\n",
       "        vertical-align: top;\n",
       "    }\n",
       "\n",
       "    .dataframe thead th {\n",
       "        text-align: right;\n",
       "    }\n",
       "</style>\n",
       "<table border=\"1\" class=\"dataframe\">\n",
       "  <thead>\n",
       "    <tr style=\"text-align: right;\">\n",
       "      <th></th>\n",
       "      <th>Score</th>\n",
       "      <th>Summary</th>\n",
       "      <th>Text</th>\n",
       "    </tr>\n",
       "  </thead>\n",
       "  <tbody>\n",
       "    <tr>\n",
       "      <th>244509</th>\n",
       "      <td>4</td>\n",
       "      <td>Love Happy Tot</td>\n",
       "      <td>I just love the happy tot baby food line. It s...</td>\n",
       "    </tr>\n",
       "    <tr>\n",
       "      <th>87295</th>\n",
       "      <td>4</td>\n",
       "      <td>Feelin Hot Hot Hot</td>\n",
       "      <td>Curry has become one of my favorite foods over...</td>\n",
       "    </tr>\n",
       "    <tr>\n",
       "      <th>377094</th>\n",
       "      <td>5</td>\n",
       "      <td>Wow. Very Maple-y</td>\n",
       "      <td>Just tried this for the first time, and I'm qu...</td>\n",
       "    </tr>\n",
       "    <tr>\n",
       "      <th>44261</th>\n",
       "      <td>4</td>\n",
       "      <td>Good dark, rich coffee for breakfast time</td>\n",
       "      <td>After trying lots of different blends in K-Cup...</td>\n",
       "    </tr>\n",
       "    <tr>\n",
       "      <th>398439</th>\n",
       "      <td>5</td>\n",
       "      <td>Fantastic coffee!</td>\n",
       "      <td>Exceptional coffee all around - rich, full, wi...</td>\n",
       "    </tr>\n",
       "  </tbody>\n",
       "</table>\n",
       "</div>"
      ],
      "text/plain": [
       "        Score                                    Summary  \\\n",
       "244509      4                             Love Happy Tot   \n",
       "87295       4                         Feelin Hot Hot Hot   \n",
       "377094      5                          Wow. Very Maple-y   \n",
       "44261       4  Good dark, rich coffee for breakfast time   \n",
       "398439      5                          Fantastic coffee!   \n",
       "\n",
       "                                                     Text  \n",
       "244509  I just love the happy tot baby food line. It s...  \n",
       "87295   Curry has become one of my favorite foods over...  \n",
       "377094  Just tried this for the first time, and I'm qu...  \n",
       "44261   After trying lots of different blends in K-Cup...  \n",
       "398439  Exceptional coffee all around - rich, full, wi...  "
      ]
     },
     "execution_count": 205,
     "metadata": {},
     "output_type": "execute_result"
    }
   ],
   "source": [
    "r.head()"
   ]
  },
  {
   "cell_type": "markdown",
   "metadata": {
    "slideshow": {
     "slide_type": "subslide"
    }
   },
   "source": [
    "We'll use the apply function to transform text with spacy's nlp function."
   ]
  },
  {
   "cell_type": "code",
   "execution_count": 206,
   "metadata": {
    "slideshow": {
     "slide_type": "subslide"
    }
   },
   "outputs": [],
   "source": [
    "r['compound_sentiment_rating'] = r['Text'].apply(lambda x: nlp(x)._.sentimenter['compound'])"
   ]
  },
  {
   "cell_type": "code",
   "execution_count": 207,
   "metadata": {
    "slideshow": {
     "slide_type": "subslide"
    }
   },
   "outputs": [
    {
     "data": {
      "text/html": [
       "<div>\n",
       "<style scoped>\n",
       "    .dataframe tbody tr th:only-of-type {\n",
       "        vertical-align: middle;\n",
       "    }\n",
       "\n",
       "    .dataframe tbody tr th {\n",
       "        vertical-align: top;\n",
       "    }\n",
       "\n",
       "    .dataframe thead th {\n",
       "        text-align: right;\n",
       "    }\n",
       "</style>\n",
       "<table border=\"1\" class=\"dataframe\">\n",
       "  <thead>\n",
       "    <tr style=\"text-align: right;\">\n",
       "      <th></th>\n",
       "      <th>Score</th>\n",
       "      <th>compound_sentiment_rating</th>\n",
       "      <th>Text</th>\n",
       "    </tr>\n",
       "  </thead>\n",
       "  <tbody>\n",
       "    <tr>\n",
       "      <th>244509</th>\n",
       "      <td>4</td>\n",
       "      <td>0.9558</td>\n",
       "      <td>I just love the happy tot baby food line. It s...</td>\n",
       "    </tr>\n",
       "    <tr>\n",
       "      <th>87295</th>\n",
       "      <td>4</td>\n",
       "      <td>0.9742</td>\n",
       "      <td>Curry has become one of my favorite foods over...</td>\n",
       "    </tr>\n",
       "    <tr>\n",
       "      <th>377094</th>\n",
       "      <td>5</td>\n",
       "      <td>0.9383</td>\n",
       "      <td>Just tried this for the first time, and I'm qu...</td>\n",
       "    </tr>\n",
       "    <tr>\n",
       "      <th>44261</th>\n",
       "      <td>4</td>\n",
       "      <td>0.8476</td>\n",
       "      <td>After trying lots of different blends in K-Cup...</td>\n",
       "    </tr>\n",
       "    <tr>\n",
       "      <th>398439</th>\n",
       "      <td>5</td>\n",
       "      <td>0.5983</td>\n",
       "      <td>Exceptional coffee all around - rich, full, wi...</td>\n",
       "    </tr>\n",
       "    <tr>\n",
       "      <th>269511</th>\n",
       "      <td>5</td>\n",
       "      <td>0.9652</td>\n",
       "      <td>These are a delicious vegan alternative to reg...</td>\n",
       "    </tr>\n",
       "    <tr>\n",
       "      <th>89042</th>\n",
       "      <td>1</td>\n",
       "      <td>-0.6048</td>\n",
       "      <td>I have never cared for sweetened cereal as I w...</td>\n",
       "    </tr>\n",
       "    <tr>\n",
       "      <th>225284</th>\n",
       "      <td>3</td>\n",
       "      <td>0.8029</td>\n",
       "      <td>I've been looking for dried organic mango that...</td>\n",
       "    </tr>\n",
       "    <tr>\n",
       "      <th>92943</th>\n",
       "      <td>3</td>\n",
       "      <td>-0.1971</td>\n",
       "      <td>This meal-in-a-box was alright, but not amazin...</td>\n",
       "    </tr>\n",
       "    <tr>\n",
       "      <th>22875</th>\n",
       "      <td>4</td>\n",
       "      <td>0.2732</td>\n",
       "      <td>This product works well with most kinds of mea...</td>\n",
       "    </tr>\n",
       "  </tbody>\n",
       "</table>\n",
       "</div>"
      ],
      "text/plain": [
       "        Score  compound_sentiment_rating  \\\n",
       "244509      4                     0.9558   \n",
       "87295       4                     0.9742   \n",
       "377094      5                     0.9383   \n",
       "44261       4                     0.8476   \n",
       "398439      5                     0.5983   \n",
       "269511      5                     0.9652   \n",
       "89042       1                    -0.6048   \n",
       "225284      3                     0.8029   \n",
       "92943       3                    -0.1971   \n",
       "22875       4                     0.2732   \n",
       "\n",
       "                                                     Text  \n",
       "244509  I just love the happy tot baby food line. It s...  \n",
       "87295   Curry has become one of my favorite foods over...  \n",
       "377094  Just tried this for the first time, and I'm qu...  \n",
       "44261   After trying lots of different blends in K-Cup...  \n",
       "398439  Exceptional coffee all around - rich, full, wi...  \n",
       "269511  These are a delicious vegan alternative to reg...  \n",
       "89042   I have never cared for sweetened cereal as I w...  \n",
       "225284  I've been looking for dried organic mango that...  \n",
       "92943   This meal-in-a-box was alright, but not amazin...  \n",
       "22875   This product works well with most kinds of mea...  "
      ]
     },
     "execution_count": 207,
     "metadata": {},
     "output_type": "execute_result"
    }
   ],
   "source": [
    "r[['Score','compound_sentiment_rating','Text']].head(10)"
   ]
  },
  {
   "cell_type": "code",
   "execution_count": 208,
   "metadata": {},
   "outputs": [
    {
     "data": {
      "text/plain": [
       "\"I have never cared for sweetened cereal as I was not raised on it. When I found Purely O's a few years ago I was happy to have found a cereal that did not contain sugar or corn products which I need to avoid because of a corn allergy.  I had intended to buy another box today. I took the time to read the label to make sure that nothing had changed. I could not believe that the ingredient list now lists CORN!  I am so angry!  Purely O's were my go-to breakfast when I needed a something quick or was in the mood for cereal.  There is nothing that this  company makes that I can now eat.  When will these people learn humans aren't pigs! Everything in a supermarket should not contain corn!  If I had wanted corny oat cereal I would have bought Cheerios.\""
      ]
     },
     "execution_count": 208,
     "metadata": {},
     "output_type": "execute_result"
    }
   ],
   "source": [
    "r.iloc[6].Text"
   ]
  },
  {
   "cell_type": "code",
   "execution_count": 209,
   "metadata": {
    "slideshow": {
     "slide_type": "subslide"
    }
   },
   "outputs": [
    {
     "data": {
      "text/plain": [
       "<Axes: xlabel='Score', ylabel='compound_sentiment_rating'>"
      ]
     },
     "execution_count": 209,
     "metadata": {},
     "output_type": "execute_result"
    },
    {
     "data": {
      "image/png": "[encoded data removed]",
      "text/plain": [
       "<Figure size 640x480 with 1 Axes>"
      ]
     },
     "metadata": {},
     "output_type": "display_data"
    }
   ],
   "source": [
    "sns.scatterplot(x='Score',y='compound_sentiment_rating',data=r)"
   ]
  },
  {
   "cell_type": "code",
   "execution_count": 210,
   "metadata": {
    "slideshow": {
     "slide_type": "subslide"
    }
   },
   "outputs": [],
   "source": [
    "import statsmodels.api as sm\n",
    "import statsmodels.formula.api as smf"
   ]
  },
  {
   "cell_type": "code",
   "execution_count": 211,
   "metadata": {
    "slideshow": {
     "slide_type": "subslide"
    }
   },
   "outputs": [
    {
     "data": {
      "text/html": [
       "<table class=\"simpletable\">\n",
       "<caption>OLS Regression Results</caption>\n",
       "<tr>\n",
       "  <th>Dep. Variable:</th>    <td>compound_sentiment_rating</td> <th>  R-squared:         </th> <td>   0.430</td>\n",
       "</tr>\n",
       "<tr>\n",
       "  <th>Model:</th>                       <td>OLS</td>            <th>  Adj. R-squared:    </th> <td>   0.424</td>\n",
       "</tr>\n",
       "<tr>\n",
       "  <th>Method:</th>                 <td>Least Squares</td>       <th>  F-statistic:       </th> <td>   73.92</td>\n",
       "</tr>\n",
       "<tr>\n",
       "  <th>Date:</th>                 <td>Thu, 12 Oct 2023</td>      <th>  Prob (F-statistic):</th> <td>1.32e-13</td>\n",
       "</tr>\n",
       "<tr>\n",
       "  <th>Time:</th>                     <td>20:19:42</td>          <th>  Log-Likelihood:    </th> <td> -38.820</td>\n",
       "</tr>\n",
       "<tr>\n",
       "  <th>No. Observations:</th>          <td>   100</td>           <th>  AIC:               </th> <td>   81.64</td>\n",
       "</tr>\n",
       "<tr>\n",
       "  <th>Df Residuals:</th>              <td>    98</td>           <th>  BIC:               </th> <td>   86.85</td>\n",
       "</tr>\n",
       "<tr>\n",
       "  <th>Df Model:</th>                  <td>     1</td>           <th>                     </th>     <td> </td>   \n",
       "</tr>\n",
       "<tr>\n",
       "  <th>Covariance Type:</th>          <td>nonrobust</td>         <th>                     </th>     <td> </td>   \n",
       "</tr>\n",
       "</table>\n",
       "<table class=\"simpletable\">\n",
       "<tr>\n",
       "      <td></td>         <th>coef</th>     <th>std err</th>      <th>t</th>      <th>P>|t|</th>  <th>[0.025</th>    <th>0.975]</th>  \n",
       "</tr>\n",
       "<tr>\n",
       "  <th>Intercept</th> <td>   -0.3960</td> <td>    0.128</td> <td>   -3.094</td> <td> 0.003</td> <td>   -0.650</td> <td>   -0.142</td>\n",
       "</tr>\n",
       "<tr>\n",
       "  <th>Score</th>     <td>    0.2508</td> <td>    0.029</td> <td>    8.598</td> <td> 0.000</td> <td>    0.193</td> <td>    0.309</td>\n",
       "</tr>\n",
       "</table>\n",
       "<table class=\"simpletable\">\n",
       "<tr>\n",
       "  <th>Omnibus:</th>       <td>11.481</td> <th>  Durbin-Watson:     </th> <td>   1.670</td>\n",
       "</tr>\n",
       "<tr>\n",
       "  <th>Prob(Omnibus):</th> <td> 0.003</td> <th>  Jarque-Bera (JB):  </th> <td>  15.888</td>\n",
       "</tr>\n",
       "<tr>\n",
       "  <th>Skew:</th>          <td>-0.548</td> <th>  Prob(JB):          </th> <td>0.000355</td>\n",
       "</tr>\n",
       "<tr>\n",
       "  <th>Kurtosis:</th>      <td> 4.617</td> <th>  Cond. No.          </th> <td>    16.3</td>\n",
       "</tr>\n",
       "</table><br/><br/>Notes:<br/>[1] Standard Errors assume that the covariance matrix of the errors is correctly specified."
      ],
      "text/latex": [
       "\\begin{center}\n",
       "\\begin{tabular}{lclc}\n",
       "\\toprule\n",
       "\\textbf{Dep. Variable:}    & compound\\_sentiment\\_rating & \\textbf{  R-squared:         } &     0.430   \\\\\n",
       "\\textbf{Model:}            &             OLS             & \\textbf{  Adj. R-squared:    } &     0.424   \\\\\n",
       "\\textbf{Method:}           &        Least Squares        & \\textbf{  F-statistic:       } &     73.92   \\\\\n",
       "\\textbf{Date:}             &       Thu, 12 Oct 2023      & \\textbf{  Prob (F-statistic):} &  1.32e-13   \\\\\n",
       "\\textbf{Time:}             &           20:19:42          & \\textbf{  Log-Likelihood:    } &   -38.820   \\\\\n",
       "\\textbf{No. Observations:} &               100           & \\textbf{  AIC:               } &     81.64   \\\\\n",
       "\\textbf{Df Residuals:}     &                98           & \\textbf{  BIC:               } &     86.85   \\\\\n",
       "\\textbf{Df Model:}         &                 1           & \\textbf{                     } &             \\\\\n",
       "\\textbf{Covariance Type:}  &          nonrobust          & \\textbf{                     } &             \\\\\n",
       "\\bottomrule\n",
       "\\end{tabular}\n",
       "\\begin{tabular}{lcccccc}\n",
       "                   & \\textbf{coef} & \\textbf{std err} & \\textbf{t} & \\textbf{P$> |$t$|$} & \\textbf{[0.025} & \\textbf{0.975]}  \\\\\n",
       "\\midrule\n",
       "\\textbf{Intercept} &      -0.3960  &        0.128     &    -3.094  &         0.003        &       -0.650    &       -0.142     \\\\\n",
       "\\textbf{Score}     &       0.2508  &        0.029     &     8.598  &         0.000        &        0.193    &        0.309     \\\\\n",
       "\\bottomrule\n",
       "\\end{tabular}\n",
       "\\begin{tabular}{lclc}\n",
       "\\textbf{Omnibus:}       & 11.481 & \\textbf{  Durbin-Watson:     } &    1.670  \\\\\n",
       "\\textbf{Prob(Omnibus):} &  0.003 & \\textbf{  Jarque-Bera (JB):  } &   15.888  \\\\\n",
       "\\textbf{Skew:}          & -0.548 & \\textbf{  Prob(JB):          } & 0.000355  \\\\\n",
       "\\textbf{Kurtosis:}      &  4.617 & \\textbf{  Cond. No.          } &     16.3  \\\\\n",
       "\\bottomrule\n",
       "\\end{tabular}\n",
       "%\\caption{OLS Regression Results}\n",
       "\\end{center}\n",
       "\n",
       "Notes: \\newline\n",
       " [1] Standard Errors assume that the covariance matrix of the errors is correctly specified."
      ],
      "text/plain": [
       "<class 'statsmodels.iolib.summary.Summary'>\n",
       "\"\"\"\n",
       "                                OLS Regression Results                               \n",
       "=====================================================================================\n",
       "Dep. Variable:     compound_sentiment_rating   R-squared:                       0.430\n",
       "Model:                                   OLS   Adj. R-squared:                  0.424\n",
       "Method:                        Least Squares   F-statistic:                     73.92\n",
       "Date:                       Thu, 12 Oct 2023   Prob (F-statistic):           1.32e-13\n",
       "Time:                               20:19:42   Log-Likelihood:                -38.820\n",
       "No. Observations:                        100   AIC:                             81.64\n",
       "Df Residuals:                             98   BIC:                             86.85\n",
       "Df Model:                                  1                                         \n",
       "Covariance Type:                   nonrobust                                         \n",
       "==============================================================================\n",
       "                 coef    std err          t      P>|t|      [0.025      0.975]\n",
       "------------------------------------------------------------------------------\n",
       "Intercept     -0.3960      0.128     -3.094      0.003      -0.650      -0.142\n",
       "Score          0.2508      0.029      8.598      0.000       0.193       0.309\n",
       "==============================================================================\n",
       "Omnibus:                       11.481   Durbin-Watson:                   1.670\n",
       "Prob(Omnibus):                  0.003   Jarque-Bera (JB):               15.888\n",
       "Skew:                          -0.548   Prob(JB):                     0.000355\n",
       "Kurtosis:                       4.617   Cond. No.                         16.3\n",
       "==============================================================================\n",
       "\n",
       "Notes:\n",
       "[1] Standard Errors assume that the covariance matrix of the errors is correctly specified.\n",
       "\"\"\""
      ]
     },
     "execution_count": 211,
     "metadata": {},
     "output_type": "execute_result"
    }
   ],
   "source": [
    "model0 = smf.ols(\"compound_sentiment_rating ~ Score \", data=r)\n",
    "model0.fit().summary()"
   ]
  },
  {
   "cell_type": "code",
   "execution_count": null,
   "metadata": {},
   "outputs": [],
   "source": []
  },
  {
   "cell_type": "code",
   "execution_count": null,
   "metadata": {},
   "outputs": [],
   "source": []
  }
 ],
 "metadata": {
  "kernelspec": {
   "display_name": ".venv",
   "language": "python",
   "name": "python3"
  },
  "language_info": {
   "codemirror_mode": {
    "name": "ipython",
    "version": 3
   },
   "file_extension": ".py",
   "mimetype": "text/x-python",
   "name": "python",
   "nbconvert_exporter": "python",
   "pygments_lexer": "ipython3",
   "version": "3.10.0"
  },
  "toc-autonumbering": false,
  "toc-showcode": false,
  "toc-showmarkdowntxt": false,
  "toc-showtags": false,
  "vscode": {
   "interpreter": {
    "hash": "90fd63f6819c340b438e5c293ddfb31e39be622c688d56bb62c76ae0c0566a54"
   }
  }
 },
 "nbformat": 4,
 "nbformat_minor": 4
}
