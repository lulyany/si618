{
  "cells": [
    {
      "cell_type": "code",
      "execution_count": null,
      "metadata": {
        "id": "AcZ8CkbVlYXO"
      },
      "outputs": [],
      "source": [
        "# ! pip install transformers"
      ]
    },
    {
      "cell_type": "code",
      "execution_count": null,
      "metadata": {
        "id": "vGwdiNFEPtO0"
      },
      "outputs": [],
      "source": [
        "# ! pip install sentence_transformers"
      ]
    },
    {
      "cell_type": "code",
      "execution_count": null,
      "metadata": {
        "id": "aEqTRMWRLNK2"
      },
      "outputs": [],
      "source": [
        "import os\n",
        "os.environ['TRANSFORMERS_CACHE'] = './huggingface'\n",
        "os.environ['TORCH_HOME'] = './torch'"
      ]
    },
    {
      "cell_type": "code",
      "execution_count": null,
      "metadata": {
        "id": "Y7FaW-XTlYXS"
      },
      "outputs": [],
      "source": [
        "import pandas as pd\n",
        "import matplotlib.pyplot as plt\n",
        "import seaborn as sns\n",
        "import torch\n",
        "import numpy as np\n",
        "from torch import nn\n",
        "from transformers \\\n",
        "  import AutoTokenizer, AutoModelForMaskedLM, BertTokenizer, BertModel\n",
        "from sklearn.model_selection import train_test_split\n",
        "from torch.optim import Adam\n",
        "from tqdm.notebook import tqdm\n",
        "from sentence_transformers import SentenceTransformer, util\n",
        "import warnings\n",
        "import re\n",
        "from collections import Counter\n",
        "warnings.filterwarnings(\"ignore\")"
      ]
    },
    {
      "cell_type": "code",
      "execution_count": null,
      "metadata": {
        "colab": {
          "base_uri": "https://localhost:8080/"
        },
        "id": "ggBsn4XBoH0t",
        "outputId": "34c1b727-5880-43a9-8bc7-87be6586a55d"
      },
      "outputs": [
        {
          "data": {
            "text/plain": [
              "True"
            ]
          },
          "execution_count": 7,
          "metadata": {},
          "output_type": "execute_result"
        }
      ],
      "source": [
        "torch.cuda.is_available()"
      ]
    },
    {
      "cell_type": "markdown",
      "metadata": {
        "id": "tG0VR7mRlYXT"
      },
      "source": [
        "# Data Overview - EDA"
      ]
    },
    {
      "cell_type": "markdown",
      "metadata": {
        "id": "QmC6xDtZLNLB"
      },
      "source": [
        "## First Dataset"
      ]
    },
    {
      "cell_type": "code",
      "execution_count": null,
      "metadata": {
        "id": "UYMxoTgalYXU"
      },
      "outputs": [],
      "source": [
        "sns.set_palette(\"pastel\")"
      ]
    },
    {
      "cell_type": "code",
      "execution_count": null,
      "metadata": {
        "id": "RAmY-cgqlYXU"
      },
      "outputs": [],
      "source": [
        "design = pd.read_csv(r\"D:\\Work\\UM\\2023Fall\\SI650\\codes\\\n",
        "                     \\project\\data_preparation\\design.csv\")\n",
        "digital_art = pd.read_csv(r\"D:\\Work\\UM\\2023Fall\\SI650\\codes\\\n",
        "                          \\project\\data_preparation\\digital_art.csv\")\n",
        "illustration = pd.read_csv(r\"D:\\Work\\UM\\2023Fall\\SI650\\codes\\\n",
        "                           \\project\\data_preparation\\illustration.csv\")\n",
        "nature = pd.read_csv(r\"D:\\Work\\UM\\2023Fall\\SI650\\codes\\\n",
        "                     \\project\\data_preparation\\nature.csv\")"
      ]
    },
    {
      "cell_type": "code",
      "execution_count": null,
      "metadata": {
        "id": "mnDJVPsdlYXV"
      },
      "outputs": [],
      "source": [
        "design['category'] = 'design'\n",
        "digital_art['category'] = 'digital_art'\n",
        "illustration['category'] = 'illustration'\n",
        "nature['category'] = 'nature'"
      ]
    },
    {
      "cell_type": "markdown",
      "metadata": {
        "id": "B2twJa2Di3BX"
      },
      "source": [
        "Sample of data."
      ]
    },
    {
      "cell_type": "code",
      "execution_count": null,
      "metadata": {
        "colab": {
          "base_uri": "https://localhost:8080/",
          "height": 556
        },
        "id": "H5kh3kfvlYXV",
        "outputId": "07dbb2c6-dfe5-472b-d211-a115b4a6f9e9"
      },
      "outputs": [
        {
          "data": {
            "text/html": [
              "<div>\n",
              "<style scoped>\n",
              "    .dataframe tbody tr th:only-of-type {\n",
              "        vertical-align: middle;\n",
              "    }\n",
              "\n",
              "    .dataframe tbody tr th {\n",
              "        vertical-align: top;\n",
              "    }\n",
              "\n",
              "    .dataframe thead th {\n",
              "        text-align: right;\n",
              "    }\n",
              "</style>\n",
              "<table border=\"1\" class=\"dataframe\">\n",
              "  <thead>\n",
              "    <tr style=\"text-align: right;\">\n",
              "      <th></th>\n",
              "      <th>pic_url</th>\n",
              "      <th>title</th>\n",
              "      <th>prompt_url</th>\n",
              "      <th>prompt</th>\n",
              "      <th>tag</th>\n",
              "      <th>related_urls</th>\n",
              "      <th>related_pic_urls</th>\n",
              "      <th>related_titles</th>\n",
              "      <th>category</th>\n",
              "    </tr>\n",
              "  </thead>\n",
              "  <tbody>\n",
              "    <tr>\n",
              "      <th>0</th>\n",
              "      <td>https://promptlibrary.org/wp-content/uploads/2...</td>\n",
              "      <td>Natural Logo for Ohio Valley</td>\n",
              "      <td>https://promptlibrary.org/midjourney/natural-l...</td>\n",
              "      <td>transparent background, natural logo for softw...</td>\n",
              "      <td>['branding', 'Business', 'creativity', 'design...</td>\n",
              "      <td>['https://promptlibrary.org/midjourney/busy-gi...</td>\n",
              "      <td>['https://promptlibrary.org/wp-content/uploads...</td>\n",
              "      <td>['Busy Girl Multiple Phones', 'Multiethnic Bus...</td>\n",
              "      <td>design</td>\n",
              "    </tr>\n",
              "    <tr>\n",
              "      <th>1</th>\n",
              "      <td>https://promptlibrary.org/wp-content/uploads/2...</td>\n",
              "      <td>Autumn Leaves Cartoon Pattern</td>\n",
              "      <td>https://promptlibrary.org/midjourney/autumn-le...</td>\n",
              "      <td>infinite autumn leaves pattern on a white back...</td>\n",
              "      <td>['autumn', 'Cartoon', 'design', 'fall', 'folia...</td>\n",
              "      <td>['https://promptlibrary.org/midjourney/fantasy...</td>\n",
              "      <td>['https://promptlibrary.org/wp-content/uploads...</td>\n",
              "      <td>['Fantasy Pink and Green', 'Navy Grey Plaid Wa...</td>\n",
              "      <td>design</td>\n",
              "    </tr>\n",
              "    <tr>\n",
              "      <th>2</th>\n",
              "      <td>https://promptlibrary.org/wp-content/uploads/2...</td>\n",
              "      <td>AP Versace Medusa Logo Vector</td>\n",
              "      <td>https://promptlibrary.org/midjourney/ap-versac...</td>\n",
              "      <td>the letter “AP” in the Egyptian all mean Versa...</td>\n",
              "      <td>['accessories', 'apparel', 'branding', 'design...</td>\n",
              "      <td>['https://promptlibrary.org/midjourney/hyperde...</td>\n",
              "      <td>['https://promptlibrary.org/wp-content/uploads...</td>\n",
              "      <td>['Hyperdetailed Gold Disco Pattern', 'Hyperdet...</td>\n",
              "      <td>design</td>\n",
              "    </tr>\n",
              "    <tr>\n",
              "      <th>3</th>\n",
              "      <td>https://promptlibrary.org/wp-content/uploads/2...</td>\n",
              "      <td>Undulating Forest Sculpture Design</td>\n",
              "      <td>https://promptlibrary.org/midjourney/undulatin...</td>\n",
              "      <td>forest park sculpture design by santiago calat...</td>\n",
              "      <td>['8K', 'bronze', 'design', 'Santiago Calatrava...</td>\n",
              "      <td>['https://promptlibrary.org/midjourney/trigger...</td>\n",
              "      <td>['https://promptlibrary.org/wp-content/uploads...</td>\n",
              "      <td>['Triggers Kawaii Fashion Epic', 'Illuminated ...</td>\n",
              "      <td>design</td>\n",
              "    </tr>\n",
              "    <tr>\n",
              "      <th>4</th>\n",
              "      <td>https://promptlibrary.org/wp-content/uploads/2...</td>\n",
              "      <td>Purple Tulip Watercolor Set</td>\n",
              "      <td>https://promptlibrary.org/midjourney/purple-tu...</td>\n",
              "      <td>set of floral watercolor, purple tulip, isolat...</td>\n",
              "      <td>['botanical', 'decoration', 'design', 'floral'...</td>\n",
              "      <td>['https://promptlibrary.org/midjourney/mechani...</td>\n",
              "      <td>['https://promptlibrary.org/wp-content/uploads...</td>\n",
              "      <td>['Mechanical Hottie A Cyberpunk Masterpiece', ...</td>\n",
              "      <td>design</td>\n",
              "    </tr>\n",
              "  </tbody>\n",
              "</table>\n",
              "</div>"
            ],
            "text/plain": [
              "                                             pic_url  \\\n",
              "0  https://promptlibrary.org/wp-content/uploads/2...   \n",
              "1  https://promptlibrary.org/wp-content/uploads/2...   \n",
              "2  https://promptlibrary.org/wp-content/uploads/2...   \n",
              "3  https://promptlibrary.org/wp-content/uploads/2...   \n",
              "4  https://promptlibrary.org/wp-content/uploads/2...   \n",
              "\n",
              "                                title  \\\n",
              "0        Natural Logo for Ohio Valley   \n",
              "1       Autumn Leaves Cartoon Pattern   \n",
              "2       AP Versace Medusa Logo Vector   \n",
              "3  Undulating Forest Sculpture Design   \n",
              "4         Purple Tulip Watercolor Set   \n",
              "\n",
              "                                          prompt_url  \\\n",
              "0  https://promptlibrary.org/midjourney/natural-l...   \n",
              "1  https://promptlibrary.org/midjourney/autumn-le...   \n",
              "2  https://promptlibrary.org/midjourney/ap-versac...   \n",
              "3  https://promptlibrary.org/midjourney/undulatin...   \n",
              "4  https://promptlibrary.org/midjourney/purple-tu...   \n",
              "\n",
              "                                              prompt  \\\n",
              "0  transparent background, natural logo for softw...   \n",
              "1  infinite autumn leaves pattern on a white back...   \n",
              "2  the letter “AP” in the Egyptian all mean Versa...   \n",
              "3  forest park sculpture design by santiago calat...   \n",
              "4  set of floral watercolor, purple tulip, isolat...   \n",
              "\n",
              "                                                 tag  \\\n",
              "0  ['branding', 'Business', 'creativity', 'design...   \n",
              "1  ['autumn', 'Cartoon', 'design', 'fall', 'folia...   \n",
              "2  ['accessories', 'apparel', 'branding', 'design...   \n",
              "3  ['8K', 'bronze', 'design', 'Santiago Calatrava...   \n",
              "4  ['botanical', 'decoration', 'design', 'floral'...   \n",
              "\n",
              "                                        related_urls  \\\n",
              "0  ['https://promptlibrary.org/midjourney/busy-gi...   \n",
              "1  ['https://promptlibrary.org/midjourney/fantasy...   \n",
              "2  ['https://promptlibrary.org/midjourney/hyperde...   \n",
              "3  ['https://promptlibrary.org/midjourney/trigger...   \n",
              "4  ['https://promptlibrary.org/midjourney/mechani...   \n",
              "\n",
              "                                    related_pic_urls  \\\n",
              "0  ['https://promptlibrary.org/wp-content/uploads...   \n",
              "1  ['https://promptlibrary.org/wp-content/uploads...   \n",
              "2  ['https://promptlibrary.org/wp-content/uploads...   \n",
              "3  ['https://promptlibrary.org/wp-content/uploads...   \n",
              "4  ['https://promptlibrary.org/wp-content/uploads...   \n",
              "\n",
              "                                      related_titles category  \n",
              "0  ['Busy Girl Multiple Phones', 'Multiethnic Bus...   design  \n",
              "1  ['Fantasy Pink and Green', 'Navy Grey Plaid Wa...   design  \n",
              "2  ['Hyperdetailed Gold Disco Pattern', 'Hyperdet...   design  \n",
              "3  ['Triggers Kawaii Fashion Epic', 'Illuminated ...   design  \n",
              "4  ['Mechanical Hottie A Cyberpunk Masterpiece', ...   design  "
            ]
          },
          "execution_count": 11,
          "metadata": {},
          "output_type": "execute_result"
        }
      ],
      "source": [
        "design.head()"
      ]
    },
    {
      "cell_type": "markdown",
      "metadata": {
        "id": "Qa6HHE41jAQ8"
      },
      "source": [
        "Concat all the data together into one file."
      ]
    },
    {
      "cell_type": "code",
      "execution_count": null,
      "metadata": {
        "colab": {
          "base_uri": "https://localhost:8080/"
        },
        "id": "kKl7uUL4lYXW",
        "outputId": "596bd40a-2898-42bf-8ff4-536685edc727"
      },
      "outputs": [
        {
          "data": {
            "text/plain": [
              "(7432, 9)"
            ]
          },
          "execution_count": 12,
          "metadata": {},
          "output_type": "execute_result"
        }
      ],
      "source": [
        "data_all = pd.concat([design, digital_art, illustration, nature])\n",
        "data_all.shape"
      ]
    },
    {
      "cell_type": "markdown",
      "metadata": {
        "id": "_g38ZF0sjI9N"
      },
      "source": [
        "Distribution of categories of prompts."
      ]
    },
    {
      "cell_type": "code",
      "execution_count": null,
      "metadata": {
        "colab": {
          "base_uri": "https://localhost:8080/",
          "height": 489
        },
        "id": "ReoCHq6YlYXX",
        "outputId": "7d213842-ed3b-46e9-a229-3bd9f5c4bc3b"
      },
      "outputs": [
        {
          "data": {
            "text/plain": [
              "Text(0, 0.5, 'Count')"
            ]
          },
          "execution_count": 13,
          "metadata": {},
          "output_type": "execute_result"
        },
        {
          "data": {
            "image/png": "[encoded data removed]",
            "text/plain": [
              "<Figure size 640x480 with 1 Axes>"
            ]
          },
          "metadata": {},
          "output_type": "display_data"
        }
      ],
      "source": [
        "ax = sns.histplot(data_all, x='category')\n",
        "for i in ax.containers:\n",
        "    ax.bar_label(i, )\n",
        "plt.title('Distribution of Categories of Prompts')\n",
        "\n",
        "plt.xlabel('Category')\n",
        "plt.ylabel('Count')"
      ]
    },
    {
      "cell_type": "markdown",
      "metadata": {
        "id": "xnUyDnGwLNLV"
      },
      "source": [
        "We can see that the four categories have an almost-uniform distribution, with illustration and nature have around 2200 rows of data and design and digital art have around 1500 entries."
      ]
    },
    {
      "cell_type": "markdown",
      "metadata": {
        "id": "A7JPW05Bj7sM"
      },
      "source": [
        "Check null values."
      ]
    },
    {
      "cell_type": "code",
      "execution_count": null,
      "metadata": {
        "colab": {
          "base_uri": "https://localhost:8080/"
        },
        "id": "ZR4I29PLjiPN",
        "outputId": "afc90235-3c5c-48ad-89f6-e668b77dbb2f"
      },
      "outputs": [
        {
          "data": {
            "text/plain": [
              "pic_url             0\n",
              "title               0\n",
              "prompt_url          0\n",
              "prompt              0\n",
              "tag                 0\n",
              "related_urls        0\n",
              "related_pic_urls    0\n",
              "related_titles      0\n",
              "category            0\n",
              "dtype: int64"
            ]
          },
          "execution_count": 14,
          "metadata": {},
          "output_type": "execute_result"
        }
      ],
      "source": [
        "data_all.isna().sum()"
      ]
    },
    {
      "cell_type": "markdown",
      "metadata": {
        "id": "F7b7E-lBj-3n"
      },
      "source": [
        "Check duplicated values."
      ]
    },
    {
      "cell_type": "code",
      "execution_count": null,
      "metadata": {
        "colab": {
          "base_uri": "https://localhost:8080/",
          "height": 53
        },
        "id": "7dMx272zjoo8",
        "outputId": "089469ed-987a-4407-b439-a7ba34c79b41"
      },
      "outputs": [
        {
          "data": {
            "text/html": [
              "<div>\n",
              "<style scoped>\n",
              "    .dataframe tbody tr th:only-of-type {\n",
              "        vertical-align: middle;\n",
              "    }\n",
              "\n",
              "    .dataframe tbody tr th {\n",
              "        vertical-align: top;\n",
              "    }\n",
              "\n",
              "    .dataframe thead th {\n",
              "        text-align: right;\n",
              "    }\n",
              "</style>\n",
              "<table border=\"1\" class=\"dataframe\">\n",
              "  <thead>\n",
              "    <tr style=\"text-align: right;\">\n",
              "      <th></th>\n",
              "      <th>pic_url</th>\n",
              "      <th>title</th>\n",
              "      <th>prompt_url</th>\n",
              "      <th>prompt</th>\n",
              "      <th>tag</th>\n",
              "      <th>related_urls</th>\n",
              "      <th>related_pic_urls</th>\n",
              "      <th>related_titles</th>\n",
              "      <th>category</th>\n",
              "    </tr>\n",
              "  </thead>\n",
              "  <tbody>\n",
              "  </tbody>\n",
              "</table>\n",
              "</div>"
            ],
            "text/plain": [
              "Empty DataFrame\n",
              "Columns: [pic_url, title, prompt_url, prompt, tag, related_urls, related_pic_urls, related_titles, category]\n",
              "Index: []"
            ]
          },
          "execution_count": 15,
          "metadata": {},
          "output_type": "execute_result"
        }
      ],
      "source": [
        "data_all[data_all.duplicated()]"
      ]
    },
    {
      "cell_type": "markdown",
      "metadata": {
        "id": "IWWZcWhjrGLH"
      },
      "source": [
        "Modify data structures."
      ]
    },
    {
      "cell_type": "code",
      "execution_count": null,
      "metadata": {
        "id": "sT3DLOurldTl"
      },
      "outputs": [],
      "source": [
        "data_all['tag_list'] = data_all['tag'].str.replace('\\[', '') \\\n",
        "                  .str.replace('\\]', '') \\\n",
        "                  .str.replace(\"'\", '')\n",
        "data_all['related_titles_list'] = data_all['related_titles'] \\\n",
        "                  .str.replace('\\[', '') \\\n",
        "                  .str.replace('\\]', '') \\\n",
        "                  .str.replace(\"'\", '')"
      ]
    },
    {
      "cell_type": "markdown",
      "metadata": {
        "id": "-tc2U343kdX8"
      },
      "source": [
        "Find the ten most comman tags."
      ]
    },
    {
      "cell_type": "code",
      "execution_count": null,
      "metadata": {
        "colab": {
          "base_uri": "https://localhost:8080/",
          "height": 573
        },
        "id": "eR5Al_4Ikf4m",
        "outputId": "854e595f-830b-449e-ef0b-4ba4c5de005b"
      },
      "outputs": [
        {
          "data": {
            "image/png": "[encoded data removed]",
            "text/plain": [
              "<Figure size 640x480 with 1 Axes>"
            ]
          },
          "metadata": {},
          "output_type": "display_data"
        }
      ],
      "source": [
        "tags = data_all['tag'].apply(eval)\n",
        "top_10_tags = tags.explode().value_counts()[:10]\n",
        "plt.xticks(rotation=45)\n",
        "plt.title('Top 10 Tags')\n",
        "plt.xlabel('tags')\n",
        "plt.ylabel('count')\n",
        "ax = sns.barplot(x=top_10_tags.index,\n",
        "    y=top_10_tags.values)\n",
        "for i in ax.containers:\n",
        "    ax.bar_label(i, )"
      ]
    },
    {
      "cell_type": "markdown",
      "metadata": {
        "id": "nX3Tys61LNLl"
      },
      "source": [
        "We observe that the majority of items fall under the \"category nature,\" followed by \"illustration,\" and then \"digital_art\" and \"design.\" It is noteworthy that the top four tags align with the category names. However, it's essential to note that having a tag that matches the category name does not guarantee automatic categorization. The categorization process takes multiple factors into consideration, such as the context of the prompts and the presence of other tags."
      ]
    },
    {
      "cell_type": "markdown",
      "metadata": {
        "id": "UYVOQW1YvAIi"
      },
      "source": [
        "Find the top 10 related titles."
      ]
    },
    {
      "cell_type": "code",
      "execution_count": null,
      "metadata": {
        "colab": {
          "base_uri": "https://localhost:8080/",
          "height": 481
        },
        "id": "OJGzcQ8bu_09",
        "outputId": "97006463-9851-4ff3-fb78-a4ec9a44e936"
      },
      "outputs": [
        {
          "data": {
            "image/png": "[encoded data removed]",
            "text/plain": [
              "<Figure size 640x480 with 1 Axes>"
            ]
          },
          "metadata": {},
          "output_type": "display_data"
        }
      ],
      "source": [
        "titles = data_all['related_titles'].apply(eval)\n",
        "top_10_titles = titles.explode().value_counts()[:10]\n",
        "plt.title('Top 10 Related Titles')\n",
        "plt.ylabel('related title')\n",
        "plt.xlabel('count')\n",
        "ax = sns.barplot(x=top_10_titles.values,\n",
        "    y=top_10_titles.index,\n",
        "    orient='h')\n",
        "for i in ax.containers:\n",
        "    ax.bar_label(i, )"
      ]
    },
    {
      "cell_type": "markdown",
      "metadata": {
        "id": "HC04FgPlLNLv"
      },
      "source": [
        "It is noteworthy that the top 4 related titles have significantly more counts than others. If necessary, we can analyze the effect of these four related titles as well."
      ]
    },
    {
      "cell_type": "markdown",
      "metadata": {
        "id": "0RnfalquvoOr"
      },
      "source": [
        "Distribution of length of prompts and titles."
      ]
    },
    {
      "cell_type": "code",
      "execution_count": null,
      "metadata": {
        "colab": {
          "base_uri": "https://localhost:8080/",
          "height": 466
        },
        "id": "dIU329O6vtJl",
        "outputId": "d4726a8e-f83c-43be-f5e9-0614137805f2"
      },
      "outputs": [
        {
          "data": {
            "text/plain": [
              "Text(0.5, 1.0, 'Distribution of Prompt Length')"
            ]
          },
          "execution_count": 19,
          "metadata": {},
          "output_type": "execute_result"
        },
        {
          "data": {
            "image/png": "[encoded data removed]",
            "text/plain": [
              "<Figure size 640x480 with 1 Axes>"
            ]
          },
          "metadata": {},
          "output_type": "display_data"
        }
      ],
      "source": [
        "length_prompt = data_all['prompt'].str.split().apply(len)\n",
        "sns.histplot(length_prompt)\n",
        "plt.xlim(0, 100)\n",
        "plt.xlabel('Prompt Length')\n",
        "plt.ylabel('Count')\n",
        "plt.title('Distribution of Prompt Length')"
      ]
    },
    {
      "cell_type": "markdown",
      "metadata": {
        "id": "KMztWYSfLNL3"
      },
      "source": [
        "We can see that the prompt length is right-skewed, with more prompts have length around 10 to 25. There are very few prompts with length over 60."
      ]
    },
    {
      "cell_type": "code",
      "execution_count": null,
      "metadata": {
        "colab": {
          "base_uri": "https://localhost:8080/",
          "height": 466
        },
        "id": "Kbw4mr-e1pZA",
        "outputId": "8fcfd2ec-3b98-4b6b-f834-9c0060ac69d6"
      },
      "outputs": [
        {
          "data": {
            "text/plain": [
              "Text(0.5, 1.0, 'Distribution of Title Length')"
            ]
          },
          "execution_count": 20,
          "metadata": {},
          "output_type": "execute_result"
        },
        {
          "data": {
            "image/png": "[encoded data removed]",
            "text/plain": [
              "<Figure size 640x480 with 1 Axes>"
            ]
          },
          "metadata": {},
          "output_type": "display_data"
        }
      ],
      "source": [
        "length_title = data_all['title'].str.split().apply(len)\n",
        "length_title_count = length_title.value_counts()\n",
        "ax = sns.barplot(x=length_title_count.index, y=length_title_count.values)\n",
        "for i in ax.containers:\n",
        "    ax.bar_label(i, )\n",
        "plt.xlabel('Title Length')\n",
        "plt.ylabel('Count')\n",
        "plt.title('Distribution of Title Length')"
      ]
    },
    {
      "cell_type": "markdown",
      "metadata": {
        "id": "_cxrAEJGLNL4"
      },
      "source": [
        "We can see that most titles have length 4 and the majority of titles have length 3-5. There are very few titles with length other than these 3 values."
      ]
    },
    {
      "cell_type": "markdown",
      "metadata": {
        "id": "MM9ABQy5LNL4"
      },
      "source": [
        "## Second Dataset"
      ]
    },
    {
      "cell_type": "code",
      "execution_count": null,
      "metadata": {
        "id": "qu_spA4HLNL5",
        "outputId": "d3a83571-1aad-417c-f19f-173e8ba5b016"
      },
      "outputs": [
        {
          "data": {
            "text/plain": [
              "(907953, 6)"
            ]
          },
          "execution_count": 21,
          "metadata": {},
          "output_type": "execute_result"
        }
      ],
      "source": [
        "prompts_data = pd.read_csv('diffusion_prompts.csv.zip', index_col=0)\n",
        "prompts_data.shape"
      ]
    },
    {
      "cell_type": "code",
      "execution_count": null,
      "metadata": {
        "id": "KXLVTmVjLNL6",
        "outputId": "2431ca07-3ea4-4157-cbe6-b2f7427e2510"
      },
      "outputs": [
        {
          "name": "stdout",
          "output_type": "stream",
          "text": [
            "<class 'pandas.core.frame.DataFrame'>\n",
            "Int64Index: 907953 entries, 0 to 907952\n",
            "Data columns (total 6 columns):\n",
            " #   Column       Non-Null Count   Dtype \n",
            "---  ------       --------------   ----- \n",
            " 0   id           907953 non-null  object\n",
            " 1   prompt       907951 non-null  object\n",
            " 2   url          907953 non-null  object\n",
            " 3   width        907953 non-null  int64 \n",
            " 4   height       907953 non-null  int64 \n",
            " 5   source_site  907953 non-null  object\n",
            "dtypes: int64(2), object(4)\n",
            "memory usage: 48.5+ MB\n"
          ]
        }
      ],
      "source": [
        "prompts_data.info()"
      ]
    },
    {
      "cell_type": "markdown",
      "metadata": {
        "id": "6DX2E1PFLNL6"
      },
      "source": [
        "There exist some null values on the prompt column of this data set."
      ]
    },
    {
      "cell_type": "markdown",
      "metadata": {
        "id": "UElic1AALNMB"
      },
      "source": [
        "Deal with null and duplicated values."
      ]
    },
    {
      "cell_type": "code",
      "execution_count": null,
      "metadata": {
        "id": "KSpaAZeYLNMF"
      },
      "outputs": [],
      "source": [
        "prompts_data = prompts_data.dropna(subset=['prompt'])\n",
        "prompts_data = prompts_data.drop_duplicates()"
      ]
    },
    {
      "cell_type": "markdown",
      "metadata": {
        "id": "98BOBdA92nwf"
      },
      "source": [
        "# Feature Engineering\n",
        "\n",
        "Add related_titles and tags information to thr original prompt."
      ]
    },
    {
      "cell_type": "code",
      "execution_count": null,
      "metadata": {
        "colab": {
          "base_uri": "https://localhost:8080/"
        },
        "id": "WdzxAYBNqX-S",
        "outputId": "d671412d-7d3f-4b8e-8d4f-ac2807d55532"
      },
      "outputs": [
        {
          "data": {
            "text/plain": [
              "0    Busy Girl Multiple Phones, Multiethnic Busines...\n",
              "1    Fantasy Pink and Green, Navy Grey Plaid Waterc...\n",
              "2    Hyperdetailed Gold Disco Pattern, Hyperdetaile...\n",
              "3    Triggers Kawaii Fashion Epic, Illuminated Pola...\n",
              "4    Mechanical Hottie A Cyberpunk Masterpiece, Bea...\n",
              "Name: prompt, dtype: object"
            ]
          },
          "execution_count": 24,
          "metadata": {},
          "output_type": "execute_result"
        }
      ],
      "source": [
        "# add tag feature\n",
        "data_all['prompt'] = data_all['related_titles_list'] \\\n",
        "            + data_all['tag_list'] \\\n",
        "            + data_all['prompt']\n",
        "data_all['prompt'].head()"
      ]
    },
    {
      "cell_type": "code",
      "execution_count": null,
      "metadata": {
        "colab": {
          "base_uri": "https://localhost:8080/",
          "height": 206
        },
        "id": "SpZQ2POGlYXX",
        "outputId": "2ccff35c-bc60-4d6f-a178-1d073106cdd1"
      },
      "outputs": [
        {
          "data": {
            "text/html": [
              "<div>\n",
              "<style scoped>\n",
              "    .dataframe tbody tr th:only-of-type {\n",
              "        vertical-align: middle;\n",
              "    }\n",
              "\n",
              "    .dataframe tbody tr th {\n",
              "        vertical-align: top;\n",
              "    }\n",
              "\n",
              "    .dataframe thead th {\n",
              "        text-align: right;\n",
              "    }\n",
              "</style>\n",
              "<table border=\"1\" class=\"dataframe\">\n",
              "  <thead>\n",
              "    <tr style=\"text-align: right;\">\n",
              "      <th></th>\n",
              "      <th>prompt</th>\n",
              "      <th>category</th>\n",
              "    </tr>\n",
              "  </thead>\n",
              "  <tbody>\n",
              "    <tr>\n",
              "      <th>0</th>\n",
              "      <td>Busy Girl Multiple Phones, Multiethnic Busines...</td>\n",
              "      <td>design</td>\n",
              "    </tr>\n",
              "    <tr>\n",
              "      <th>1</th>\n",
              "      <td>Fantasy Pink and Green, Navy Grey Plaid Waterc...</td>\n",
              "      <td>design</td>\n",
              "    </tr>\n",
              "    <tr>\n",
              "      <th>2</th>\n",
              "      <td>Hyperdetailed Gold Disco Pattern, Hyperdetaile...</td>\n",
              "      <td>design</td>\n",
              "    </tr>\n",
              "    <tr>\n",
              "      <th>3</th>\n",
              "      <td>Triggers Kawaii Fashion Epic, Illuminated Pola...</td>\n",
              "      <td>design</td>\n",
              "    </tr>\n",
              "    <tr>\n",
              "      <th>4</th>\n",
              "      <td>Mechanical Hottie A Cyberpunk Masterpiece, Bea...</td>\n",
              "      <td>design</td>\n",
              "    </tr>\n",
              "  </tbody>\n",
              "</table>\n",
              "</div>"
            ],
            "text/plain": [
              "                                              prompt category\n",
              "0  Busy Girl Multiple Phones, Multiethnic Busines...   design\n",
              "1  Fantasy Pink and Green, Navy Grey Plaid Waterc...   design\n",
              "2  Hyperdetailed Gold Disco Pattern, Hyperdetaile...   design\n",
              "3  Triggers Kawaii Fashion Epic, Illuminated Pola...   design\n",
              "4  Mechanical Hottie A Cyberpunk Masterpiece, Bea...   design"
            ]
          },
          "execution_count": 25,
          "metadata": {},
          "output_type": "execute_result"
        }
      ],
      "source": [
        "data = data_all[['prompt', 'category']]\n",
        "data.head()"
      ]
    },
    {
      "cell_type": "markdown",
      "metadata": {
        "id": "LFwyV8R8LNMk"
      },
      "source": [
        "Normalize the data by lowercasing all prompts and convert tags to list."
      ]
    },
    {
      "cell_type": "code",
      "execution_count": null,
      "metadata": {
        "colab": {
          "base_uri": "https://localhost:8080/",
          "height": 206
        },
        "id": "POIA4gkclYXY",
        "outputId": "ce639057-8274-4319-eb6b-c1da1e7e3412"
      },
      "outputs": [
        {
          "data": {
            "text/html": [
              "<div>\n",
              "<style scoped>\n",
              "    .dataframe tbody tr th:only-of-type {\n",
              "        vertical-align: middle;\n",
              "    }\n",
              "\n",
              "    .dataframe tbody tr th {\n",
              "        vertical-align: top;\n",
              "    }\n",
              "\n",
              "    .dataframe thead th {\n",
              "        text-align: right;\n",
              "    }\n",
              "</style>\n",
              "<table border=\"1\" class=\"dataframe\">\n",
              "  <thead>\n",
              "    <tr style=\"text-align: right;\">\n",
              "      <th></th>\n",
              "      <th>prompt</th>\n",
              "      <th>category</th>\n",
              "    </tr>\n",
              "  </thead>\n",
              "  <tbody>\n",
              "    <tr>\n",
              "      <th>0</th>\n",
              "      <td>busy girl multiple phones, multiethnic busines...</td>\n",
              "      <td>design</td>\n",
              "    </tr>\n",
              "    <tr>\n",
              "      <th>1</th>\n",
              "      <td>fantasy pink and green, navy grey plaid waterc...</td>\n",
              "      <td>design</td>\n",
              "    </tr>\n",
              "    <tr>\n",
              "      <th>2</th>\n",
              "      <td>hyperdetailed gold disco pattern, hyperdetaile...</td>\n",
              "      <td>design</td>\n",
              "    </tr>\n",
              "    <tr>\n",
              "      <th>3</th>\n",
              "      <td>triggers kawaii fashion epic, illuminated pola...</td>\n",
              "      <td>design</td>\n",
              "    </tr>\n",
              "    <tr>\n",
              "      <th>4</th>\n",
              "      <td>mechanical hottie a cyberpunk masterpiece, bea...</td>\n",
              "      <td>design</td>\n",
              "    </tr>\n",
              "  </tbody>\n",
              "</table>\n",
              "</div>"
            ],
            "text/plain": [
              "                                              prompt category\n",
              "0  busy girl multiple phones, multiethnic busines...   design\n",
              "1  fantasy pink and green, navy grey plaid waterc...   design\n",
              "2  hyperdetailed gold disco pattern, hyperdetaile...   design\n",
              "3  triggers kawaii fashion epic, illuminated pola...   design\n",
              "4  mechanical hottie a cyberpunk masterpiece, bea...   design"
            ]
          },
          "execution_count": 26,
          "metadata": {},
          "output_type": "execute_result"
        }
      ],
      "source": [
        "data['prompt'] = data['prompt'].str.lower()\n",
        "data_all['tag'] = data_all['tag'].apply(eval)\n",
        "data.head()"
      ]
    },
    {
      "cell_type": "markdown",
      "metadata": {
        "id": "_h71MJlILNMk"
      },
      "source": [
        "Calculate the top few most frequent words in the second dataset's prompts to see if there are intersections with common tags."
      ]
    },
    {
      "cell_type": "code",
      "execution_count": null,
      "metadata": {
        "id": "Rrzp0-lqLNMx"
      },
      "outputs": [],
      "source": [
        "count = Counter()\n",
        "for _, row in prompts_data.iterrows():\n",
        "    words = re.findall(r'\\w+', row['prompt'].lower())\n",
        "    count.update(words)\n",
        "top_prompt_words = set([i for i, _ in count.most_common(100)])"
      ]
    },
    {
      "cell_type": "code",
      "execution_count": null,
      "metadata": {
        "id": "BxiuvGqfLNM2"
      },
      "outputs": [],
      "source": [
        "top_100_tags = set(data_all['tag'].explode() \\\n",
        "        .value_counts().head(100).index.str.lower().to_list())"
      ]
    },
    {
      "cell_type": "code",
      "execution_count": null,
      "metadata": {
        "id": "eINPYijKLNM3",
        "outputId": "c5b0f7f6-ea27-4789-c1f8-16c36a397329"
      },
      "outputs": [
        {
          "data": {
            "text/plain": [
              "['logo',\n",
              " 'painting',\n",
              " 'style',\n",
              " 'design',\n",
              " 'fantasy',\n",
              " 'photorealistic',\n",
              " 'portrait',\n",
              " 'futuristic',\n",
              " 'detailed',\n",
              " '4k',\n",
              " 'digital',\n",
              " 'photography',\n",
              " 'white',\n",
              " 'realistic',\n",
              " 'background',\n",
              " 'hd',\n",
              " '8k',\n",
              " 'cute',\n",
              " 'dark',\n",
              " '3d',\n",
              " 'blue',\n",
              " 'woman',\n",
              " 'illustration',\n",
              " 'beautiful',\n",
              " 'green',\n",
              " 'art',\n",
              " 'anime']"
            ]
          },
          "execution_count": 29,
          "metadata": {},
          "output_type": "execute_result"
        }
      ],
      "source": [
        "top_tags = top_prompt_words & top_100_tags\n",
        "top_tags = list(top_tags)\n",
        "top_tags"
      ]
    },
    {
      "cell_type": "markdown",
      "metadata": {
        "id": "-sY3RcBCLNM-"
      },
      "source": [
        "Use the common tags as categorical features."
      ]
    },
    {
      "cell_type": "code",
      "execution_count": null,
      "metadata": {
        "id": "hKUaUE3_1LRL"
      },
      "outputs": [],
      "source": [
        "tags_feature = []\n",
        "for _, row in data_all.iterrows():\n",
        "  feature = [0] * len(top_tags)\n",
        "  for item in row['tag']:\n",
        "    if item.lower() in top_tags:\n",
        "      feature[top_tags.index(item.lower())] = 1\n",
        "  tags_feature.append(feature)"
      ]
    },
    {
      "cell_type": "code",
      "execution_count": null,
      "metadata": {
        "colab": {
          "base_uri": "https://localhost:8080/",
          "height": 244
        },
        "id": "z0fNLm1p2Cyh",
        "outputId": "f2fe8939-12a4-4ce8-dac3-5ec79c189060"
      },
      "outputs": [
        {
          "data": {
            "text/html": [
              "<div>\n",
              "<style scoped>\n",
              "    .dataframe tbody tr th:only-of-type {\n",
              "        vertical-align: middle;\n",
              "    }\n",
              "\n",
              "    .dataframe tbody tr th {\n",
              "        vertical-align: top;\n",
              "    }\n",
              "\n",
              "    .dataframe thead th {\n",
              "        text-align: right;\n",
              "    }\n",
              "</style>\n",
              "<table border=\"1\" class=\"dataframe\">\n",
              "  <thead>\n",
              "    <tr style=\"text-align: right;\">\n",
              "      <th></th>\n",
              "      <th>logo</th>\n",
              "      <th>painting</th>\n",
              "      <th>style</th>\n",
              "      <th>design</th>\n",
              "      <th>fantasy</th>\n",
              "      <th>photorealistic</th>\n",
              "      <th>portrait</th>\n",
              "      <th>futuristic</th>\n",
              "      <th>detailed</th>\n",
              "      <th>4k</th>\n",
              "      <th>...</th>\n",
              "      <th>cute</th>\n",
              "      <th>dark</th>\n",
              "      <th>3d</th>\n",
              "      <th>blue</th>\n",
              "      <th>woman</th>\n",
              "      <th>illustration</th>\n",
              "      <th>beautiful</th>\n",
              "      <th>green</th>\n",
              "      <th>art</th>\n",
              "      <th>anime</th>\n",
              "    </tr>\n",
              "  </thead>\n",
              "  <tbody>\n",
              "    <tr>\n",
              "      <th>0</th>\n",
              "      <td>1</td>\n",
              "      <td>0</td>\n",
              "      <td>0</td>\n",
              "      <td>1</td>\n",
              "      <td>0</td>\n",
              "      <td>0</td>\n",
              "      <td>0</td>\n",
              "      <td>0</td>\n",
              "      <td>0</td>\n",
              "      <td>0</td>\n",
              "      <td>...</td>\n",
              "      <td>0</td>\n",
              "      <td>0</td>\n",
              "      <td>0</td>\n",
              "      <td>0</td>\n",
              "      <td>0</td>\n",
              "      <td>0</td>\n",
              "      <td>0</td>\n",
              "      <td>0</td>\n",
              "      <td>0</td>\n",
              "      <td>0</td>\n",
              "    </tr>\n",
              "    <tr>\n",
              "      <th>1</th>\n",
              "      <td>0</td>\n",
              "      <td>0</td>\n",
              "      <td>0</td>\n",
              "      <td>1</td>\n",
              "      <td>0</td>\n",
              "      <td>0</td>\n",
              "      <td>0</td>\n",
              "      <td>0</td>\n",
              "      <td>0</td>\n",
              "      <td>0</td>\n",
              "      <td>...</td>\n",
              "      <td>0</td>\n",
              "      <td>0</td>\n",
              "      <td>0</td>\n",
              "      <td>0</td>\n",
              "      <td>0</td>\n",
              "      <td>1</td>\n",
              "      <td>0</td>\n",
              "      <td>0</td>\n",
              "      <td>0</td>\n",
              "      <td>0</td>\n",
              "    </tr>\n",
              "    <tr>\n",
              "      <th>2</th>\n",
              "      <td>1</td>\n",
              "      <td>0</td>\n",
              "      <td>1</td>\n",
              "      <td>1</td>\n",
              "      <td>0</td>\n",
              "      <td>0</td>\n",
              "      <td>0</td>\n",
              "      <td>0</td>\n",
              "      <td>0</td>\n",
              "      <td>0</td>\n",
              "      <td>...</td>\n",
              "      <td>0</td>\n",
              "      <td>0</td>\n",
              "      <td>0</td>\n",
              "      <td>0</td>\n",
              "      <td>0</td>\n",
              "      <td>0</td>\n",
              "      <td>0</td>\n",
              "      <td>0</td>\n",
              "      <td>0</td>\n",
              "      <td>0</td>\n",
              "    </tr>\n",
              "    <tr>\n",
              "      <th>3</th>\n",
              "      <td>0</td>\n",
              "      <td>0</td>\n",
              "      <td>0</td>\n",
              "      <td>1</td>\n",
              "      <td>0</td>\n",
              "      <td>0</td>\n",
              "      <td>0</td>\n",
              "      <td>0</td>\n",
              "      <td>0</td>\n",
              "      <td>0</td>\n",
              "      <td>...</td>\n",
              "      <td>0</td>\n",
              "      <td>0</td>\n",
              "      <td>0</td>\n",
              "      <td>0</td>\n",
              "      <td>0</td>\n",
              "      <td>0</td>\n",
              "      <td>0</td>\n",
              "      <td>0</td>\n",
              "      <td>0</td>\n",
              "      <td>0</td>\n",
              "    </tr>\n",
              "    <tr>\n",
              "      <th>4</th>\n",
              "      <td>0</td>\n",
              "      <td>0</td>\n",
              "      <td>0</td>\n",
              "      <td>1</td>\n",
              "      <td>0</td>\n",
              "      <td>0</td>\n",
              "      <td>0</td>\n",
              "      <td>0</td>\n",
              "      <td>0</td>\n",
              "      <td>0</td>\n",
              "      <td>...</td>\n",
              "      <td>0</td>\n",
              "      <td>0</td>\n",
              "      <td>0</td>\n",
              "      <td>0</td>\n",
              "      <td>0</td>\n",
              "      <td>0</td>\n",
              "      <td>0</td>\n",
              "      <td>0</td>\n",
              "      <td>0</td>\n",
              "      <td>0</td>\n",
              "    </tr>\n",
              "  </tbody>\n",
              "</table>\n",
              "<p>5 rows × 27 columns</p>\n",
              "</div>"
            ],
            "text/plain": [
              "   logo  painting  style  design  fantasy  photorealistic  portrait  \\\n",
              "0     1         0      0       1        0               0         0   \n",
              "1     0         0      0       1        0               0         0   \n",
              "2     1         0      1       1        0               0         0   \n",
              "3     0         0      0       1        0               0         0   \n",
              "4     0         0      0       1        0               0         0   \n",
              "\n",
              "   futuristic  detailed  4k  ...  cute  dark  3d  blue  woman  illustration  \\\n",
              "0           0         0   0  ...     0     0   0     0      0             0   \n",
              "1           0         0   0  ...     0     0   0     0      0             1   \n",
              "2           0         0   0  ...     0     0   0     0      0             0   \n",
              "3           0         0   0  ...     0     0   0     0      0             0   \n",
              "4           0         0   0  ...     0     0   0     0      0             0   \n",
              "\n",
              "   beautiful  green  art  anime  \n",
              "0          0      0    0      0  \n",
              "1          0      0    0      0  \n",
              "2          0      0    0      0  \n",
              "3          0      0    0      0  \n",
              "4          0      0    0      0  \n",
              "\n",
              "[5 rows x 27 columns]"
            ]
          },
          "execution_count": 31,
          "metadata": {},
          "output_type": "execute_result"
        }
      ],
      "source": [
        "tags_feature = pd.DataFrame(tags_feature, columns=top_tags)\n",
        "data = data.set_index(np.arange(len(data)))\n",
        "tags_feature.head()"
      ]
    },
    {
      "cell_type": "markdown",
      "metadata": {
        "id": "jlBDLA9glYXY"
      },
      "source": [
        "# Data Preparation"
      ]
    },
    {
      "cell_type": "markdown",
      "metadata": {
        "id": "b0aDEfuWlYXY"
      },
      "source": [
        "## [For BERT] Sample Tokenizer"
      ]
    },
    {
      "cell_type": "code",
      "execution_count": null,
      "metadata": {
        "colab": {
          "base_uri": "https://localhost:8080/"
        },
        "id": "EHhsFQKKlYXY",
        "outputId": "1f4f3bf9-aaa8-4638-c83a-44d59eaeecfe"
      },
      "outputs": [
        {
          "name": "stderr",
          "output_type": "stream",
          "text": [
            "Some weights of the model checkpoint at bert-base-uncased were not used when initializing BertForMaskedLM: ['cls.seq_relationship.bias', 'bert.pooler.dense.bias', 'bert.pooler.dense.weight', 'cls.seq_relationship.weight']\n",
            "- This IS expected if you are initializing BertForMaskedLM from the checkpoint of a model trained on another task or with another architecture (e.g. initializing a BertForSequenceClassification model from a BertForPreTraining model).\n",
            "- This IS NOT expected if you are initializing BertForMaskedLM from the checkpoint of a model that you expect to be exactly identical (initializing a BertForSequenceClassification model from a BertForSequenceClassification model).\n"
          ]
        }
      ],
      "source": [
        "tokenizer = AutoTokenizer.from_pretrained(\"bert-base-uncased\")\n",
        "model = AutoModelForMaskedLM.from_pretrained(\"bert-base-uncased\")"
      ]
    },
    {
      "cell_type": "markdown",
      "metadata": {
        "id": "qGWiDOqg5D-D"
      },
      "source": [
        "Sample BERT encoding."
      ]
    },
    {
      "cell_type": "code",
      "execution_count": null,
      "metadata": {
        "colab": {
          "base_uri": "https://localhost:8080/"
        },
        "id": "sz87c6V0lYXZ",
        "outputId": "578e8d15-6a41-4b14-bd83-9bbcf3479d4e"
      },
      "outputs": [
        {
          "name": "stdout",
          "output_type": "stream",
          "text": [
            "busy girl multiple phones, multiethnic business success team, chinese office meeting moderated, five coworkers in workplacebranding, business, creativity, design, digital marketing, innovation, logo, minimalism, natural, professional, simplicity, software, technology, transparent backgroundtransparent background, natural logo for software business called ohio valley digital --s 750 --v 5.1\n",
            "tensor([[  101,  5697,  2611,  3674, 11640,  1010,  4800, 11031,  8713,  2449,\n",
            "          3112,  2136,  1010,  2822,  2436,  3116,  8777,  2094,  1010,  2274,\n",
            "         11190,  2953, 11451,  1999, 16165, 23544,  2075,  1010,  2449,  1010,\n",
            "         14842,  1010,  2640,  1010,  3617,  5821,  1010,  8144,  1010,  8154,\n",
            "          1010, 10124,  2964,  1010,  3019,  1010,  2658,  1010, 17839,  1010,\n",
            "          4007,  1010,  2974,  1010, 13338,  4281,  6494,  3619, 19362,  4765,\n",
            "          4281,  1010,  3019,  8154,  2005,  4007,  2449,  2170,  4058,  3028,\n",
            "          3617,  1011,  1011,  1055,  9683,  1011,  1011,  1058,  1019,  1012,\n",
            "          1015,   102,     0,     0,     0,     0,     0,     0,     0,     0,\n",
            "             0,     0,     0,     0,     0,     0,     0,     0,     0,     0,\n",
            "             0,     0,     0,     0,     0,     0,     0,     0,     0,     0,\n",
            "             0,     0,     0,     0,     0,     0,     0,     0,     0,     0,\n",
            "             0,     0,     0,     0,     0,     0,     0,     0,     0,     0,\n",
            "             0,     0,     0,     0,     0,     0,     0,     0,     0,     0,\n",
            "             0,     0,     0,     0,     0,     0,     0,     0,     0,     0,\n",
            "             0,     0,     0,     0,     0,     0,     0,     0,     0,     0,\n",
            "             0,     0,     0,     0,     0,     0,     0,     0,     0,     0,\n",
            "             0,     0,     0,     0,     0,     0,     0,     0,     0,     0,\n",
            "             0,     0,     0,     0,     0,     0,     0,     0,     0,     0,\n",
            "             0,     0,     0,     0,     0,     0,     0,     0,     0,     0,\n",
            "             0,     0,     0,     0,     0,     0,     0,     0,     0,     0,\n",
            "             0,     0,     0,     0,     0,     0,     0,     0,     0,     0,\n",
            "             0,     0,     0,     0,     0,     0,     0,     0,     0,     0,\n",
            "             0,     0,     0,     0,     0,     0,     0,     0,     0,     0,\n",
            "             0,     0,     0,     0,     0,     0,     0,     0,     0,     0,\n",
            "             0,     0,     0,     0,     0,     0,     0,     0,     0,     0,\n",
            "             0,     0,     0,     0,     0,     0,     0,     0,     0,     0,\n",
            "             0,     0,     0,     0,     0,     0,     0,     0,     0,     0,\n",
            "             0,     0,     0,     0,     0,     0,     0,     0,     0,     0,\n",
            "             0,     0,     0,     0,     0,     0,     0,     0,     0,     0,\n",
            "             0,     0,     0,     0,     0,     0,     0,     0,     0,     0,\n",
            "             0,     0,     0,     0,     0,     0,     0,     0,     0,     0,\n",
            "             0,     0,     0,     0,     0,     0,     0,     0,     0,     0,\n",
            "             0,     0,     0,     0,     0,     0,     0,     0,     0,     0,\n",
            "             0,     0,     0,     0,     0,     0,     0,     0,     0,     0,\n",
            "             0,     0,     0,     0,     0,     0,     0,     0,     0,     0,\n",
            "             0,     0,     0,     0,     0,     0,     0,     0,     0,     0,\n",
            "             0,     0,     0,     0,     0,     0,     0,     0,     0,     0,\n",
            "             0,     0,     0,     0,     0,     0,     0,     0,     0,     0,\n",
            "             0,     0,     0,     0,     0,     0,     0,     0,     0,     0,\n",
            "             0,     0,     0,     0,     0,     0,     0,     0,     0,     0,\n",
            "             0,     0,     0,     0,     0,     0,     0,     0,     0,     0,\n",
            "             0,     0,     0,     0,     0,     0,     0,     0,     0,     0,\n",
            "             0,     0,     0,     0,     0,     0,     0,     0,     0,     0,\n",
            "             0,     0,     0,     0,     0,     0,     0,     0,     0,     0,\n",
            "             0,     0,     0,     0,     0,     0,     0,     0,     0,     0,\n",
            "             0,     0,     0,     0,     0,     0,     0,     0,     0,     0,\n",
            "             0,     0,     0,     0,     0,     0,     0,     0,     0,     0,\n",
            "             0,     0,     0,     0,     0,     0,     0,     0,     0,     0,\n",
            "             0,     0,     0,     0,     0,     0,     0,     0,     0,     0,\n",
            "             0,     0,     0,     0,     0,     0,     0,     0,     0,     0,\n",
            "             0,     0]])\n"
          ]
        }
      ],
      "source": [
        "example_text = data.iloc[0]['prompt']\n",
        "bert_input = tokenizer(example_text,\n",
        "                       padding='max_length',\n",
        "                       max_length = 512,\n",
        "                       truncation=True,\n",
        "                       return_tensors=\"pt\")\n",
        "\n",
        "print(example_text)\n",
        "print(bert_input['input_ids'])"
      ]
    },
    {
      "cell_type": "code",
      "execution_count": null,
      "metadata": {
        "colab": {
          "base_uri": "https://localhost:8080/"
        },
        "id": "kbMbXFKXlYXZ",
        "outputId": "2ac3e3ab-110c-4221-d206-95809dd40ce4"
      },
      "outputs": [
        {
          "data": {
            "text/plain": [
              "dict_keys(['input_ids', 'token_type_ids', 'attention_mask'])"
            ]
          },
          "execution_count": 34,
          "metadata": {},
          "output_type": "execute_result"
        }
      ],
      "source": [
        "bert_input.keys()"
      ]
    },
    {
      "cell_type": "markdown",
      "metadata": {
        "id": "gh041Rau5G5-"
      },
      "source": [
        "Decode the embeddings."
      ]
    },
    {
      "cell_type": "code",
      "execution_count": null,
      "metadata": {
        "colab": {
          "base_uri": "https://localhost:8080/"
        },
        "id": "ArlX-w1VlYXZ",
        "outputId": "7cda2ec7-00b7-44d1-f79a-121ffef262e1"
      },
      "outputs": [
        {
          "name": "stdout",
          "output_type": "stream",
          "text": [
            "[CLS] busy girl multiple phones, multiethnic business success team, chinese office meeting moderated, five coworkers in workplacebranding, business, creativity, design, digital marketing, innovation, logo, minimalism, natural, professional, simplicity, software, technology, transparent backgroundtransparent background, natural logo for software business called ohio valley digital - - s 750 - - v 5. 1 [SEP] [PAD] [PAD] [PAD] [PAD] [PAD] [PAD] [PAD] [PAD] [PAD] [PAD] [PAD] [PAD] [PAD] [PAD] [PAD] [PAD] [PAD] [PAD] [PAD] [PAD] [PAD] [PAD] [PAD] [PAD] [PAD] [PAD] [PAD] [PAD] [PAD] [PAD] [PAD] [PAD] [PAD] [PAD] [PAD] [PAD] [PAD] [PAD] [PAD] [PAD] [PAD] [PAD] [PAD] [PAD] [PAD] [PAD] [PAD] [PAD] [PAD] [PAD] [PAD] [PAD] [PAD] [PAD] [PAD] [PAD] [PAD] [PAD] [PAD] [PAD] [PAD] [PAD] [PAD] [PAD] [PAD] [PAD] [PAD] [PAD] [PAD] [PAD] [PAD] [PAD] [PAD] [PAD] [PAD] [PAD] [PAD] [PAD] [PAD] [PAD] [PAD] [PAD] [PAD] [PAD] [PAD] [PAD] [PAD] [PAD] [PAD] [PAD] [PAD] [PAD] [PAD] [PAD] [PAD] [PAD] [PAD] [PAD] [PAD] [PAD] [PAD] [PAD] [PAD] [PAD] [PAD] [PAD] [PAD] [PAD] [PAD] [PAD] [PAD] [PAD] [PAD] [PAD] [PAD] [PAD] [PAD] [PAD] [PAD] [PAD] [PAD] [PAD] [PAD] [PAD] [PAD] [PAD] [PAD] [PAD] [PAD] [PAD] [PAD] [PAD] [PAD] [PAD] [PAD] [PAD] [PAD] [PAD] [PAD] [PAD] [PAD] [PAD] [PAD] [PAD] [PAD] [PAD] [PAD] [PAD] [PAD] [PAD] [PAD] [PAD] [PAD] [PAD] [PAD] [PAD] [PAD] [PAD] [PAD] [PAD] [PAD] [PAD] [PAD] [PAD] [PAD] [PAD] [PAD] [PAD] [PAD] [PAD] [PAD] [PAD] [PAD] [PAD] [PAD] [PAD] [PAD] [PAD] [PAD] [PAD] [PAD] [PAD] [PAD] [PAD] [PAD] [PAD] [PAD] [PAD] [PAD] [PAD] [PAD] [PAD] [PAD] [PAD] [PAD] [PAD] [PAD] [PAD] [PAD] [PAD] [PAD] [PAD] [PAD] [PAD] [PAD] [PAD] [PAD] [PAD] [PAD] [PAD] [PAD] [PAD] [PAD] [PAD] [PAD] [PAD] [PAD] [PAD] [PAD] [PAD] [PAD] [PAD] [PAD] [PAD] [PAD] [PAD] [PAD] [PAD] [PAD] [PAD] [PAD] [PAD] [PAD] [PAD] [PAD] [PAD] [PAD] [PAD] [PAD] [PAD] [PAD] [PAD] [PAD] [PAD] [PAD] [PAD] [PAD] [PAD] [PAD] [PAD] [PAD] [PAD] [PAD] [PAD] [PAD] [PAD] [PAD] [PAD] [PAD] [PAD] [PAD] [PAD] [PAD] [PAD] [PAD] [PAD] [PAD] [PAD] [PAD] [PAD] [PAD] [PAD] [PAD] [PAD] [PAD] [PAD] [PAD] [PAD] [PAD] [PAD] [PAD] [PAD] [PAD] [PAD] [PAD] [PAD] [PAD] [PAD] [PAD] [PAD] [PAD] [PAD] [PAD] [PAD] [PAD] [PAD] [PAD] [PAD] [PAD] [PAD] [PAD] [PAD] [PAD] [PAD] [PAD] [PAD] [PAD] [PAD] [PAD] [PAD] [PAD] [PAD] [PAD] [PAD] [PAD] [PAD] [PAD] [PAD] [PAD] [PAD] [PAD] [PAD] [PAD] [PAD] [PAD] [PAD] [PAD] [PAD] [PAD] [PAD] [PAD] [PAD] [PAD] [PAD] [PAD] [PAD] [PAD] [PAD] [PAD] [PAD] [PAD] [PAD] [PAD] [PAD] [PAD] [PAD] [PAD] [PAD] [PAD] [PAD] [PAD] [PAD] [PAD] [PAD] [PAD] [PAD] [PAD] [PAD] [PAD] [PAD] [PAD] [PAD] [PAD] [PAD] [PAD] [PAD] [PAD] [PAD] [PAD] [PAD] [PAD] [PAD] [PAD] [PAD] [PAD] [PAD] [PAD] [PAD] [PAD] [PAD] [PAD] [PAD] [PAD] [PAD] [PAD] [PAD] [PAD] [PAD] [PAD] [PAD] [PAD] [PAD] [PAD] [PAD] [PAD] [PAD] [PAD] [PAD] [PAD] [PAD] [PAD] [PAD] [PAD] [PAD] [PAD] [PAD] [PAD] [PAD] [PAD] [PAD] [PAD] [PAD] [PAD] [PAD] [PAD] [PAD] [PAD] [PAD] [PAD] [PAD] [PAD] [PAD] [PAD] [PAD] [PAD] [PAD] [PAD] [PAD] [PAD] [PAD]\n"
          ]
        }
      ],
      "source": [
        "example_text = tokenizer.decode(bert_input.input_ids[0])\n",
        "print(example_text)"
      ]
    },
    {
      "cell_type": "markdown",
      "metadata": {
        "id": "t7uGKFY9lYXZ"
      },
      "source": [
        "## [For BERT] Define the Dataset"
      ]
    },
    {
      "cell_type": "code",
      "execution_count": null,
      "metadata": {
        "id": "ABJ0FvrflYXZ"
      },
      "outputs": [],
      "source": [
        "labels = {\n",
        "    'design': 0,\n",
        "    'digital_art': 1,\n",
        "    'illustration': 2,\n",
        "    'nature': 3\n",
        "}\n",
        "\n",
        "class Dataset(torch.utils.data.Dataset):\n",
        "    def __init__(self, data):\n",
        "        self.labels = [labels[label] for label in data['category']]\n",
        "        self.tokenizer = BertTokenizer.from_pretrained(\"bert-base-uncased\")\n",
        "        self.texts = [self.tokenizer(text,\n",
        "                                padding='max_length',\n",
        "                                max_length = 512,\n",
        "                                truncation=True,\n",
        "                                return_tensors=\"pt\")\n",
        "                      for text in data['prompt']]\n",
        "\n",
        "    def get_categories(self):\n",
        "        return self.labels\n",
        "\n",
        "    def __len__(self):\n",
        "        return len(self.labels)\n",
        "\n",
        "    def get_batch_labels(self, idx):\n",
        "        return np.array(self.labels[idx])\n",
        "\n",
        "    def get_batch_texts(self, idx):\n",
        "        return self.texts[idx]\n",
        "\n",
        "    def __getitem__(self, idx):\n",
        "        batch_texts = self.get_batch_texts(idx)\n",
        "        batch_y = self.get_batch_labels(idx)\n",
        "        return batch_texts, batch_y"
      ]
    },
    {
      "cell_type": "code",
      "execution_count": null,
      "metadata": {
        "colab": {
          "base_uri": "https://localhost:8080/"
        },
        "id": "4ZRY9iMxlYXa",
        "outputId": "dfcb6f8b-e7d6-4198-8ce7-71bc623851ad"
      },
      "outputs": [
        {
          "data": {
            "text/plain": [
              "<__main__.Dataset at 0x2a1a1af3460>"
            ]
          },
          "execution_count": 37,
          "metadata": {},
          "output_type": "execute_result"
        }
      ],
      "source": [
        "Dataset(data)"
      ]
    },
    {
      "cell_type": "markdown",
      "metadata": {
        "id": "SLjIHlnyifl1"
      },
      "source": [
        "## [For Other Models] Encoding\n"
      ]
    },
    {
      "cell_type": "markdown",
      "metadata": {
        "id": "hHZPRM_qLNNM"
      },
      "source": [
        "Use sentence transformer to encode the prompts."
      ]
    },
    {
      "cell_type": "code",
      "execution_count": null,
      "metadata": {
        "id": "ncK3WmrfPgHL"
      },
      "outputs": [],
      "source": [
        "bi_encoder_model_name = \"sentence-transformers/msmarco-MiniLM-L12-cos-v5\"\n",
        "model = SentenceTransformer(bi_encoder_model_name, device=\"cuda\")"
      ]
    },
    {
      "cell_type": "code",
      "execution_count": null,
      "metadata": {
        "id": "gMElaR0XZOh7",
        "colab": {
          "referenced_widgets": [
            "9e1e1d66ab7c488d94ca8f4bab0ba0c0"
          ]
        },
        "outputId": "ce0caae4-8de2-4510-ba78-e7ace5234b75"
      },
      "outputs": [
        {
          "data": {
            "application/vnd.jupyter.widget-view+json": {
              "model_id": "9e1e1d66ab7c488d94ca8f4bab0ba0c0",
              "version_major": 2,
              "version_minor": 0
            },
            "text/plain": [
              "0it [00:00, ?it/s]"
            ]
          },
          "metadata": {},
          "output_type": "display_data"
        }
      ],
      "source": [
        "encoded_embeddings = []\n",
        "\n",
        "for index, row in tqdm(data.iterrows()):\n",
        "  text = row['prompt']\n",
        "  embedding = model.encode(text)\n",
        "  encoded_embeddings.append(embedding)\n",
        "\n",
        "data['embeddings'] = encoded_embeddings"
      ]
    },
    {
      "cell_type": "code",
      "execution_count": null,
      "metadata": {
        "id": "2WEgwHOQavEH"
      },
      "outputs": [],
      "source": [
        "np.save(\"data_encoded_no_punc.npy\", encoded_embeddings)"
      ]
    },
    {
      "cell_type": "code",
      "execution_count": null,
      "metadata": {
        "colab": {
          "base_uri": "https://localhost:8080/"
        },
        "id": "FvZSQxFrdQuN",
        "outputId": "246b59b0-009d-4b41-bcfd-10de9626f35e"
      },
      "outputs": [
        {
          "data": {
            "text/plain": [
              "array([[-7.45310187e-02,  6.31770268e-02, -1.52646722e-02, ...,\n",
              "         4.02660072e-02,  1.88157956e-05,  3.09974253e-02],\n",
              "       [-2.54712217e-02,  2.89598596e-03, -2.01591719e-02, ...,\n",
              "        -4.42694016e-02,  3.46261300e-02, -1.14003569e-02],\n",
              "       [-4.27732803e-02,  3.03156506e-02,  1.32590793e-02, ...,\n",
              "        -1.02823466e-01,  5.34691103e-02,  1.13074286e-02],\n",
              "       ...,\n",
              "       [-1.92631502e-02,  1.18287407e-01,  3.71747417e-03, ...,\n",
              "        -7.76769668e-02,  4.11408804e-02,  1.50619922e-02],\n",
              "       [ 9.75773577e-03,  4.54067066e-02,  1.30069135e-02, ...,\n",
              "        -1.22117503e-02, -7.66408741e-02,  2.09640767e-02],\n",
              "       [-2.57226434e-02,  8.23595971e-02, -5.83322532e-03, ...,\n",
              "         2.98565272e-02, -2.52636615e-02, -1.81409642e-02]], dtype=float32)"
            ]
          },
          "execution_count": 41,
          "metadata": {},
          "output_type": "execute_result"
        }
      ],
      "source": [
        "encoded_embeddings = np.load('data_encoded_no_punc.npy')\n",
        "encoded_embeddings"
      ]
    },
    {
      "cell_type": "code",
      "execution_count": null,
      "metadata": {
        "id": "N04nLSQShZPf"
      },
      "outputs": [],
      "source": [
        "data['embeddings'] = [i for i in encoded_embeddings]"
      ]
    },
    {
      "cell_type": "code",
      "execution_count": null,
      "metadata": {
        "colab": {
          "base_uri": "https://localhost:8080/",
          "height": 206
        },
        "id": "7HtjyWXFhZCb",
        "outputId": "55bed870-475c-40df-cdf5-54d9349d8b3e"
      },
      "outputs": [
        {
          "data": {
            "text/html": [
              "<div>\n",
              "<style scoped>\n",
              "    .dataframe tbody tr th:only-of-type {\n",
              "        vertical-align: middle;\n",
              "    }\n",
              "\n",
              "    .dataframe tbody tr th {\n",
              "        vertical-align: top;\n",
              "    }\n",
              "\n",
              "    .dataframe thead th {\n",
              "        text-align: right;\n",
              "    }\n",
              "</style>\n",
              "<table border=\"1\" class=\"dataframe\">\n",
              "  <thead>\n",
              "    <tr style=\"text-align: right;\">\n",
              "      <th></th>\n",
              "      <th>prompt</th>\n",
              "      <th>category</th>\n",
              "      <th>embeddings</th>\n",
              "    </tr>\n",
              "  </thead>\n",
              "  <tbody>\n",
              "    <tr>\n",
              "      <th>0</th>\n",
              "      <td>busy girl multiple phones, multiethnic busines...</td>\n",
              "      <td>design</td>\n",
              "      <td>[-0.07453102, 0.06317703, -0.015264672, -0.041...</td>\n",
              "    </tr>\n",
              "    <tr>\n",
              "      <th>1</th>\n",
              "      <td>fantasy pink and green, navy grey plaid waterc...</td>\n",
              "      <td>design</td>\n",
              "      <td>[-0.025471222, 0.002895986, -0.020159172, 0.07...</td>\n",
              "    </tr>\n",
              "    <tr>\n",
              "      <th>2</th>\n",
              "      <td>hyperdetailed gold disco pattern, hyperdetaile...</td>\n",
              "      <td>design</td>\n",
              "      <td>[-0.04277328, 0.03031565, 0.013259079, -0.0273...</td>\n",
              "    </tr>\n",
              "    <tr>\n",
              "      <th>3</th>\n",
              "      <td>triggers kawaii fashion epic, illuminated pola...</td>\n",
              "      <td>design</td>\n",
              "      <td>[-0.014823819, 0.033588488, 0.038925305, 0.055...</td>\n",
              "    </tr>\n",
              "    <tr>\n",
              "      <th>4</th>\n",
              "      <td>mechanical hottie a cyberpunk masterpiece, bea...</td>\n",
              "      <td>design</td>\n",
              "      <td>[-0.0044794413, 0.03887741, -0.022477755, -0.0...</td>\n",
              "    </tr>\n",
              "  </tbody>\n",
              "</table>\n",
              "</div>"
            ],
            "text/plain": [
              "                                              prompt category  \\\n",
              "0  busy girl multiple phones, multiethnic busines...   design   \n",
              "1  fantasy pink and green, navy grey plaid waterc...   design   \n",
              "2  hyperdetailed gold disco pattern, hyperdetaile...   design   \n",
              "3  triggers kawaii fashion epic, illuminated pola...   design   \n",
              "4  mechanical hottie a cyberpunk masterpiece, bea...   design   \n",
              "\n",
              "                                          embeddings  \n",
              "0  [-0.07453102, 0.06317703, -0.015264672, -0.041...  \n",
              "1  [-0.025471222, 0.002895986, -0.020159172, 0.07...  \n",
              "2  [-0.04277328, 0.03031565, 0.013259079, -0.0273...  \n",
              "3  [-0.014823819, 0.033588488, 0.038925305, 0.055...  \n",
              "4  [-0.0044794413, 0.03887741, -0.022477755, -0.0...  "
            ]
          },
          "execution_count": 43,
          "metadata": {},
          "output_type": "execute_result"
        }
      ],
      "source": [
        "data.head()"
      ]
    },
    {
      "cell_type": "code",
      "execution_count": null,
      "metadata": {
        "id": "lRTOy-UScjgg"
      },
      "outputs": [],
      "source": [
        "labels = {\n",
        "    'design': 0,\n",
        "    'digital_art': 1,\n",
        "    'illustration': 2,\n",
        "    'nature': 3\n",
        "}\n",
        "\n",
        "data['category_y'] = data['category'].map(labels)"
      ]
    },
    {
      "cell_type": "code",
      "execution_count": null,
      "metadata": {
        "colab": {
          "base_uri": "https://localhost:8080/",
          "height": 293
        },
        "id": "jsBgBNgth_ie",
        "outputId": "9f28d9b6-9e03-41d1-9e3a-8663f3b8af8a"
      },
      "outputs": [
        {
          "data": {
            "text/html": [
              "<div>\n",
              "<style scoped>\n",
              "    .dataframe tbody tr th:only-of-type {\n",
              "        vertical-align: middle;\n",
              "    }\n",
              "\n",
              "    .dataframe tbody tr th {\n",
              "        vertical-align: top;\n",
              "    }\n",
              "\n",
              "    .dataframe thead th {\n",
              "        text-align: right;\n",
              "    }\n",
              "</style>\n",
              "<table border=\"1\" class=\"dataframe\">\n",
              "  <thead>\n",
              "    <tr style=\"text-align: right;\">\n",
              "      <th></th>\n",
              "      <th>prompt</th>\n",
              "      <th>category</th>\n",
              "      <th>embeddings</th>\n",
              "      <th>category_y</th>\n",
              "    </tr>\n",
              "  </thead>\n",
              "  <tbody>\n",
              "    <tr>\n",
              "      <th>7079</th>\n",
              "      <td>goya-esque landscape with lighting, skyline r3...</td>\n",
              "      <td>nature</td>\n",
              "      <td>[-0.011604762, 0.020602785, 0.029197164, 0.102...</td>\n",
              "      <td>3</td>\n",
              "    </tr>\n",
              "    <tr>\n",
              "      <th>4027</th>\n",
              "      <td>reptile human bokeh photography, tiger battle ...</td>\n",
              "      <td>illustration</td>\n",
              "      <td>[-0.0028363867, 0.061932936, 0.018656835, -0.0...</td>\n",
              "      <td>2</td>\n",
              "    </tr>\n",
              "    <tr>\n",
              "      <th>254</th>\n",
              "      <td>lama vector portrait art, scuba cat hunting fi...</td>\n",
              "      <td>design</td>\n",
              "      <td>[-0.05205257, 0.06433177, 0.05882873, -0.00769...</td>\n",
              "      <td>0</td>\n",
              "    </tr>\n",
              "    <tr>\n",
              "      <th>3168</th>\n",
              "      <td>bathhouse body cinematic masterpiece, perfect ...</td>\n",
              "      <td>illustration</td>\n",
              "      <td>[0.055315554, 0.120995134, -0.054250542, 0.039...</td>\n",
              "      <td>2</td>\n",
              "    </tr>\n",
              "    <tr>\n",
              "      <th>209</th>\n",
              "      <td>futuristic flying hot wheels car, floating pod...</td>\n",
              "      <td>design</td>\n",
              "      <td>[-0.005771272, 0.064321846, -0.05811153, 0.042...</td>\n",
              "      <td>0</td>\n",
              "    </tr>\n",
              "  </tbody>\n",
              "</table>\n",
              "</div>"
            ],
            "text/plain": [
              "                                                 prompt      category  \\\n",
              "7079  goya-esque landscape with lighting, skyline r3...        nature   \n",
              "4027  reptile human bokeh photography, tiger battle ...  illustration   \n",
              "254   lama vector portrait art, scuba cat hunting fi...        design   \n",
              "3168  bathhouse body cinematic masterpiece, perfect ...  illustration   \n",
              "209   futuristic flying hot wheels car, floating pod...        design   \n",
              "\n",
              "                                             embeddings  category_y  \n",
              "7079  [-0.011604762, 0.020602785, 0.029197164, 0.102...           3  \n",
              "4027  [-0.0028363867, 0.061932936, 0.018656835, -0.0...           2  \n",
              "254   [-0.05205257, 0.06433177, 0.05882873, -0.00769...           0  \n",
              "3168  [0.055315554, 0.120995134, -0.054250542, 0.039...           2  \n",
              "209   [-0.005771272, 0.064321846, -0.05811153, 0.042...           0  "
            ]
          },
          "execution_count": 45,
          "metadata": {},
          "output_type": "execute_result"
        }
      ],
      "source": [
        "data.sample(5)"
      ]
    },
    {
      "cell_type": "code",
      "execution_count": null,
      "metadata": {
        "colab": {
          "base_uri": "https://localhost:8080/",
          "height": 585
        },
        "id": "1-hDhPl4upjQ",
        "outputId": "bcbb71b6-066c-4458-bd96-ee513676de06"
      },
      "outputs": [
        {
          "data": {
            "text/html": [
              "<div>\n",
              "<style scoped>\n",
              "    .dataframe tbody tr th:only-of-type {\n",
              "        vertical-align: middle;\n",
              "    }\n",
              "\n",
              "    .dataframe tbody tr th {\n",
              "        vertical-align: top;\n",
              "    }\n",
              "\n",
              "    .dataframe thead th {\n",
              "        text-align: right;\n",
              "    }\n",
              "</style>\n",
              "<table border=\"1\" class=\"dataframe\">\n",
              "  <thead>\n",
              "    <tr style=\"text-align: right;\">\n",
              "      <th></th>\n",
              "      <th>prompt</th>\n",
              "      <th>category</th>\n",
              "      <th>embeddings</th>\n",
              "      <th>category_y</th>\n",
              "      <th>logo</th>\n",
              "      <th>painting</th>\n",
              "      <th>style</th>\n",
              "      <th>design</th>\n",
              "      <th>fantasy</th>\n",
              "      <th>photorealistic</th>\n",
              "      <th>...</th>\n",
              "      <th>cute</th>\n",
              "      <th>dark</th>\n",
              "      <th>3d</th>\n",
              "      <th>blue</th>\n",
              "      <th>woman</th>\n",
              "      <th>illustration</th>\n",
              "      <th>beautiful</th>\n",
              "      <th>green</th>\n",
              "      <th>art</th>\n",
              "      <th>anime</th>\n",
              "    </tr>\n",
              "  </thead>\n",
              "  <tbody>\n",
              "    <tr>\n",
              "      <th>0</th>\n",
              "      <td>busy girl multiple phones, multiethnic busines...</td>\n",
              "      <td>design</td>\n",
              "      <td>[-0.07453102, 0.06317703, -0.015264672, -0.041...</td>\n",
              "      <td>0</td>\n",
              "      <td>1</td>\n",
              "      <td>0</td>\n",
              "      <td>0</td>\n",
              "      <td>1</td>\n",
              "      <td>0</td>\n",
              "      <td>0</td>\n",
              "      <td>...</td>\n",
              "      <td>0</td>\n",
              "      <td>0</td>\n",
              "      <td>0</td>\n",
              "      <td>0</td>\n",
              "      <td>0</td>\n",
              "      <td>0</td>\n",
              "      <td>0</td>\n",
              "      <td>0</td>\n",
              "      <td>0</td>\n",
              "      <td>0</td>\n",
              "    </tr>\n",
              "    <tr>\n",
              "      <th>1</th>\n",
              "      <td>fantasy pink and green, navy grey plaid waterc...</td>\n",
              "      <td>design</td>\n",
              "      <td>[-0.025471222, 0.002895986, -0.020159172, 0.07...</td>\n",
              "      <td>0</td>\n",
              "      <td>0</td>\n",
              "      <td>0</td>\n",
              "      <td>0</td>\n",
              "      <td>1</td>\n",
              "      <td>0</td>\n",
              "      <td>0</td>\n",
              "      <td>...</td>\n",
              "      <td>0</td>\n",
              "      <td>0</td>\n",
              "      <td>0</td>\n",
              "      <td>0</td>\n",
              "      <td>0</td>\n",
              "      <td>1</td>\n",
              "      <td>0</td>\n",
              "      <td>0</td>\n",
              "      <td>0</td>\n",
              "      <td>0</td>\n",
              "    </tr>\n",
              "    <tr>\n",
              "      <th>2</th>\n",
              "      <td>hyperdetailed gold disco pattern, hyperdetaile...</td>\n",
              "      <td>design</td>\n",
              "      <td>[-0.04277328, 0.03031565, 0.013259079, -0.0273...</td>\n",
              "      <td>0</td>\n",
              "      <td>1</td>\n",
              "      <td>0</td>\n",
              "      <td>1</td>\n",
              "      <td>1</td>\n",
              "      <td>0</td>\n",
              "      <td>0</td>\n",
              "      <td>...</td>\n",
              "      <td>0</td>\n",
              "      <td>0</td>\n",
              "      <td>0</td>\n",
              "      <td>0</td>\n",
              "      <td>0</td>\n",
              "      <td>0</td>\n",
              "      <td>0</td>\n",
              "      <td>0</td>\n",
              "      <td>0</td>\n",
              "      <td>0</td>\n",
              "    </tr>\n",
              "    <tr>\n",
              "      <th>3</th>\n",
              "      <td>triggers kawaii fashion epic, illuminated pola...</td>\n",
              "      <td>design</td>\n",
              "      <td>[-0.014823819, 0.033588488, 0.038925305, 0.055...</td>\n",
              "      <td>0</td>\n",
              "      <td>0</td>\n",
              "      <td>0</td>\n",
              "      <td>0</td>\n",
              "      <td>1</td>\n",
              "      <td>0</td>\n",
              "      <td>0</td>\n",
              "      <td>...</td>\n",
              "      <td>0</td>\n",
              "      <td>0</td>\n",
              "      <td>0</td>\n",
              "      <td>0</td>\n",
              "      <td>0</td>\n",
              "      <td>0</td>\n",
              "      <td>0</td>\n",
              "      <td>0</td>\n",
              "      <td>0</td>\n",
              "      <td>0</td>\n",
              "    </tr>\n",
              "    <tr>\n",
              "      <th>4</th>\n",
              "      <td>mechanical hottie a cyberpunk masterpiece, bea...</td>\n",
              "      <td>design</td>\n",
              "      <td>[-0.0044794413, 0.03887741, -0.022477755, -0.0...</td>\n",
              "      <td>0</td>\n",
              "      <td>0</td>\n",
              "      <td>0</td>\n",
              "      <td>0</td>\n",
              "      <td>1</td>\n",
              "      <td>0</td>\n",
              "      <td>0</td>\n",
              "      <td>...</td>\n",
              "      <td>0</td>\n",
              "      <td>0</td>\n",
              "      <td>0</td>\n",
              "      <td>0</td>\n",
              "      <td>0</td>\n",
              "      <td>0</td>\n",
              "      <td>0</td>\n",
              "      <td>0</td>\n",
              "      <td>0</td>\n",
              "      <td>0</td>\n",
              "    </tr>\n",
              "  </tbody>\n",
              "</table>\n",
              "<p>5 rows × 31 columns</p>\n",
              "</div>"
            ],
            "text/plain": [
              "                                              prompt category  \\\n",
              "0  busy girl multiple phones, multiethnic busines...   design   \n",
              "1  fantasy pink and green, navy grey plaid waterc...   design   \n",
              "2  hyperdetailed gold disco pattern, hyperdetaile...   design   \n",
              "3  triggers kawaii fashion epic, illuminated pola...   design   \n",
              "4  mechanical hottie a cyberpunk masterpiece, bea...   design   \n",
              "\n",
              "                                          embeddings  category_y  logo  \\\n",
              "0  [-0.07453102, 0.06317703, -0.015264672, -0.041...           0     1   \n",
              "1  [-0.025471222, 0.002895986, -0.020159172, 0.07...           0     0   \n",
              "2  [-0.04277328, 0.03031565, 0.013259079, -0.0273...           0     1   \n",
              "3  [-0.014823819, 0.033588488, 0.038925305, 0.055...           0     0   \n",
              "4  [-0.0044794413, 0.03887741, -0.022477755, -0.0...           0     0   \n",
              "\n",
              "   painting  style  design  fantasy  photorealistic  ...  cute  dark  3d  \\\n",
              "0         0      0       1        0               0  ...     0     0   0   \n",
              "1         0      0       1        0               0  ...     0     0   0   \n",
              "2         0      1       1        0               0  ...     0     0   0   \n",
              "3         0      0       1        0               0  ...     0     0   0   \n",
              "4         0      0       1        0               0  ...     0     0   0   \n",
              "\n",
              "   blue  woman  illustration  beautiful  green  art  anime  \n",
              "0     0      0             0          0      0    0      0  \n",
              "1     0      0             1          0      0    0      0  \n",
              "2     0      0             0          0      0    0      0  \n",
              "3     0      0             0          0      0    0      0  \n",
              "4     0      0             0          0      0    0      0  \n",
              "\n",
              "[5 rows x 31 columns]"
            ]
          },
          "execution_count": 46,
          "metadata": {},
          "output_type": "execute_result"
        }
      ],
      "source": [
        "data = pd.concat((data, tags_feature), axis=1)\n",
        "data.head()"
      ]
    },
    {
      "cell_type": "markdown",
      "metadata": {
        "id": "DsPq-gsqlYXa"
      },
      "source": [
        "## [For Both] Dataset Split"
      ]
    },
    {
      "cell_type": "code",
      "execution_count": null,
      "metadata": {
        "colab": {
          "base_uri": "https://localhost:8080/"
        },
        "id": "fTyko6NJlYXa",
        "outputId": "23435b95-b894-49ef-f9b8-32a99dd268ec"
      },
      "outputs": [
        {
          "name": "stdout",
          "output_type": "stream",
          "text": [
            "5945 743 744\n"
          ]
        }
      ],
      "source": [
        "np.random.seed(42)\n",
        "data_train, data_val, data_test = np.split(data.sample(frac=1, random_state=42),\n",
        "                                     [int(.8*len(data)), int(.9*len(data))])\n",
        "\n",
        "print(len(data_train),len(data_val), len(data_test))"
      ]
    },
    {
      "cell_type": "markdown",
      "metadata": {
        "id": "z8pIg2TylYXa"
      },
      "source": [
        "# Model Preparation"
      ]
    },
    {
      "cell_type": "markdown",
      "metadata": {
        "id": "w5SfTaK7XYcm"
      },
      "source": [
        "## BERT"
      ]
    },
    {
      "cell_type": "code",
      "execution_count": null,
      "metadata": {
        "id": "-UjMQ0l-po1c"
      },
      "outputs": [],
      "source": [
        "class BertClassifier(nn.Module):\n",
        "    def __init__(self, dropout=0.5):\n",
        "        super(BertClassifier, self).__init__()\n",
        "        self.bert = BertModel.from_pretrained(\"bert-base-uncased\")\n",
        "        self.dropout = nn.Dropout(dropout)\n",
        "        self.linear_1 = nn.Linear(768, 4)\n",
        "        self.relu = nn.ReLU()\n",
        "\n",
        "    def forward(self, input_id, mask):\n",
        "        _, pooled_output = \\\n",
        "        self.bert(input_ids=input_id, attention_mask=mask, return_dict=False)\n",
        "        dropout_1_output = self.dropout(pooled_output)\n",
        "        linear_1_output = self.linear_1(dropout_1_output)\n",
        "        final_layer = self.relu(linear_1_output)\n",
        "        return final_layer"
      ]
    },
    {
      "cell_type": "code",
      "execution_count": null,
      "metadata": {
        "id": "RpDPA8VvlYXa"
      },
      "outputs": [],
      "source": [
        "class BertClassifier_l2(nn.Module):\n",
        "    def __init__(self, dropout=0.5):\n",
        "        super(BertClassifier_l2, self).__init__()\n",
        "        self.bert = BertModel.from_pretrained(\"bert-base-uncased\")\n",
        "        self.dropout = nn.Dropout(dropout)\n",
        "        self.linear_1 = nn.Linear(768, 512)\n",
        "        self.linear_2 = nn.Linear(512, 4)\n",
        "        self.relu = nn.ReLU()\n",
        "\n",
        "    def forward(self, input_id, mask):\n",
        "        _, pooled_output = \\\n",
        "        self.bert(input_ids=input_id, attention_mask=mask, return_dict=False)\n",
        "        dropout_1_output = self.dropout(pooled_output)\n",
        "        linear_1_output = self.linear_1(dropout_1_output)\n",
        "        relu_1_output = self.relu(linear_1_output)\n",
        "        dropout_2_output = self.dropout(relu_1_output)\n",
        "        linear_2_output = self.linear_2(dropout_2_output)\n",
        "        final_layer = self.relu(linear_2_output)\n",
        "        return final_layer"
      ]
    },
    {
      "cell_type": "code",
      "execution_count": null,
      "metadata": {
        "id": "HRJIjNKvIUQu"
      },
      "outputs": [],
      "source": [
        "class BertClassifier_l3(nn.Module):\n",
        "    def __init__(self, dropout=0.5):\n",
        "        super(BertClassifier_l3, self).__init__()\n",
        "        self.bert = BertModel.from_pretrained(\"bert-base-uncased\")\n",
        "        self.dropout = nn.Dropout(dropout)\n",
        "        self.linear_1 = nn.Linear(768, 512)\n",
        "        self.linear_2 = nn.Linear(512, 256)\n",
        "        self.linear_3 = nn.Linear(256, 4)\n",
        "        self.relu = nn.ReLU()\n",
        "\n",
        "    def forward(self, input_id, mask):\n",
        "        _, pooled_output = \\\n",
        "        self.bert(input_ids=input_id, attention_mask=mask, return_dict=False)\n",
        "        # print(pooled_output)\n",
        "        dropout_1_output = self.dropout(pooled_output)\n",
        "        linear_1_output = self.linear_1(dropout_1_output)\n",
        "        relu_1_output = self.relu(linear_1_output)\n",
        "        dropout_2_output = self.dropout(relu_1_output)\n",
        "        linear_2_output = self.linear_2(dropout_2_output)\n",
        "        relu_2_output = self.relu(linear_2_output)\n",
        "        dropout_3_output = self.dropout(relu_2_output)\n",
        "        linear_3_output = self.linear_3(dropout_3_output)\n",
        "        final_layer = self.relu(linear_3_output)\n",
        "        return final_layer"
      ]
    },
    {
      "cell_type": "code",
      "execution_count": null,
      "metadata": {
        "id": "Y5s2bfI8LNPi"
      },
      "outputs": [],
      "source": [
        "class BertClassifier_l4(nn.Module):\n",
        "    def __init__(self, dropout=0.5):\n",
        "        super(BertClassifier_l4, self).__init__()\n",
        "        self.bert = BertModel.from_pretrained(\"bert-base-uncased\")\n",
        "        self.dropout = nn.Dropout(dropout)\n",
        "        self.linear_1 = nn.Linear(768, 512)\n",
        "        self.linear_2 = nn.Linear(512, 256)\n",
        "        self.linear_3 = nn.Linear(256, 128)\n",
        "        self.linear_4 = nn.Linear(128, 4)\n",
        "        self.relu = nn.ReLU()\n",
        "        self.sigmoid = nn.Sigmoid()\n",
        "        self.leakyrelu = nn.LeakyReLU(0.1)\n",
        "        self.softmax = nn.Softmax(dim=1)\n",
        "\n",
        "    def forward(self, input_id, mask):\n",
        "        _, pooled_output = \\\n",
        "        self.bert(input_ids=input_id, attention_mask=mask, return_dict=False)\n",
        "        dropout_1_output = self.dropout(pooled_output)\n",
        "        linear_1_output = self.linear_1(dropout_1_output)\n",
        "        hidden_1_output = self.leakyrelu(linear_1_output)\n",
        "        dropout_2_output = self.dropout(hidden_1_output)\n",
        "        linear_2_output = self.linear_2(dropout_2_output)\n",
        "        hidden_2_output = self.leakyrelu(linear_2_output)\n",
        "        dropout_3_output = self.dropout(hidden_2_output)\n",
        "        linear_3_output = self.linear_3(dropout_3_output)\n",
        "        hidden_3_output = self.leakyrelu(linear_3_output)\n",
        "        dropout_4_output = self.dropout(hidden_3_output)\n",
        "        linear_4_output = self.linear_4(dropout_4_output)\n",
        "        final_layer = self.softmax(linear_4_output)\n",
        "        return final_layer"
      ]
    },
    {
      "cell_type": "code",
      "execution_count": null,
      "metadata": {
        "id": "gcVdmKuzlYXb"
      },
      "outputs": [],
      "source": [
        "def train(model, train_data, val_data, learning_rate, epochs):\n",
        "    # preprocess data\n",
        "    train, val = Dataset(train_data), Dataset(val_data)\n",
        "\n",
        "    # load data\n",
        "    train_dataloader = \\\n",
        "    torch.utils.data.DataLoader(train, batch_size=2, shuffle=True)\n",
        "    val_dataloader = torch.utils.data.DataLoader(val, batch_size=2)\n",
        "\n",
        "    use_cuda = torch.cuda.is_available()\n",
        "    device = torch.device(\"cuda\" if use_cuda else \"cpu\")\n",
        "\n",
        "    criterion = nn.CrossEntropyLoss()\n",
        "    optimizer = Adam(model.parameters(), lr=learning_rate)\n",
        "\n",
        "    if use_cuda:\n",
        "        model = model.cuda()\n",
        "        criterion = criterion.cuda()\n",
        "\n",
        "    for epoch_num in tqdm(range(epochs)):\n",
        "        #  train\n",
        "        total_acc_train = 0\n",
        "        total_loss_train = 0\n",
        "\n",
        "        for train_input, train_label in tqdm(train_dataloader):\n",
        "\n",
        "            # load data\n",
        "            train_label = train_label.to(device)\n",
        "\n",
        "            input_id = train_input['input_ids'].squeeze(1).to(device)\n",
        "\n",
        "            mask = train_input['attention_mask'].to(device)\n",
        "\n",
        "            output = model(input_id, mask)\n",
        "\n",
        "            # caculate loss\n",
        "            batch_loss = criterion(output, train_label)\n",
        "            total_loss_train += batch_loss.item()\n",
        "\n",
        "            # caculate accuracy\n",
        "            acc = (output.argmax(dim=1) == train_label).sum().item()\n",
        "            total_acc_train += acc\n",
        "\n",
        "            # update model\n",
        "            model.zero_grad()\n",
        "            batch_loss.backward()\n",
        "            optimizer.step()\n",
        "\n",
        "        # valuate\n",
        "        total_acc_val = 0\n",
        "        total_loss_val = 0\n",
        "\n",
        "        with torch.no_grad():\n",
        "            # valuation\n",
        "            for val_input, val_label in val_dataloader:\n",
        "                val_label = val_label.to(device)\n",
        "\n",
        "                input_id = val_input['input_ids'].squeeze(1).to(device)\n",
        "                mask = val_input['attention_mask'].to(device)\n",
        "\n",
        "                output = model(input_id, mask)\n",
        "\n",
        "                batch_loss = criterion(output, val_label)\n",
        "                total_loss_val += batch_loss.item()\n",
        "\n",
        "                acc = (output.argmax(dim=1) == val_label).sum().item()\n",
        "                total_acc_val += acc\n",
        "\n",
        "        print(\n",
        "            f'''Epochs: {epoch_num + 1}\n",
        "            | Train Loss: {total_loss_train / len(train_data): .3f}\n",
        "            | Train Accuracy: {total_acc_train / len(train_data): .3f}\n",
        "            | Val Loss: {total_loss_val / len(val_data): .3f}\n",
        "            | Val Accuracy: {total_acc_val / len(val_data): .3f}''')"
      ]
    },
    {
      "cell_type": "markdown",
      "metadata": {
        "id": "TE6TpcA8LNPj"
      },
      "source": [
        "Training Steps. (You should un-comment these lines for the first time you run this notebook)"
      ]
    },
    {
      "cell_type": "code",
      "execution_count": null,
      "metadata": {
        "id": "jh_PMIoolYXb"
      },
      "outputs": [],
      "source": [
        "# EPOCHS = 5\n",
        "# LR = 1e-6\n",
        "# model = BertClassifier_l4()"
      ]
    },
    {
      "cell_type": "code",
      "execution_count": null,
      "metadata": {
        "id": "jmUzwepElYXb"
      },
      "outputs": [],
      "source": [
        "# train(model, data_train, data_val, LR, EPOCHS)"
      ]
    },
    {
      "cell_type": "code",
      "execution_count": null,
      "metadata": {
        "id": "dGz2rLiIlYXb"
      },
      "outputs": [],
      "source": [
        "# torch.save(model.state_dict(), 'model.pt')"
      ]
    },
    {
      "cell_type": "markdown",
      "metadata": {
        "id": "MzKZtnEtcbiH"
      },
      "source": [
        "## BERT Evaluate"
      ]
    },
    {
      "cell_type": "code",
      "execution_count": null,
      "metadata": {
        "id": "Gm944mngcbGA"
      },
      "outputs": [],
      "source": [
        "def evaluate(model, test_data):\n",
        "\n",
        "    test = Dataset(test_data)\n",
        "    test_dataloader = torch.utils.data.DataLoader(test, batch_size=2)\n",
        "    use_cuda = torch.cuda.is_available()\n",
        "    device = torch.device(\"cuda\" if use_cuda else \"cpu\")\n",
        "    if use_cuda:\n",
        "        model = model.cuda()\n",
        "\n",
        "    total_acc_test = 0\n",
        "    pred = []\n",
        "    with torch.no_grad():\n",
        "        for test_input, test_label in tqdm(test_dataloader):\n",
        "            test_label = test_label.to(device)\n",
        "            mask = test_input['attention_mask'].to(device)\n",
        "            input_id = test_input['input_ids'].squeeze(1).to(device)\n",
        "            output = model(input_id, mask)\n",
        "            pred.extend(output.argmax(dim=1).cpu().numpy().tolist())\n",
        "            acc = (output.argmax(dim=1) == test_label).sum().item()\n",
        "            total_acc_test += acc\n",
        "    print(f'Test Accuracy: {total_acc_test / len(test_data): .3f}')\n",
        "    return total_acc_test / len(test_data), pred"
      ]
    },
    {
      "cell_type": "markdown",
      "metadata": {
        "id": "K-2O0i3rPbMx"
      },
      "source": [
        "## Random Forest"
      ]
    },
    {
      "cell_type": "code",
      "execution_count": null,
      "metadata": {
        "id": "Bc5lTqB2c8tk"
      },
      "outputs": [],
      "source": [
        "from sklearn.model_selection import GridSearchCV\n",
        "from sklearn.ensemble import RandomForestClassifier\n",
        "from sklearn.model_selection import cross_val_score\n",
        "from sklearn.manifold import TSNE\n",
        "from sklearn.decomposition import PCA"
      ]
    },
    {
      "cell_type": "code",
      "execution_count": null,
      "metadata": {
        "id": "3UFCo66pjVht"
      },
      "outputs": [],
      "source": [
        "X_train = data_train['embeddings'].to_list()\n",
        "X_val = data_val['embeddings'].to_list()\n",
        "X_test = data_test['embeddings'].to_list()\n",
        "\n",
        "y_train = data_train['category_y'].to_list()\n",
        "y_val = data_val['category_y'].to_list()\n",
        "y_test = data_test['category_y'].to_list()\n",
        "\n",
        "X_train = np.array(X_train)\n",
        "X_val = np.array(X_val)\n",
        "X_test = np.array(X_test)"
      ]
    },
    {
      "cell_type": "markdown",
      "metadata": {
        "id": "lDx7tUt0LNPp"
      },
      "source": [
        "We do PCA to decompose the large matrix and add the categorical tag features to the data set."
      ]
    },
    {
      "cell_type": "code",
      "execution_count": null,
      "metadata": {
        "id": "2E61Oew2--a4"
      },
      "outputs": [],
      "source": [
        "# pca\n",
        "pca = PCA(n_components=5)\n",
        "X_train_pca = pca.fit_transform(X_train)\n",
        "X_val_pca = pca.transform(X_val)\n",
        "X_test_pca = pca.transform(X_test)"
      ]
    },
    {
      "cell_type": "code",
      "execution_count": null,
      "metadata": {
        "id": "fli-qcVeGr1R"
      },
      "outputs": [],
      "source": [
        "matrix_train_list = data_train.iloc[:, -len(top_tags):].values.tolist()\n",
        "matrix_val_list = data_val.iloc[:, -len(top_tags):].values.tolist()\n",
        "matrix_test_list = data_test.iloc[:, -len(top_tags):].values.tolist()\n",
        "\n",
        "X_train_pca = [list(item) + matrix for item, matrix in\n",
        "               zip(X_train_pca, matrix_train_list)]\n",
        "X_val_pca = [list(item) + matrix for item, matrix in\n",
        "               zip(X_val_pca, matrix_val_list)]\n",
        "X_test_pca = [list(item) + matrix for item, matrix in\n",
        "               zip(X_test_pca, matrix_test_list)]"
      ]
    },
    {
      "cell_type": "code",
      "execution_count": null,
      "metadata": {
        "id": "oEyALYg2kENI"
      },
      "outputs": [],
      "source": [
        "model_rf = RandomForestClassifier()"
      ]
    },
    {
      "cell_type": "code",
      "execution_count": null,
      "metadata": {
        "id": "gERr5J8mdBvQ"
      },
      "outputs": [],
      "source": [
        "param_grid = {\n",
        "    'random_state': [42],\n",
        "    'criterion': ['gini', 'entropy'],\n",
        "    'n_estimators': [20, 30, 40],\n",
        "    'max_depth': [2, 5, 7, 9],\n",
        "}"
      ]
    },
    {
      "cell_type": "code",
      "execution_count": null,
      "metadata": {
        "colab": {
          "base_uri": "https://localhost:8080/",
          "height": 341
        },
        "id": "fHn0RK2tdDD7",
        "outputId": "f8e1f664-b871-4c70-b6e3-e950fcc17909"
      },
      "outputs": [
        {
          "data": {
            "text/html": [
              "<style>#sk-container-id-1 {color: black;background-color: white;}#sk-container-id-1 pre{padding: 0;}#sk-container-id-1 div.sk-toggleable {background-color: white;}#sk-container-id-1 label.sk-toggleable__label {cursor: pointer;display: block;width: 100%;margin-bottom: 0;padding: 0.3em;box-sizing: border-box;text-align: center;}#sk-container-id-1 label.sk-toggleable__label-arrow:before {content: \"▸\";float: left;margin-right: 0.25em;color: #696969;}#sk-container-id-1 label.sk-toggleable__label-arrow:hover:before {color: black;}#sk-container-id-1 div.sk-estimator:hover label.sk-toggleable__label-arrow:before {color: black;}#sk-container-id-1 div.sk-toggleable__content {max-height: 0;max-width: 0;overflow: hidden;text-align: left;background-color: #f0f8ff;}#sk-container-id-1 div.sk-toggleable__content pre {margin: 0.2em;color: black;border-radius: 0.25em;background-color: #f0f8ff;}#sk-container-id-1 input.sk-toggleable__control:checked~div.sk-toggleable__content {max-height: 200px;max-width: 100%;overflow: auto;}#sk-container-id-1 input.sk-toggleable__control:checked~label.sk-toggleable__label-arrow:before {content: \"▾\";}#sk-container-id-1 div.sk-estimator input.sk-toggleable__control:checked~label.sk-toggleable__label {background-color: #d4ebff;}#sk-container-id-1 div.sk-label input.sk-toggleable__control:checked~label.sk-toggleable__label {background-color: #d4ebff;}#sk-container-id-1 input.sk-hidden--visually {border: 0;clip: rect(1px 1px 1px 1px);clip: rect(1px, 1px, 1px, 1px);height: 1px;margin: -1px;overflow: hidden;padding: 0;position: absolute;width: 1px;}#sk-container-id-1 div.sk-estimator {font-family: monospace;background-color: #f0f8ff;border: 1px dotted black;border-radius: 0.25em;box-sizing: border-box;margin-bottom: 0.5em;}#sk-container-id-1 div.sk-estimator:hover {background-color: #d4ebff;}#sk-container-id-1 div.sk-parallel-item::after {content: \"\";width: 100%;border-bottom: 1px solid gray;flex-grow: 1;}#sk-container-id-1 div.sk-label:hover label.sk-toggleable__label {background-color: #d4ebff;}#sk-container-id-1 div.sk-serial::before {content: \"\";position: absolute;border-left: 1px solid gray;box-sizing: border-box;top: 0;bottom: 0;left: 50%;z-index: 0;}#sk-container-id-1 div.sk-serial {display: flex;flex-direction: column;align-items: center;background-color: white;padding-right: 0.2em;padding-left: 0.2em;position: relative;}#sk-container-id-1 div.sk-item {position: relative;z-index: 1;}#sk-container-id-1 div.sk-parallel {display: flex;align-items: stretch;justify-content: center;background-color: white;position: relative;}#sk-container-id-1 div.sk-item::before, #sk-container-id-1 div.sk-parallel-item::before {content: \"\";position: absolute;border-left: 1px solid gray;box-sizing: border-box;top: 0;bottom: 0;left: 50%;z-index: -1;}#sk-container-id-1 div.sk-parallel-item {display: flex;flex-direction: column;z-index: 1;position: relative;background-color: white;}#sk-container-id-1 div.sk-parallel-item:first-child::after {align-self: flex-end;width: 50%;}#sk-container-id-1 div.sk-parallel-item:last-child::after {align-self: flex-start;width: 50%;}#sk-container-id-1 div.sk-parallel-item:only-child::after {width: 0;}#sk-container-id-1 div.sk-dashed-wrapped {border: 1px dashed gray;margin: 0 0.4em 0.5em 0.4em;box-sizing: border-box;padding-bottom: 0.4em;background-color: white;}#sk-container-id-1 div.sk-label label {font-family: monospace;font-weight: bold;display: inline-block;line-height: 1.2em;}#sk-container-id-1 div.sk-label-container {text-align: center;}#sk-container-id-1 div.sk-container {/* jupyter's `normalize.less` sets `[hidden] { display: none; }` but bootstrap.min.css set `[hidden] { display: none !important; }` so we also need the `!important` here to be able to override the default hidden behavior on the sphinx rendered scikit-learn.org. See: https://github.com/scikit-learn/scikit-learn/issues/21755 */display: inline-block !important;position: relative;}#sk-container-id-1 div.sk-text-repr-fallback {display: none;}</style><div id=\"sk-container-id-1\" class=\"sk-top-container\"><div class=\"sk-text-repr-fallback\"><pre>GridSearchCV(cv=10, estimator=RandomForestClassifier(), n_jobs=-1,\n",
              "             param_grid={&#x27;criterion&#x27;: [&#x27;gini&#x27;, &#x27;entropy&#x27;],\n",
              "                         &#x27;max_depth&#x27;: [2, 5, 7, 9],\n",
              "                         &#x27;n_estimators&#x27;: [20, 30, 40], &#x27;random_state&#x27;: [42]})</pre><b>In a Jupyter environment, please rerun this cell to show the HTML representation or trust the notebook. <br />On GitHub, the HTML representation is unable to render, please try loading this page with nbviewer.org.</b></div><div class=\"sk-container\" hidden><div class=\"sk-item sk-dashed-wrapped\"><div class=\"sk-label-container\"><div class=\"sk-label sk-toggleable\"><input class=\"sk-toggleable__control sk-hidden--visually\" id=\"sk-estimator-id-1\" type=\"checkbox\" ><label for=\"sk-estimator-id-1\" class=\"sk-toggleable__label sk-toggleable__label-arrow\">GridSearchCV</label><div class=\"sk-toggleable__content\"><pre>GridSearchCV(cv=10, estimator=RandomForestClassifier(), n_jobs=-1,\n",
              "             param_grid={&#x27;criterion&#x27;: [&#x27;gini&#x27;, &#x27;entropy&#x27;],\n",
              "                         &#x27;max_depth&#x27;: [2, 5, 7, 9],\n",
              "                         &#x27;n_estimators&#x27;: [20, 30, 40], &#x27;random_state&#x27;: [42]})</pre></div></div></div><div class=\"sk-parallel\"><div class=\"sk-parallel-item\"><div class=\"sk-item\"><div class=\"sk-label-container\"><div class=\"sk-label sk-toggleable\"><input class=\"sk-toggleable__control sk-hidden--visually\" id=\"sk-estimator-id-2\" type=\"checkbox\" ><label for=\"sk-estimator-id-2\" class=\"sk-toggleable__label sk-toggleable__label-arrow\">estimator: RandomForestClassifier</label><div class=\"sk-toggleable__content\"><pre>RandomForestClassifier()</pre></div></div></div><div class=\"sk-serial\"><div class=\"sk-item\"><div class=\"sk-estimator sk-toggleable\"><input class=\"sk-toggleable__control sk-hidden--visually\" id=\"sk-estimator-id-3\" type=\"checkbox\" ><label for=\"sk-estimator-id-3\" class=\"sk-toggleable__label sk-toggleable__label-arrow\">RandomForestClassifier</label><div class=\"sk-toggleable__content\"><pre>RandomForestClassifier()</pre></div></div></div></div></div></div></div></div></div></div>"
            ],
            "text/plain": [
              "GridSearchCV(cv=10, estimator=RandomForestClassifier(), n_jobs=-1,\n",
              "             param_grid={'criterion': ['gini', 'entropy'],\n",
              "                         'max_depth': [2, 5, 7, 9],\n",
              "                         'n_estimators': [20, 30, 40], 'random_state': [42]})"
            ]
          },
          "execution_count": 63,
          "metadata": {},
          "output_type": "execute_result"
        }
      ],
      "source": [
        "grid_rf = GridSearchCV(model_rf, param_grid, cv=10, n_jobs=-1)\n",
        "grid_rf.fit(X_train, y_train)"
      ]
    },
    {
      "cell_type": "code",
      "execution_count": null,
      "metadata": {
        "id": "nouWUPRB6ACC",
        "outputId": "f6a8043c-901f-4b0f-902f-8c6f542a441d"
      },
      "outputs": [
        {
          "data": {
            "text/plain": [
              "{'criterion': 'entropy',\n",
              " 'max_depth': 7,\n",
              " 'n_estimators': 40,\n",
              " 'random_state': 42}"
            ]
          },
          "execution_count": 64,
          "metadata": {},
          "output_type": "execute_result"
        }
      ],
      "source": [
        "grid_rf.best_params_"
      ]
    },
    {
      "cell_type": "code",
      "execution_count": null,
      "metadata": {
        "id": "35TmgeFA6BQ5",
        "outputId": "e28f3e92-912c-4a9f-a319-773881f6dadd"
      },
      "outputs": [
        {
          "data": {
            "text/html": [
              "<style>#sk-container-id-2 {color: black;background-color: white;}#sk-container-id-2 pre{padding: 0;}#sk-container-id-2 div.sk-toggleable {background-color: white;}#sk-container-id-2 label.sk-toggleable__label {cursor: pointer;display: block;width: 100%;margin-bottom: 0;padding: 0.3em;box-sizing: border-box;text-align: center;}#sk-container-id-2 label.sk-toggleable__label-arrow:before {content: \"▸\";float: left;margin-right: 0.25em;color: #696969;}#sk-container-id-2 label.sk-toggleable__label-arrow:hover:before {color: black;}#sk-container-id-2 div.sk-estimator:hover label.sk-toggleable__label-arrow:before {color: black;}#sk-container-id-2 div.sk-toggleable__content {max-height: 0;max-width: 0;overflow: hidden;text-align: left;background-color: #f0f8ff;}#sk-container-id-2 div.sk-toggleable__content pre {margin: 0.2em;color: black;border-radius: 0.25em;background-color: #f0f8ff;}#sk-container-id-2 input.sk-toggleable__control:checked~div.sk-toggleable__content {max-height: 200px;max-width: 100%;overflow: auto;}#sk-container-id-2 input.sk-toggleable__control:checked~label.sk-toggleable__label-arrow:before {content: \"▾\";}#sk-container-id-2 div.sk-estimator input.sk-toggleable__control:checked~label.sk-toggleable__label {background-color: #d4ebff;}#sk-container-id-2 div.sk-label input.sk-toggleable__control:checked~label.sk-toggleable__label {background-color: #d4ebff;}#sk-container-id-2 input.sk-hidden--visually {border: 0;clip: rect(1px 1px 1px 1px);clip: rect(1px, 1px, 1px, 1px);height: 1px;margin: -1px;overflow: hidden;padding: 0;position: absolute;width: 1px;}#sk-container-id-2 div.sk-estimator {font-family: monospace;background-color: #f0f8ff;border: 1px dotted black;border-radius: 0.25em;box-sizing: border-box;margin-bottom: 0.5em;}#sk-container-id-2 div.sk-estimator:hover {background-color: #d4ebff;}#sk-container-id-2 div.sk-parallel-item::after {content: \"\";width: 100%;border-bottom: 1px solid gray;flex-grow: 1;}#sk-container-id-2 div.sk-label:hover label.sk-toggleable__label {background-color: #d4ebff;}#sk-container-id-2 div.sk-serial::before {content: \"\";position: absolute;border-left: 1px solid gray;box-sizing: border-box;top: 0;bottom: 0;left: 50%;z-index: 0;}#sk-container-id-2 div.sk-serial {display: flex;flex-direction: column;align-items: center;background-color: white;padding-right: 0.2em;padding-left: 0.2em;position: relative;}#sk-container-id-2 div.sk-item {position: relative;z-index: 1;}#sk-container-id-2 div.sk-parallel {display: flex;align-items: stretch;justify-content: center;background-color: white;position: relative;}#sk-container-id-2 div.sk-item::before, #sk-container-id-2 div.sk-parallel-item::before {content: \"\";position: absolute;border-left: 1px solid gray;box-sizing: border-box;top: 0;bottom: 0;left: 50%;z-index: -1;}#sk-container-id-2 div.sk-parallel-item {display: flex;flex-direction: column;z-index: 1;position: relative;background-color: white;}#sk-container-id-2 div.sk-parallel-item:first-child::after {align-self: flex-end;width: 50%;}#sk-container-id-2 div.sk-parallel-item:last-child::after {align-self: flex-start;width: 50%;}#sk-container-id-2 div.sk-parallel-item:only-child::after {width: 0;}#sk-container-id-2 div.sk-dashed-wrapped {border: 1px dashed gray;margin: 0 0.4em 0.5em 0.4em;box-sizing: border-box;padding-bottom: 0.4em;background-color: white;}#sk-container-id-2 div.sk-label label {font-family: monospace;font-weight: bold;display: inline-block;line-height: 1.2em;}#sk-container-id-2 div.sk-label-container {text-align: center;}#sk-container-id-2 div.sk-container {/* jupyter's `normalize.less` sets `[hidden] { display: none; }` but bootstrap.min.css set `[hidden] { display: none !important; }` so we also need the `!important` here to be able to override the default hidden behavior on the sphinx rendered scikit-learn.org. See: https://github.com/scikit-learn/scikit-learn/issues/21755 */display: inline-block !important;position: relative;}#sk-container-id-2 div.sk-text-repr-fallback {display: none;}</style><div id=\"sk-container-id-2\" class=\"sk-top-container\"><div class=\"sk-text-repr-fallback\"><pre>RandomForestClassifier(criterion=&#x27;entropy&#x27;, max_depth=7, n_estimators=40,\n",
              "                       random_state=42)</pre><b>In a Jupyter environment, please rerun this cell to show the HTML representation or trust the notebook. <br />On GitHub, the HTML representation is unable to render, please try loading this page with nbviewer.org.</b></div><div class=\"sk-container\" hidden><div class=\"sk-item\"><div class=\"sk-estimator sk-toggleable\"><input class=\"sk-toggleable__control sk-hidden--visually\" id=\"sk-estimator-id-4\" type=\"checkbox\" checked><label for=\"sk-estimator-id-4\" class=\"sk-toggleable__label sk-toggleable__label-arrow\">RandomForestClassifier</label><div class=\"sk-toggleable__content\"><pre>RandomForestClassifier(criterion=&#x27;entropy&#x27;, max_depth=7, n_estimators=40,\n",
              "                       random_state=42)</pre></div></div></div></div></div>"
            ],
            "text/plain": [
              "RandomForestClassifier(criterion='entropy', max_depth=7, n_estimators=40,\n",
              "                       random_state=42)"
            ]
          },
          "execution_count": 65,
          "metadata": {},
          "output_type": "execute_result"
        }
      ],
      "source": [
        "model_rf = grid_rf.best_estimator_\n",
        "model_rf"
      ]
    },
    {
      "cell_type": "code",
      "execution_count": null,
      "metadata": {
        "id": "4h1wWjI5cm_B"
      },
      "outputs": [],
      "source": [
        "def display_scores(scores):\n",
        "    print(\"Accuracy: %0.2f%% (+/- %0.2f)\" % (scores.mean()*100, scores.std() * 2*100))"
      ]
    },
    {
      "cell_type": "code",
      "execution_count": null,
      "metadata": {
        "id": "uLJ2m1OYnYGn",
        "outputId": "d1e63a4f-a95f-4e32-ddb0-33b35ac285b3"
      },
      "outputs": [
        {
          "name": "stdout",
          "output_type": "stream",
          "text": [
            "Accuracy: 57.33% (+/- 8.92)\n"
          ]
        }
      ],
      "source": [
        "rf_scores = cross_val_score(model_rf, X_val, y_val, cv=10)\n",
        "display_scores(rf_scores)"
      ]
    },
    {
      "cell_type": "markdown",
      "metadata": {
        "id": "UCvA77u-_fzB"
      },
      "source": [
        "### PCA"
      ]
    },
    {
      "cell_type": "code",
      "execution_count": null,
      "metadata": {
        "id": "S0sCch0ebRmn"
      },
      "outputs": [],
      "source": [
        "model_rf_pca = RandomForestClassifier()"
      ]
    },
    {
      "cell_type": "code",
      "execution_count": null,
      "metadata": {
        "id": "kxQuwNWwbRmo"
      },
      "outputs": [],
      "source": [
        "param_grid = {\n",
        "    'random_state': [42],\n",
        "    'criterion': ['gini', 'entropy'],\n",
        "    'n_estimators': [30, 40, 50],\n",
        "    'max_depth': [5, 7, 9],\n",
        "}"
      ]
    },
    {
      "cell_type": "code",
      "execution_count": null,
      "metadata": {
        "colab": {
          "base_uri": "https://localhost:8080/",
          "height": 118
        },
        "id": "azIwqVRFbRmo",
        "outputId": "19b471c4-ae16-4dda-9656-6b3a15cc46c4"
      },
      "outputs": [
        {
          "data": {
            "text/html": [
              "<style>#sk-container-id-3 {color: black;background-color: white;}#sk-container-id-3 pre{padding: 0;}#sk-container-id-3 div.sk-toggleable {background-color: white;}#sk-container-id-3 label.sk-toggleable__label {cursor: pointer;display: block;width: 100%;margin-bottom: 0;padding: 0.3em;box-sizing: border-box;text-align: center;}#sk-container-id-3 label.sk-toggleable__label-arrow:before {content: \"▸\";float: left;margin-right: 0.25em;color: #696969;}#sk-container-id-3 label.sk-toggleable__label-arrow:hover:before {color: black;}#sk-container-id-3 div.sk-estimator:hover label.sk-toggleable__label-arrow:before {color: black;}#sk-container-id-3 div.sk-toggleable__content {max-height: 0;max-width: 0;overflow: hidden;text-align: left;background-color: #f0f8ff;}#sk-container-id-3 div.sk-toggleable__content pre {margin: 0.2em;color: black;border-radius: 0.25em;background-color: #f0f8ff;}#sk-container-id-3 input.sk-toggleable__control:checked~div.sk-toggleable__content {max-height: 200px;max-width: 100%;overflow: auto;}#sk-container-id-3 input.sk-toggleable__control:checked~label.sk-toggleable__label-arrow:before {content: \"▾\";}#sk-container-id-3 div.sk-estimator input.sk-toggleable__control:checked~label.sk-toggleable__label {background-color: #d4ebff;}#sk-container-id-3 div.sk-label input.sk-toggleable__control:checked~label.sk-toggleable__label {background-color: #d4ebff;}#sk-container-id-3 input.sk-hidden--visually {border: 0;clip: rect(1px 1px 1px 1px);clip: rect(1px, 1px, 1px, 1px);height: 1px;margin: -1px;overflow: hidden;padding: 0;position: absolute;width: 1px;}#sk-container-id-3 div.sk-estimator {font-family: monospace;background-color: #f0f8ff;border: 1px dotted black;border-radius: 0.25em;box-sizing: border-box;margin-bottom: 0.5em;}#sk-container-id-3 div.sk-estimator:hover {background-color: #d4ebff;}#sk-container-id-3 div.sk-parallel-item::after {content: \"\";width: 100%;border-bottom: 1px solid gray;flex-grow: 1;}#sk-container-id-3 div.sk-label:hover label.sk-toggleable__label {background-color: #d4ebff;}#sk-container-id-3 div.sk-serial::before {content: \"\";position: absolute;border-left: 1px solid gray;box-sizing: border-box;top: 0;bottom: 0;left: 50%;z-index: 0;}#sk-container-id-3 div.sk-serial {display: flex;flex-direction: column;align-items: center;background-color: white;padding-right: 0.2em;padding-left: 0.2em;position: relative;}#sk-container-id-3 div.sk-item {position: relative;z-index: 1;}#sk-container-id-3 div.sk-parallel {display: flex;align-items: stretch;justify-content: center;background-color: white;position: relative;}#sk-container-id-3 div.sk-item::before, #sk-container-id-3 div.sk-parallel-item::before {content: \"\";position: absolute;border-left: 1px solid gray;box-sizing: border-box;top: 0;bottom: 0;left: 50%;z-index: -1;}#sk-container-id-3 div.sk-parallel-item {display: flex;flex-direction: column;z-index: 1;position: relative;background-color: white;}#sk-container-id-3 div.sk-parallel-item:first-child::after {align-self: flex-end;width: 50%;}#sk-container-id-3 div.sk-parallel-item:last-child::after {align-self: flex-start;width: 50%;}#sk-container-id-3 div.sk-parallel-item:only-child::after {width: 0;}#sk-container-id-3 div.sk-dashed-wrapped {border: 1px dashed gray;margin: 0 0.4em 0.5em 0.4em;box-sizing: border-box;padding-bottom: 0.4em;background-color: white;}#sk-container-id-3 div.sk-label label {font-family: monospace;font-weight: bold;display: inline-block;line-height: 1.2em;}#sk-container-id-3 div.sk-label-container {text-align: center;}#sk-container-id-3 div.sk-container {/* jupyter's `normalize.less` sets `[hidden] { display: none; }` but bootstrap.min.css set `[hidden] { display: none !important; }` so we also need the `!important` here to be able to override the default hidden behavior on the sphinx rendered scikit-learn.org. See: https://github.com/scikit-learn/scikit-learn/issues/21755 */display: inline-block !important;position: relative;}#sk-container-id-3 div.sk-text-repr-fallback {display: none;}</style><div id=\"sk-container-id-3\" class=\"sk-top-container\"><div class=\"sk-text-repr-fallback\"><pre>GridSearchCV(cv=10, estimator=RandomForestClassifier(), n_jobs=-1,\n",
              "             param_grid={&#x27;criterion&#x27;: [&#x27;gini&#x27;, &#x27;entropy&#x27;],\n",
              "                         &#x27;max_depth&#x27;: [5, 7, 9], &#x27;n_estimators&#x27;: [30, 40, 50],\n",
              "                         &#x27;random_state&#x27;: [42]})</pre><b>In a Jupyter environment, please rerun this cell to show the HTML representation or trust the notebook. <br />On GitHub, the HTML representation is unable to render, please try loading this page with nbviewer.org.</b></div><div class=\"sk-container\" hidden><div class=\"sk-item sk-dashed-wrapped\"><div class=\"sk-label-container\"><div class=\"sk-label sk-toggleable\"><input class=\"sk-toggleable__control sk-hidden--visually\" id=\"sk-estimator-id-5\" type=\"checkbox\" ><label for=\"sk-estimator-id-5\" class=\"sk-toggleable__label sk-toggleable__label-arrow\">GridSearchCV</label><div class=\"sk-toggleable__content\"><pre>GridSearchCV(cv=10, estimator=RandomForestClassifier(), n_jobs=-1,\n",
              "             param_grid={&#x27;criterion&#x27;: [&#x27;gini&#x27;, &#x27;entropy&#x27;],\n",
              "                         &#x27;max_depth&#x27;: [5, 7, 9], &#x27;n_estimators&#x27;: [30, 40, 50],\n",
              "                         &#x27;random_state&#x27;: [42]})</pre></div></div></div><div class=\"sk-parallel\"><div class=\"sk-parallel-item\"><div class=\"sk-item\"><div class=\"sk-label-container\"><div class=\"sk-label sk-toggleable\"><input class=\"sk-toggleable__control sk-hidden--visually\" id=\"sk-estimator-id-6\" type=\"checkbox\" ><label for=\"sk-estimator-id-6\" class=\"sk-toggleable__label sk-toggleable__label-arrow\">estimator: RandomForestClassifier</label><div class=\"sk-toggleable__content\"><pre>RandomForestClassifier()</pre></div></div></div><div class=\"sk-serial\"><div class=\"sk-item\"><div class=\"sk-estimator sk-toggleable\"><input class=\"sk-toggleable__control sk-hidden--visually\" id=\"sk-estimator-id-7\" type=\"checkbox\" ><label for=\"sk-estimator-id-7\" class=\"sk-toggleable__label sk-toggleable__label-arrow\">RandomForestClassifier</label><div class=\"sk-toggleable__content\"><pre>RandomForestClassifier()</pre></div></div></div></div></div></div></div></div></div></div>"
            ],
            "text/plain": [
              "GridSearchCV(cv=10, estimator=RandomForestClassifier(), n_jobs=-1,\n",
              "             param_grid={'criterion': ['gini', 'entropy'],\n",
              "                         'max_depth': [5, 7, 9], 'n_estimators': [30, 40, 50],\n",
              "                         'random_state': [42]})"
            ]
          },
          "execution_count": 70,
          "metadata": {},
          "output_type": "execute_result"
        }
      ],
      "source": [
        "grid_rf_pca = GridSearchCV(model_rf_pca, param_grid, cv=10, n_jobs=-1)\n",
        "grid_rf_pca.fit(X_train_pca, y_train)"
      ]
    },
    {
      "cell_type": "code",
      "execution_count": null,
      "metadata": {
        "colab": {
          "base_uri": "https://localhost:8080/"
        },
        "id": "_NqSEiYlbRmo",
        "outputId": "836a94f4-c0e4-4b0c-f686-f79f25e25fdf"
      },
      "outputs": [
        {
          "data": {
            "text/plain": [
              "{'criterion': 'entropy',\n",
              " 'max_depth': 7,\n",
              " 'n_estimators': 30,\n",
              " 'random_state': 42}"
            ]
          },
          "execution_count": 71,
          "metadata": {},
          "output_type": "execute_result"
        }
      ],
      "source": [
        "grid_rf_pca.best_params_"
      ]
    },
    {
      "cell_type": "code",
      "execution_count": null,
      "metadata": {
        "colab": {
          "base_uri": "https://localhost:8080/",
          "height": 75
        },
        "id": "0JLxgoZubRmo",
        "outputId": "b9276e63-3976-44f8-fdf7-64ff0a8fe74c"
      },
      "outputs": [
        {
          "data": {
            "text/html": [
              "<style>#sk-container-id-4 {color: black;background-color: white;}#sk-container-id-4 pre{padding: 0;}#sk-container-id-4 div.sk-toggleable {background-color: white;}#sk-container-id-4 label.sk-toggleable__label {cursor: pointer;display: block;width: 100%;margin-bottom: 0;padding: 0.3em;box-sizing: border-box;text-align: center;}#sk-container-id-4 label.sk-toggleable__label-arrow:before {content: \"▸\";float: left;margin-right: 0.25em;color: #696969;}#sk-container-id-4 label.sk-toggleable__label-arrow:hover:before {color: black;}#sk-container-id-4 div.sk-estimator:hover label.sk-toggleable__label-arrow:before {color: black;}#sk-container-id-4 div.sk-toggleable__content {max-height: 0;max-width: 0;overflow: hidden;text-align: left;background-color: #f0f8ff;}#sk-container-id-4 div.sk-toggleable__content pre {margin: 0.2em;color: black;border-radius: 0.25em;background-color: #f0f8ff;}#sk-container-id-4 input.sk-toggleable__control:checked~div.sk-toggleable__content {max-height: 200px;max-width: 100%;overflow: auto;}#sk-container-id-4 input.sk-toggleable__control:checked~label.sk-toggleable__label-arrow:before {content: \"▾\";}#sk-container-id-4 div.sk-estimator input.sk-toggleable__control:checked~label.sk-toggleable__label {background-color: #d4ebff;}#sk-container-id-4 div.sk-label input.sk-toggleable__control:checked~label.sk-toggleable__label {background-color: #d4ebff;}#sk-container-id-4 input.sk-hidden--visually {border: 0;clip: rect(1px 1px 1px 1px);clip: rect(1px, 1px, 1px, 1px);height: 1px;margin: -1px;overflow: hidden;padding: 0;position: absolute;width: 1px;}#sk-container-id-4 div.sk-estimator {font-family: monospace;background-color: #f0f8ff;border: 1px dotted black;border-radius: 0.25em;box-sizing: border-box;margin-bottom: 0.5em;}#sk-container-id-4 div.sk-estimator:hover {background-color: #d4ebff;}#sk-container-id-4 div.sk-parallel-item::after {content: \"\";width: 100%;border-bottom: 1px solid gray;flex-grow: 1;}#sk-container-id-4 div.sk-label:hover label.sk-toggleable__label {background-color: #d4ebff;}#sk-container-id-4 div.sk-serial::before {content: \"\";position: absolute;border-left: 1px solid gray;box-sizing: border-box;top: 0;bottom: 0;left: 50%;z-index: 0;}#sk-container-id-4 div.sk-serial {display: flex;flex-direction: column;align-items: center;background-color: white;padding-right: 0.2em;padding-left: 0.2em;position: relative;}#sk-container-id-4 div.sk-item {position: relative;z-index: 1;}#sk-container-id-4 div.sk-parallel {display: flex;align-items: stretch;justify-content: center;background-color: white;position: relative;}#sk-container-id-4 div.sk-item::before, #sk-container-id-4 div.sk-parallel-item::before {content: \"\";position: absolute;border-left: 1px solid gray;box-sizing: border-box;top: 0;bottom: 0;left: 50%;z-index: -1;}#sk-container-id-4 div.sk-parallel-item {display: flex;flex-direction: column;z-index: 1;position: relative;background-color: white;}#sk-container-id-4 div.sk-parallel-item:first-child::after {align-self: flex-end;width: 50%;}#sk-container-id-4 div.sk-parallel-item:last-child::after {align-self: flex-start;width: 50%;}#sk-container-id-4 div.sk-parallel-item:only-child::after {width: 0;}#sk-container-id-4 div.sk-dashed-wrapped {border: 1px dashed gray;margin: 0 0.4em 0.5em 0.4em;box-sizing: border-box;padding-bottom: 0.4em;background-color: white;}#sk-container-id-4 div.sk-label label {font-family: monospace;font-weight: bold;display: inline-block;line-height: 1.2em;}#sk-container-id-4 div.sk-label-container {text-align: center;}#sk-container-id-4 div.sk-container {/* jupyter's `normalize.less` sets `[hidden] { display: none; }` but bootstrap.min.css set `[hidden] { display: none !important; }` so we also need the `!important` here to be able to override the default hidden behavior on the sphinx rendered scikit-learn.org. See: https://github.com/scikit-learn/scikit-learn/issues/21755 */display: inline-block !important;position: relative;}#sk-container-id-4 div.sk-text-repr-fallback {display: none;}</style><div id=\"sk-container-id-4\" class=\"sk-top-container\"><div class=\"sk-text-repr-fallback\"><pre>RandomForestClassifier(criterion=&#x27;entropy&#x27;, max_depth=7, n_estimators=30,\n",
              "                       random_state=42)</pre><b>In a Jupyter environment, please rerun this cell to show the HTML representation or trust the notebook. <br />On GitHub, the HTML representation is unable to render, please try loading this page with nbviewer.org.</b></div><div class=\"sk-container\" hidden><div class=\"sk-item\"><div class=\"sk-estimator sk-toggleable\"><input class=\"sk-toggleable__control sk-hidden--visually\" id=\"sk-estimator-id-8\" type=\"checkbox\" checked><label for=\"sk-estimator-id-8\" class=\"sk-toggleable__label sk-toggleable__label-arrow\">RandomForestClassifier</label><div class=\"sk-toggleable__content\"><pre>RandomForestClassifier(criterion=&#x27;entropy&#x27;, max_depth=7, n_estimators=30,\n",
              "                       random_state=42)</pre></div></div></div></div></div>"
            ],
            "text/plain": [
              "RandomForestClassifier(criterion='entropy', max_depth=7, n_estimators=30,\n",
              "                       random_state=42)"
            ]
          },
          "execution_count": 72,
          "metadata": {},
          "output_type": "execute_result"
        }
      ],
      "source": [
        "model_rf_pca= grid_rf_pca.best_estimator_\n",
        "model_rf_pca"
      ]
    },
    {
      "cell_type": "code",
      "execution_count": null,
      "metadata": {
        "id": "zq3KQl_bbRmp"
      },
      "outputs": [],
      "source": [
        "def display_scores(scores):\n",
        "    print(\"Accuracy: %0.2f%% (+/- %0.2f)\" % (scores.mean()*100, scores.std() * 2*100))"
      ]
    },
    {
      "cell_type": "code",
      "execution_count": null,
      "metadata": {
        "colab": {
          "base_uri": "https://localhost:8080/"
        },
        "id": "W2mPxwY_bRmp",
        "outputId": "8f4e51da-58c4-49eb-b196-126886066d03"
      },
      "outputs": [
        {
          "name": "stdout",
          "output_type": "stream",
          "text": [
            "Accuracy: 67.03% (+/- 7.39)\n"
          ]
        }
      ],
      "source": [
        "rf_pca_scores = cross_val_score(model_rf_pca, X_val_pca, y_val, cv=10)\n",
        "display_scores(rf_pca_scores)"
      ]
    },
    {
      "cell_type": "markdown",
      "metadata": {
        "id": "DkcHYIQwIcGR"
      },
      "source": [
        "## KNN"
      ]
    },
    {
      "cell_type": "code",
      "execution_count": null,
      "metadata": {
        "id": "xv0dUthkJnGe"
      },
      "outputs": [],
      "source": [
        "from sklearn.neighbors import KNeighborsClassifier"
      ]
    },
    {
      "cell_type": "code",
      "execution_count": null,
      "metadata": {
        "id": "jZR0chIqJqUp"
      },
      "outputs": [],
      "source": [
        "param_grid = {\n",
        "    'n_neighbors': [2, 5, 10, 30, 50, 100, 200, 300]\n",
        "}"
      ]
    },
    {
      "cell_type": "code",
      "execution_count": null,
      "metadata": {
        "colab": {
          "base_uri": "https://localhost:8080/",
          "height": 118
        },
        "id": "LK2oJolBJqUq",
        "outputId": "169d7a9e-65ac-4e30-db70-2bf2e08b3df7"
      },
      "outputs": [
        {
          "data": {
            "text/html": [
              "<style>#sk-container-id-5 {color: black;background-color: white;}#sk-container-id-5 pre{padding: 0;}#sk-container-id-5 div.sk-toggleable {background-color: white;}#sk-container-id-5 label.sk-toggleable__label {cursor: pointer;display: block;width: 100%;margin-bottom: 0;padding: 0.3em;box-sizing: border-box;text-align: center;}#sk-container-id-5 label.sk-toggleable__label-arrow:before {content: \"▸\";float: left;margin-right: 0.25em;color: #696969;}#sk-container-id-5 label.sk-toggleable__label-arrow:hover:before {color: black;}#sk-container-id-5 div.sk-estimator:hover label.sk-toggleable__label-arrow:before {color: black;}#sk-container-id-5 div.sk-toggleable__content {max-height: 0;max-width: 0;overflow: hidden;text-align: left;background-color: #f0f8ff;}#sk-container-id-5 div.sk-toggleable__content pre {margin: 0.2em;color: black;border-radius: 0.25em;background-color: #f0f8ff;}#sk-container-id-5 input.sk-toggleable__control:checked~div.sk-toggleable__content {max-height: 200px;max-width: 100%;overflow: auto;}#sk-container-id-5 input.sk-toggleable__control:checked~label.sk-toggleable__label-arrow:before {content: \"▾\";}#sk-container-id-5 div.sk-estimator input.sk-toggleable__control:checked~label.sk-toggleable__label {background-color: #d4ebff;}#sk-container-id-5 div.sk-label input.sk-toggleable__control:checked~label.sk-toggleable__label {background-color: #d4ebff;}#sk-container-id-5 input.sk-hidden--visually {border: 0;clip: rect(1px 1px 1px 1px);clip: rect(1px, 1px, 1px, 1px);height: 1px;margin: -1px;overflow: hidden;padding: 0;position: absolute;width: 1px;}#sk-container-id-5 div.sk-estimator {font-family: monospace;background-color: #f0f8ff;border: 1px dotted black;border-radius: 0.25em;box-sizing: border-box;margin-bottom: 0.5em;}#sk-container-id-5 div.sk-estimator:hover {background-color: #d4ebff;}#sk-container-id-5 div.sk-parallel-item::after {content: \"\";width: 100%;border-bottom: 1px solid gray;flex-grow: 1;}#sk-container-id-5 div.sk-label:hover label.sk-toggleable__label {background-color: #d4ebff;}#sk-container-id-5 div.sk-serial::before {content: \"\";position: absolute;border-left: 1px solid gray;box-sizing: border-box;top: 0;bottom: 0;left: 50%;z-index: 0;}#sk-container-id-5 div.sk-serial {display: flex;flex-direction: column;align-items: center;background-color: white;padding-right: 0.2em;padding-left: 0.2em;position: relative;}#sk-container-id-5 div.sk-item {position: relative;z-index: 1;}#sk-container-id-5 div.sk-parallel {display: flex;align-items: stretch;justify-content: center;background-color: white;position: relative;}#sk-container-id-5 div.sk-item::before, #sk-container-id-5 div.sk-parallel-item::before {content: \"\";position: absolute;border-left: 1px solid gray;box-sizing: border-box;top: 0;bottom: 0;left: 50%;z-index: -1;}#sk-container-id-5 div.sk-parallel-item {display: flex;flex-direction: column;z-index: 1;position: relative;background-color: white;}#sk-container-id-5 div.sk-parallel-item:first-child::after {align-self: flex-end;width: 50%;}#sk-container-id-5 div.sk-parallel-item:last-child::after {align-self: flex-start;width: 50%;}#sk-container-id-5 div.sk-parallel-item:only-child::after {width: 0;}#sk-container-id-5 div.sk-dashed-wrapped {border: 1px dashed gray;margin: 0 0.4em 0.5em 0.4em;box-sizing: border-box;padding-bottom: 0.4em;background-color: white;}#sk-container-id-5 div.sk-label label {font-family: monospace;font-weight: bold;display: inline-block;line-height: 1.2em;}#sk-container-id-5 div.sk-label-container {text-align: center;}#sk-container-id-5 div.sk-container {/* jupyter's `normalize.less` sets `[hidden] { display: none; }` but bootstrap.min.css set `[hidden] { display: none !important; }` so we also need the `!important` here to be able to override the default hidden behavior on the sphinx rendered scikit-learn.org. See: https://github.com/scikit-learn/scikit-learn/issues/21755 */display: inline-block !important;position: relative;}#sk-container-id-5 div.sk-text-repr-fallback {display: none;}</style><div id=\"sk-container-id-5\" class=\"sk-top-container\"><div class=\"sk-text-repr-fallback\"><pre>GridSearchCV(cv=10, estimator=KNeighborsClassifier(), n_jobs=-1,\n",
              "             param_grid={&#x27;n_neighbors&#x27;: [2, 5, 10, 30, 50, 100, 200, 300]})</pre><b>In a Jupyter environment, please rerun this cell to show the HTML representation or trust the notebook. <br />On GitHub, the HTML representation is unable to render, please try loading this page with nbviewer.org.</b></div><div class=\"sk-container\" hidden><div class=\"sk-item sk-dashed-wrapped\"><div class=\"sk-label-container\"><div class=\"sk-label sk-toggleable\"><input class=\"sk-toggleable__control sk-hidden--visually\" id=\"sk-estimator-id-9\" type=\"checkbox\" ><label for=\"sk-estimator-id-9\" class=\"sk-toggleable__label sk-toggleable__label-arrow\">GridSearchCV</label><div class=\"sk-toggleable__content\"><pre>GridSearchCV(cv=10, estimator=KNeighborsClassifier(), n_jobs=-1,\n",
              "             param_grid={&#x27;n_neighbors&#x27;: [2, 5, 10, 30, 50, 100, 200, 300]})</pre></div></div></div><div class=\"sk-parallel\"><div class=\"sk-parallel-item\"><div class=\"sk-item\"><div class=\"sk-label-container\"><div class=\"sk-label sk-toggleable\"><input class=\"sk-toggleable__control sk-hidden--visually\" id=\"sk-estimator-id-10\" type=\"checkbox\" ><label for=\"sk-estimator-id-10\" class=\"sk-toggleable__label sk-toggleable__label-arrow\">estimator: KNeighborsClassifier</label><div class=\"sk-toggleable__content\"><pre>KNeighborsClassifier()</pre></div></div></div><div class=\"sk-serial\"><div class=\"sk-item\"><div class=\"sk-estimator sk-toggleable\"><input class=\"sk-toggleable__control sk-hidden--visually\" id=\"sk-estimator-id-11\" type=\"checkbox\" ><label for=\"sk-estimator-id-11\" class=\"sk-toggleable__label sk-toggleable__label-arrow\">KNeighborsClassifier</label><div class=\"sk-toggleable__content\"><pre>KNeighborsClassifier()</pre></div></div></div></div></div></div></div></div></div></div>"
            ],
            "text/plain": [
              "GridSearchCV(cv=10, estimator=KNeighborsClassifier(), n_jobs=-1,\n",
              "             param_grid={'n_neighbors': [2, 5, 10, 30, 50, 100, 200, 300]})"
            ]
          },
          "execution_count": 77,
          "metadata": {},
          "output_type": "execute_result"
        }
      ],
      "source": [
        "model_knn = KNeighborsClassifier()\n",
        "grid_knn = GridSearchCV(model_knn, param_grid, cv=10, n_jobs=-1)\n",
        "grid_knn.fit(X_train_pca, y_train)"
      ]
    },
    {
      "cell_type": "code",
      "execution_count": null,
      "metadata": {
        "colab": {
          "base_uri": "https://localhost:8080/"
        },
        "id": "RvVuZjuVJqUq",
        "outputId": "c0ec22fc-cc6f-488d-8feb-b4de4bec5ac2"
      },
      "outputs": [
        {
          "data": {
            "text/plain": [
              "{'n_neighbors': 100}"
            ]
          },
          "execution_count": 78,
          "metadata": {},
          "output_type": "execute_result"
        }
      ],
      "source": [
        "grid_knn.best_params_"
      ]
    },
    {
      "cell_type": "code",
      "execution_count": null,
      "metadata": {
        "id": "WmSdE0hPJqUq"
      },
      "outputs": [],
      "source": [
        "model_knn = grid_knn.best_estimator_"
      ]
    },
    {
      "cell_type": "code",
      "execution_count": null,
      "metadata": {
        "colab": {
          "base_uri": "https://localhost:8080/"
        },
        "id": "jMDpkfKKJqUq",
        "outputId": "ab6cae84-d242-4e8f-fb6e-e1cfd56de22c"
      },
      "outputs": [
        {
          "name": "stdout",
          "output_type": "stream",
          "text": [
            "Accuracy: 62.18% (+/- 6.28)\n"
          ]
        }
      ],
      "source": [
        "knn_scores = cross_val_score(model_knn, X_val_pca, y_val, cv=10)\n",
        "display_scores(knn_scores)"
      ]
    },
    {
      "cell_type": "markdown",
      "metadata": {
        "id": "OWULu6au_k3p"
      },
      "source": [
        "## SVM"
      ]
    },
    {
      "cell_type": "code",
      "execution_count": null,
      "metadata": {
        "id": "SOXXfOof_moi"
      },
      "outputs": [],
      "source": [
        "from sklearn import svm"
      ]
    },
    {
      "cell_type": "code",
      "execution_count": null,
      "metadata": {
        "id": "FuD7-Kqg_oVM"
      },
      "outputs": [],
      "source": [
        "param_grid = {\n",
        "    'random_state': [42],\n",
        "    'kernel': ['linear'],\n",
        "     'C': [1, 5],\n",
        "    'gamma': [0.1, 1]\n",
        "}"
      ]
    },
    {
      "cell_type": "code",
      "execution_count": null,
      "metadata": {
        "colab": {
          "base_uri": "https://localhost:8080/",
          "height": 118
        },
        "id": "_vIFSWnW_qEm",
        "outputId": "c6ab08cb-aac6-4fed-b1bd-f9c7fca4d642"
      },
      "outputs": [
        {
          "data": {
            "text/html": [
              "<style>#sk-container-id-6 {color: black;background-color: white;}#sk-container-id-6 pre{padding: 0;}#sk-container-id-6 div.sk-toggleable {background-color: white;}#sk-container-id-6 label.sk-toggleable__label {cursor: pointer;display: block;width: 100%;margin-bottom: 0;padding: 0.3em;box-sizing: border-box;text-align: center;}#sk-container-id-6 label.sk-toggleable__label-arrow:before {content: \"▸\";float: left;margin-right: 0.25em;color: #696969;}#sk-container-id-6 label.sk-toggleable__label-arrow:hover:before {color: black;}#sk-container-id-6 div.sk-estimator:hover label.sk-toggleable__label-arrow:before {color: black;}#sk-container-id-6 div.sk-toggleable__content {max-height: 0;max-width: 0;overflow: hidden;text-align: left;background-color: #f0f8ff;}#sk-container-id-6 div.sk-toggleable__content pre {margin: 0.2em;color: black;border-radius: 0.25em;background-color: #f0f8ff;}#sk-container-id-6 input.sk-toggleable__control:checked~div.sk-toggleable__content {max-height: 200px;max-width: 100%;overflow: auto;}#sk-container-id-6 input.sk-toggleable__control:checked~label.sk-toggleable__label-arrow:before {content: \"▾\";}#sk-container-id-6 div.sk-estimator input.sk-toggleable__control:checked~label.sk-toggleable__label {background-color: #d4ebff;}#sk-container-id-6 div.sk-label input.sk-toggleable__control:checked~label.sk-toggleable__label {background-color: #d4ebff;}#sk-container-id-6 input.sk-hidden--visually {border: 0;clip: rect(1px 1px 1px 1px);clip: rect(1px, 1px, 1px, 1px);height: 1px;margin: -1px;overflow: hidden;padding: 0;position: absolute;width: 1px;}#sk-container-id-6 div.sk-estimator {font-family: monospace;background-color: #f0f8ff;border: 1px dotted black;border-radius: 0.25em;box-sizing: border-box;margin-bottom: 0.5em;}#sk-container-id-6 div.sk-estimator:hover {background-color: #d4ebff;}#sk-container-id-6 div.sk-parallel-item::after {content: \"\";width: 100%;border-bottom: 1px solid gray;flex-grow: 1;}#sk-container-id-6 div.sk-label:hover label.sk-toggleable__label {background-color: #d4ebff;}#sk-container-id-6 div.sk-serial::before {content: \"\";position: absolute;border-left: 1px solid gray;box-sizing: border-box;top: 0;bottom: 0;left: 50%;z-index: 0;}#sk-container-id-6 div.sk-serial {display: flex;flex-direction: column;align-items: center;background-color: white;padding-right: 0.2em;padding-left: 0.2em;position: relative;}#sk-container-id-6 div.sk-item {position: relative;z-index: 1;}#sk-container-id-6 div.sk-parallel {display: flex;align-items: stretch;justify-content: center;background-color: white;position: relative;}#sk-container-id-6 div.sk-item::before, #sk-container-id-6 div.sk-parallel-item::before {content: \"\";position: absolute;border-left: 1px solid gray;box-sizing: border-box;top: 0;bottom: 0;left: 50%;z-index: -1;}#sk-container-id-6 div.sk-parallel-item {display: flex;flex-direction: column;z-index: 1;position: relative;background-color: white;}#sk-container-id-6 div.sk-parallel-item:first-child::after {align-self: flex-end;width: 50%;}#sk-container-id-6 div.sk-parallel-item:last-child::after {align-self: flex-start;width: 50%;}#sk-container-id-6 div.sk-parallel-item:only-child::after {width: 0;}#sk-container-id-6 div.sk-dashed-wrapped {border: 1px dashed gray;margin: 0 0.4em 0.5em 0.4em;box-sizing: border-box;padding-bottom: 0.4em;background-color: white;}#sk-container-id-6 div.sk-label label {font-family: monospace;font-weight: bold;display: inline-block;line-height: 1.2em;}#sk-container-id-6 div.sk-label-container {text-align: center;}#sk-container-id-6 div.sk-container {/* jupyter's `normalize.less` sets `[hidden] { display: none; }` but bootstrap.min.css set `[hidden] { display: none !important; }` so we also need the `!important` here to be able to override the default hidden behavior on the sphinx rendered scikit-learn.org. See: https://github.com/scikit-learn/scikit-learn/issues/21755 */display: inline-block !important;position: relative;}#sk-container-id-6 div.sk-text-repr-fallback {display: none;}</style><div id=\"sk-container-id-6\" class=\"sk-top-container\"><div class=\"sk-text-repr-fallback\"><pre>GridSearchCV(cv=10, estimator=SVC(), n_jobs=-1,\n",
              "             param_grid={&#x27;C&#x27;: [1, 5], &#x27;gamma&#x27;: [0.1, 1], &#x27;kernel&#x27;: [&#x27;linear&#x27;],\n",
              "                         &#x27;random_state&#x27;: [42]})</pre><b>In a Jupyter environment, please rerun this cell to show the HTML representation or trust the notebook. <br />On GitHub, the HTML representation is unable to render, please try loading this page with nbviewer.org.</b></div><div class=\"sk-container\" hidden><div class=\"sk-item sk-dashed-wrapped\"><div class=\"sk-label-container\"><div class=\"sk-label sk-toggleable\"><input class=\"sk-toggleable__control sk-hidden--visually\" id=\"sk-estimator-id-12\" type=\"checkbox\" ><label for=\"sk-estimator-id-12\" class=\"sk-toggleable__label sk-toggleable__label-arrow\">GridSearchCV</label><div class=\"sk-toggleable__content\"><pre>GridSearchCV(cv=10, estimator=SVC(), n_jobs=-1,\n",
              "             param_grid={&#x27;C&#x27;: [1, 5], &#x27;gamma&#x27;: [0.1, 1], &#x27;kernel&#x27;: [&#x27;linear&#x27;],\n",
              "                         &#x27;random_state&#x27;: [42]})</pre></div></div></div><div class=\"sk-parallel\"><div class=\"sk-parallel-item\"><div class=\"sk-item\"><div class=\"sk-label-container\"><div class=\"sk-label sk-toggleable\"><input class=\"sk-toggleable__control sk-hidden--visually\" id=\"sk-estimator-id-13\" type=\"checkbox\" ><label for=\"sk-estimator-id-13\" class=\"sk-toggleable__label sk-toggleable__label-arrow\">estimator: SVC</label><div class=\"sk-toggleable__content\"><pre>SVC()</pre></div></div></div><div class=\"sk-serial\"><div class=\"sk-item\"><div class=\"sk-estimator sk-toggleable\"><input class=\"sk-toggleable__control sk-hidden--visually\" id=\"sk-estimator-id-14\" type=\"checkbox\" ><label for=\"sk-estimator-id-14\" class=\"sk-toggleable__label sk-toggleable__label-arrow\">SVC</label><div class=\"sk-toggleable__content\"><pre>SVC()</pre></div></div></div></div></div></div></div></div></div></div>"
            ],
            "text/plain": [
              "GridSearchCV(cv=10, estimator=SVC(), n_jobs=-1,\n",
              "             param_grid={'C': [1, 5], 'gamma': [0.1, 1], 'kernel': ['linear'],\n",
              "                         'random_state': [42]})"
            ]
          },
          "execution_count": 83,
          "metadata": {},
          "output_type": "execute_result"
        }
      ],
      "source": [
        "model_svm = svm.SVC()\n",
        "grid_svm = GridSearchCV(model_svm, param_grid, cv=10, n_jobs=-1)\n",
        "grid_svm.fit(X_train_pca, y_train)"
      ]
    },
    {
      "cell_type": "code",
      "execution_count": null,
      "metadata": {
        "colab": {
          "base_uri": "https://localhost:8080/"
        },
        "id": "RgqUqiDq_scv",
        "outputId": "ee48add4-8358-4ad9-dd8d-db35b4a104ef"
      },
      "outputs": [
        {
          "data": {
            "text/plain": [
              "{'C': 1, 'gamma': 0.1, 'kernel': 'linear', 'random_state': 42}"
            ]
          },
          "execution_count": 84,
          "metadata": {},
          "output_type": "execute_result"
        }
      ],
      "source": [
        "grid_svm.best_params_"
      ]
    },
    {
      "cell_type": "code",
      "execution_count": null,
      "metadata": {
        "id": "T0y3rzv-_tm8"
      },
      "outputs": [],
      "source": [
        "model_svm = grid_svm.best_estimator_"
      ]
    },
    {
      "cell_type": "code",
      "execution_count": null,
      "metadata": {
        "colab": {
          "base_uri": "https://localhost:8080/"
        },
        "id": "GLVXuWc9_uly",
        "outputId": "3e538af0-6408-4a79-eac7-224db2566ca8"
      },
      "outputs": [
        {
          "name": "stdout",
          "output_type": "stream",
          "text": [
            "Accuracy: 66.22% (+/- 8.64)\n"
          ]
        }
      ],
      "source": [
        "svm_scores = cross_val_score(model_svm, X_val_pca, y_val, cv=10)\n",
        "display_scores(svm_scores)"
      ]
    },
    {
      "cell_type": "markdown",
      "metadata": {
        "id": "NNTJYqulLYyu"
      },
      "source": [
        "## XGBoost"
      ]
    },
    {
      "cell_type": "code",
      "execution_count": null,
      "metadata": {
        "colab": {
          "base_uri": "https://localhost:8080/"
        },
        "id": "RKm9wFuULYBO",
        "outputId": "33d48aba-cab4-446e-8a30-36c73ab9f4b0"
      },
      "outputs": [
        {
          "name": "stdout",
          "output_type": "stream",
          "text": [
            "Accuracy: 60.85% (+/- 8.43)\n"
          ]
        }
      ],
      "source": [
        "import xgboost as xgb\n",
        "\n",
        "model_xgb = xgb.XGBClassifier()\n",
        "model_xgb.fit(X_train_pca, y_train)\n",
        "\n",
        "xgb_scores = cross_val_score(model_xgb, X_val_pca, y_val, cv=10)\n",
        "display_scores(xgb_scores)"
      ]
    },
    {
      "cell_type": "markdown",
      "metadata": {
        "id": "LexItroqMVMy"
      },
      "source": [
        "## Gradient Boosting"
      ]
    },
    {
      "cell_type": "code",
      "execution_count": null,
      "metadata": {
        "id": "lj4vqTxhMXYi"
      },
      "outputs": [],
      "source": [
        "from sklearn.ensemble import GradientBoostingClassifier"
      ]
    },
    {
      "cell_type": "code",
      "execution_count": null,
      "metadata": {
        "colab": {
          "base_uri": "https://localhost:8080/"
        },
        "id": "kmq7TH-dMY2N",
        "outputId": "c8c4c6b4-a533-482e-eec4-9e9a3f1b5b5e"
      },
      "outputs": [
        {
          "name": "stdout",
          "output_type": "stream",
          "text": [
            "Accuracy: 62.72% (+/- 12.17)\n"
          ]
        }
      ],
      "source": [
        "model_gb = GradientBoostingClassifier()\n",
        "model_gb.fit(X_train_pca, y_train)\n",
        "\n",
        "gb_scores = cross_val_score(model_gb, X_val_pca, y_val, cv=10)\n",
        "display_scores(gb_scores)"
      ]
    },
    {
      "cell_type": "markdown",
      "metadata": {
        "id": "GqB-OiSOEDKC"
      },
      "source": [
        "# Model Evaluation"
      ]
    },
    {
      "cell_type": "markdown",
      "metadata": {
        "id": "WG26YoIeOm_6"
      },
      "source": [
        "## Validation Set Performance"
      ]
    },
    {
      "cell_type": "code",
      "execution_count": null,
      "metadata": {
        "id": "0ZunPSadLNP_"
      },
      "outputs": [],
      "source": [
        "val_scores = pd.DataFrame({\n",
        "    'RandomForest(No Tags)': rf_scores,\n",
        "    'RandomForest': rf_pca_scores,\n",
        "    'KNN': knn_scores,\n",
        "    'SVM': svm_scores,\n",
        "    'XGBoost': xgb_scores,\n",
        "    'GradientBoosting': gb_scores\n",
        "})"
      ]
    },
    {
      "cell_type": "code",
      "execution_count": null,
      "metadata": {
        "id": "iJCc43uhLNQA",
        "outputId": "77899db0-5181-400f-ce92-ccc0e9717708"
      },
      "outputs": [
        {
          "data": {
            "text/plain": [
              "Text(0.5, 0, 'Model')"
            ]
          },
          "execution_count": 91,
          "metadata": {},
          "output_type": "execute_result"
        },
        {
          "data": {
            "image/png": "[encoded data removed]",
            "text/plain": [
              "<Figure size 640x480 with 1 Axes>"
            ]
          },
          "metadata": {},
          "output_type": "display_data"
        }
      ],
      "source": [
        "sns.barplot(data=val_scores)\n",
        "plt.title('Validation Accuracy of Different Models')\n",
        "plt.xticks(rotation=45)\n",
        "plt.ylabel('Accuracy')\n",
        "plt.xlabel('Model')"
      ]
    },
    {
      "cell_type": "code",
      "execution_count": null,
      "metadata": {
        "id": "N2IBsQ6LLNQA",
        "outputId": "ac3f5b2f-b4d3-4611-9298-76a586fcf787"
      },
      "outputs": [
        {
          "data": {
            "text/html": [
              "<div>\n",
              "<style scoped>\n",
              "    .dataframe tbody tr th:only-of-type {\n",
              "        vertical-align: middle;\n",
              "    }\n",
              "\n",
              "    .dataframe tbody tr th {\n",
              "        vertical-align: top;\n",
              "    }\n",
              "\n",
              "    .dataframe thead th {\n",
              "        text-align: right;\n",
              "    }\n",
              "</style>\n",
              "<table border=\"1\" class=\"dataframe\">\n",
              "  <thead>\n",
              "    <tr style=\"text-align: right;\">\n",
              "      <th>Model</th>\n",
              "      <th>RandomForest(No Tags)</th>\n",
              "      <th>RandomForest</th>\n",
              "      <th>KNN</th>\n",
              "      <th>SVM</th>\n",
              "      <th>XGBoost</th>\n",
              "      <th>GradientBoosting</th>\n",
              "    </tr>\n",
              "  </thead>\n",
              "  <tbody>\n",
              "    <tr>\n",
              "      <th>Accuracy</th>\n",
              "      <td>0.573279</td>\n",
              "      <td>0.670288</td>\n",
              "      <td>0.621802</td>\n",
              "      <td>0.66218</td>\n",
              "      <td>0.60845</td>\n",
              "      <td>0.627243</td>\n",
              "    </tr>\n",
              "  </tbody>\n",
              "</table>\n",
              "</div>"
            ],
            "text/plain": [
              "Model     RandomForest(No Tags)  RandomForest       KNN      SVM  XGBoost  \\\n",
              "Accuracy               0.573279      0.670288  0.621802  0.66218  0.60845   \n",
              "\n",
              "Model     GradientBoosting  \n",
              "Accuracy          0.627243  "
            ]
          },
          "execution_count": 92,
          "metadata": {},
          "output_type": "execute_result"
        }
      ],
      "source": [
        "val_performance = pd.DataFrame({\n",
        "    'Model': ['RandomForest(No Tags)', 'RandomForest', 'KNN',\n",
        "              'SVM', 'XGBoost', 'GradientBoosting'],\n",
        "    'Accuracy': [rf_scores.mean(), rf_pca_scores.mean(), knn_scores.mean(),\n",
        "                 svm_scores.mean(), xgb_scores.mean(), gb_scores.mean()]\n",
        "})\n",
        "val_performance.set_index('Model').T"
      ]
    },
    {
      "cell_type": "markdown",
      "metadata": {
        "id": "MtDDDSyhLNQB"
      },
      "source": [
        "We can see that among the traditional models, Random Forest and SVM with tag information seem to have the best average performance on the validation set, and other models with tag information can all achieve an average accuracy over 61%. The original Random Forest was poor in performance since it had no information about related tags of the prompts."
      ]
    },
    {
      "cell_type": "markdown",
      "metadata": {
        "id": "0pds9n0LPXm5"
      },
      "source": [
        "## Test Set Performance - Final Evaluation"
      ]
    },
    {
      "cell_type": "code",
      "execution_count": null,
      "metadata": {
        "id": "0sqyg4D4D3-d"
      },
      "outputs": [],
      "source": [
        "from sklearn.metrics import classification_report, confusion_matrix"
      ]
    },
    {
      "cell_type": "code",
      "execution_count": null,
      "metadata": {
        "id": "rvx0p3ZoLNQB"
      },
      "outputs": [],
      "source": [
        "test_acc = []"
      ]
    },
    {
      "cell_type": "code",
      "execution_count": null,
      "metadata": {
        "id": "WybOs-LjEymw",
        "outputId": "72bee021-b214-4caf-c1e2-7755e2a44dc6"
      },
      "outputs": [
        {
          "name": "stdout",
          "output_type": "stream",
          "text": [
            "              precision    recall  f1-score   support\n",
            "\n",
            "           0       0.59      0.27      0.37       136\n",
            "           1       0.70      0.32      0.44       155\n",
            "           2       0.60      0.81      0.69       214\n",
            "           3       0.60      0.80      0.69       239\n",
            "\n",
            "    accuracy                           0.61       744\n",
            "   macro avg       0.62      0.55      0.55       744\n",
            "weighted avg       0.62      0.61      0.58       744\n",
            "\n"
          ]
        }
      ],
      "source": [
        "# random forest without tags categories\n",
        "y_pred_rf = model_rf.predict(X_test)\n",
        "test_acc.append((y_pred_rf == y_test).sum() / len(y_test))\n",
        "print(classification_report(y_test, y_pred_rf))"
      ]
    },
    {
      "cell_type": "code",
      "execution_count": null,
      "metadata": {
        "colab": {
          "base_uri": "https://localhost:8080/"
        },
        "id": "2C9B0Y_AGBQN",
        "outputId": "407ad4a1-58d6-486d-f3fe-5a61647a19c0"
      },
      "outputs": [
        {
          "name": "stdout",
          "output_type": "stream",
          "text": [
            "              precision    recall  f1-score   support\n",
            "\n",
            "           0       0.71      0.71      0.71       136\n",
            "           1       0.90      0.23      0.36       155\n",
            "           2       0.66      0.96      0.78       214\n",
            "           3       0.78      0.82      0.80       239\n",
            "\n",
            "    accuracy                           0.72       744\n",
            "   macro avg       0.76      0.68      0.66       744\n",
            "weighted avg       0.75      0.72      0.69       744\n",
            "\n"
          ]
        }
      ],
      "source": [
        "# random forest with PCA and tags categories\n",
        "y_pred_rf_pca = model_rf_pca.predict(X_test_pca)\n",
        "test_acc.append((y_pred_rf_pca == y_test).sum() / len(y_test))\n",
        "print(classification_report(y_test, y_pred_rf_pca))"
      ]
    },
    {
      "cell_type": "code",
      "execution_count": null,
      "metadata": {
        "colab": {
          "base_uri": "https://localhost:8080/"
        },
        "id": "IPfiIh_TK1a0",
        "outputId": "318d4dc0-ac7e-4576-9bbf-7a2e1b5c90f4"
      },
      "outputs": [
        {
          "name": "stdout",
          "output_type": "stream",
          "text": [
            "              precision    recall  f1-score   support\n",
            "\n",
            "           0       0.73      0.70      0.71       136\n",
            "           1       0.79      0.24      0.37       155\n",
            "           2       0.66      0.99      0.79       214\n",
            "           3       0.77      0.80      0.78       239\n",
            "\n",
            "    accuracy                           0.72       744\n",
            "   macro avg       0.74      0.68      0.66       744\n",
            "weighted avg       0.74      0.72      0.69       744\n",
            "\n"
          ]
        }
      ],
      "source": [
        "# KNN with PCA and tags categories\n",
        "y_pred_knn = model_knn.predict(X_test_pca)\n",
        "test_acc.append((y_pred_knn == y_test).sum() / len(y_test))\n",
        "print(classification_report(y_test, y_pred_knn))"
      ]
    },
    {
      "cell_type": "code",
      "execution_count": null,
      "metadata": {
        "colab": {
          "base_uri": "https://localhost:8080/"
        },
        "id": "zNw14o6sHY3x",
        "outputId": "b0192421-7db5-4809-f551-ecee8e287d38"
      },
      "outputs": [
        {
          "name": "stdout",
          "output_type": "stream",
          "text": [
            "              precision    recall  f1-score   support\n",
            "\n",
            "           0       0.70      0.72      0.71       136\n",
            "           1       0.76      0.30      0.43       155\n",
            "           2       0.66      0.96      0.79       214\n",
            "           3       0.81      0.78      0.79       239\n",
            "\n",
            "    accuracy                           0.72       744\n",
            "   macro avg       0.73      0.69      0.68       744\n",
            "weighted avg       0.73      0.72      0.70       744\n",
            "\n"
          ]
        }
      ],
      "source": [
        "# SVM with PCA and tags categories\n",
        "y_pred_svm = model_svm.predict(X_test_pca)\n",
        "test_acc.append((y_pred_svm == y_test).sum() / len(y_test))\n",
        "print(classification_report(y_test, y_pred_svm))"
      ]
    },
    {
      "cell_type": "code",
      "execution_count": null,
      "metadata": {
        "colab": {
          "base_uri": "https://localhost:8080/"
        },
        "id": "G6cB151fH47a",
        "outputId": "6fe57091-3e35-4a59-8ad2-c9a09a884f5c"
      },
      "outputs": [
        {
          "name": "stdout",
          "output_type": "stream",
          "text": [
            "              precision    recall  f1-score   support\n",
            "\n",
            "           0       0.53      0.62      0.58       136\n",
            "           1       0.44      0.33      0.38       155\n",
            "           2       0.58      0.64      0.61       214\n",
            "           3       0.75      0.72      0.74       239\n",
            "\n",
            "    accuracy                           0.60       744\n",
            "   macro avg       0.58      0.58      0.57       744\n",
            "weighted avg       0.60      0.60      0.60       744\n",
            "\n"
          ]
        }
      ],
      "source": [
        "# XGBoost\n",
        "y_pred_xgb = model_xgb.predict(X_test_pca)\n",
        "test_acc.append((y_pred_xgb == y_test).sum() / len(y_test))\n",
        "print(classification_report(y_test, y_pred_xgb))"
      ]
    },
    {
      "cell_type": "code",
      "execution_count": null,
      "metadata": {
        "colab": {
          "base_uri": "https://localhost:8080/"
        },
        "id": "BDsSqkLaMN-k",
        "outputId": "0313f1bb-1845-4961-b34f-62ad94d0a77f"
      },
      "outputs": [
        {
          "name": "stdout",
          "output_type": "stream",
          "text": [
            "              precision    recall  f1-score   support\n",
            "\n",
            "           0       0.64      0.76      0.70       136\n",
            "           1       0.69      0.34      0.45       155\n",
            "           2       0.65      0.84      0.73       214\n",
            "           3       0.81      0.77      0.79       239\n",
            "\n",
            "    accuracy                           0.70       744\n",
            "   macro avg       0.70      0.68      0.67       744\n",
            "weighted avg       0.71      0.70      0.69       744\n",
            "\n"
          ]
        }
      ],
      "source": [
        "# Gradient Boosting\n",
        "y_pred_gb = model_gb.predict(X_test_pca)\n",
        "test_acc.append((y_pred_gb == y_test).sum() / len(y_test))\n",
        "print(classification_report(y_test, y_pred_gb))"
      ]
    },
    {
      "cell_type": "code",
      "execution_count": null,
      "metadata": {
        "colab": {
          "referenced_widgets": [
            "25454a238c144a649f30038b234a84cb"
          ]
        },
        "id": "S6Wb2Sp0LNQD",
        "outputId": "f1410d48-affa-4d27-cadd-74cd0513320f"
      },
      "outputs": [
        {
          "data": {
            "application/vnd.jupyter.widget-view+json": {
              "model_id": "25454a238c144a649f30038b234a84cb",
              "version_major": 2,
              "version_minor": 0
            },
            "text/plain": [
              "  0%|          | 0/372 [00:00<?, ?it/s]"
            ]
          },
          "metadata": {},
          "output_type": "display_data"
        },
        {
          "name": "stdout",
          "output_type": "stream",
          "text": [
            "Test Accuracy:  0.800\n",
            "              precision    recall  f1-score   support\n",
            "\n",
            "           0       0.88      0.57      0.69       136\n",
            "           1       0.91      0.62      0.74       155\n",
            "           2       0.66      0.97      0.78       214\n",
            "           3       0.91      0.89      0.90       239\n",
            "\n",
            "    accuracy                           0.80       744\n",
            "   macro avg       0.84      0.76      0.78       744\n",
            "weighted avg       0.83      0.80      0.80       744\n",
            "\n"
          ]
        }
      ],
      "source": [
        "# Bert\n",
        "model = BertClassifier_l4()\n",
        "model.load_state_dict(torch.load(\n",
        "    'model_l4_e20_tag_related_title_no_pun_lrelu_lrelu_lrelu_softmax.pt',\n",
        "      map_location='cuda' if torch.cuda.is_available() else 'cpu'))\n",
        "bert_acc, y_pred_bert = evaluate(model, data_test)\n",
        "test_acc.append(bert_acc)\n",
        "print(classification_report(y_test, y_pred_bert))"
      ]
    },
    {
      "cell_type": "code",
      "execution_count": null,
      "metadata": {
        "id": "nFQar_OlLNQD",
        "outputId": "4c2d6016-c20a-4f9b-bc69-5f6a8fdb3c23"
      },
      "outputs": [
        {
          "data": {
            "text/plain": [
              "Text(0.5, 0, 'Model')"
            ]
          },
          "execution_count": 102,
          "metadata": {},
          "output_type": "execute_result"
        },
        {
          "data": {
            "image/png": "[encoded data removed]",
            "text/plain": [
              "<Figure size 640x480 with 1 Axes>"
            ]
          },
          "metadata": {},
          "output_type": "display_data"
        }
      ],
      "source": [
        "models = ['RandomForest(No Tags)', 'RandomForest', 'KNN', 'SVM', 'XGBoost',\n",
        "            'GradientBoosting', 'Bert']\n",
        "ax = sns.barplot(x=models, y=test_acc)\n",
        "for i in ax.containers:\n",
        "    ax.bar_label(i, fmt='%.2f')\n",
        "plt.title('Test Accuracy of Different Models')\n",
        "plt.xticks(rotation=45)\n",
        "plt.ylabel('Accuracy')\n",
        "plt.xlabel('Model')"
      ]
    },
    {
      "cell_type": "code",
      "execution_count": null,
      "metadata": {
        "id": "aqqZybN-LNQE",
        "outputId": "b6e8af19-f5e2-4497-d6ee-5066bc93fe8d"
      },
      "outputs": [
        {
          "data": {
            "text/html": [
              "<div>\n",
              "<style scoped>\n",
              "    .dataframe tbody tr th:only-of-type {\n",
              "        vertical-align: middle;\n",
              "    }\n",
              "\n",
              "    .dataframe tbody tr th {\n",
              "        vertical-align: top;\n",
              "    }\n",
              "\n",
              "    .dataframe thead th {\n",
              "        text-align: right;\n",
              "    }\n",
              "</style>\n",
              "<table border=\"1\" class=\"dataframe\">\n",
              "  <thead>\n",
              "    <tr style=\"text-align: right;\">\n",
              "      <th>Model</th>\n",
              "      <th>RandomForest(No Tags)</th>\n",
              "      <th>RandomForest</th>\n",
              "      <th>KNN</th>\n",
              "      <th>SVM</th>\n",
              "      <th>XGBoost</th>\n",
              "      <th>GradientBoosting</th>\n",
              "      <th>Bert</th>\n",
              "    </tr>\n",
              "  </thead>\n",
              "  <tbody>\n",
              "    <tr>\n",
              "      <th>Accuracy</th>\n",
              "      <td>0.607527</td>\n",
              "      <td>0.719086</td>\n",
              "      <td>0.717742</td>\n",
              "      <td>0.721774</td>\n",
              "      <td>0.600806</td>\n",
              "      <td>0.700269</td>\n",
              "      <td>0.799731</td>\n",
              "    </tr>\n",
              "  </tbody>\n",
              "</table>\n",
              "</div>"
            ],
            "text/plain": [
              "Model     RandomForest(No Tags)  RandomForest       KNN       SVM   XGBoost  \\\n",
              "Accuracy               0.607527      0.719086  0.717742  0.721774  0.600806   \n",
              "\n",
              "Model     GradientBoosting      Bert  \n",
              "Accuracy          0.700269  0.799731  "
            ]
          },
          "execution_count": 103,
          "metadata": {},
          "output_type": "execute_result"
        }
      ],
      "source": [
        "performance = pd.DataFrame({\n",
        "    'Model': models,\n",
        "    'Accuracy': test_acc\n",
        "})\n",
        "performance.set_index('Model').T"
      ]
    },
    {
      "cell_type": "markdown",
      "metadata": {
        "id": "OIAw-P64LNQE"
      },
      "source": [
        " It turns out that on the test set, traditional classification models didn’t have better performance than our newly-introduced model BERT. While models like Random Forest, KNN and SVM could achieve accuracy of around 0.72, they performed badly at the recall rate. For most models, the recall rates were below 0.35 for category 1. However, BERT as a more comprehensive and complicated model, could achieve accuracy of 80% while remaining the recall rate to be greater than 0.5. This shows the strength and advantage of this state-of-art model in our classification task."
      ]
    },
    {
      "cell_type": "code",
      "execution_count": null,
      "metadata": {
        "id": "DmqH5V9aLNQE"
      },
      "outputs": [],
      "source": []
    }
  ],
  "metadata": {
    "accelerator": "GPU",
    "colab": {
      "provenance": [],
      "toc_visible": true
    },
    "kaggle": {
      "accelerator": "gpu",
      "dataSources": [
        {
          "datasetId": 4099429,
          "sourceId": 7110016,
          "sourceType": "datasetVersion"
        }
      ],
      "dockerImageVersionId": 30587,
      "isGpuEnabled": true,
      "isInternetEnabled": true,
      "language": "python",
      "sourceType": "notebook"
    },
    "kernelspec": {
      "display_name": "Python 3",
      "name": "python3"
    },
    "language_info": {
      "codemirror_mode": {
        "name": "ipython",
        "version": 3
      },
      "file_extension": ".py",
      "mimetype": "text/x-python",
      "name": "python",
      "nbconvert_exporter": "python",
      "pygments_lexer": "ipython3",
      "version": "3.10.9"
    },
    "widgets": {
      "application/vnd.jupyter.widget-state+json": {}
    }
  },
  "nbformat": 4,
  "nbformat_minor": 0
}